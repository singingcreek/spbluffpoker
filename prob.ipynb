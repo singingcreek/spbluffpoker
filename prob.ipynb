{
 "cells": [
  {
   "cell_type": "code",
   "execution_count": 75,
   "metadata": {},
   "outputs": [],
   "source": [
    "import math\n",
    "\n",
    "def choose(n, r, k):\n",
    "    return math.factorial(n)//math.factorial(r)//math.factorial(k)//math.factorial(n-r-k)\n",
    "\n",
    "epsilon = 0.1\n",
    "MAX = 4\n",
    "#alpha = [1, 2, 3, 4, 5, 6, 7, 8, 9, 10, 11, 12, 13]\n",
    "\n",
    "playercards = [0, 0, 0, 0, 0, 3, 2, 0, 0, 0, 0, 0, 0]\n",
    "alpha = [1, 1, 4, 1, 1, 4, 1, 1, 1, 1, 1, 1, 1]"
   ]
  },
  {
   "cell_type": "code",
   "execution_count": 76,
   "metadata": {},
   "outputs": [],
   "source": [
    "def probTwocards(p1, p2, count1, count2, total): #p1: probability of first card, p2: probability of second, count1: number you want of first, count2: number you want of second, total: total num of cards\n",
    "    max = MAX*2\n",
    "    if count1+count2>max or count1+count2>total:\n",
    "        return 0\n",
    "    #elif total > max:\n",
    "        #return choose(max, count1, count2)* (p1)**count1*(p2)**count2*(1-(p1+p2))**(max-count1-count2)\n",
    "    else:\n",
    "        return choose(total, count1, count2)* (p1)**count1*(p2)**count2*(1-(p1+p2))**(total-count1-count2)\n",
    "\n",
    "    \n",
    "def probOnecard(p, count, total):  #p: probability, count: number you want, total: total number of cards\n",
    "    max = MAX\n",
    "    if count>max or count>total:\n",
    "        return 0\n",
    "    #elif num > max:\n",
    "        #return choose(max, count, 0)* (p)**count*(1-(p))**(max-count)\n",
    "    else:\n",
    "        return choose(total, count, 0)* (p)**count*(1-(p))**(total-count)\n",
    "\n",
    "def twotype(count1, count2, card1, card2, num): #count: number you want, card: card index, num: number of cards\n",
    "    p1 = (alpha[card1] + 1)/(sum(alpha)+1)\n",
    "    p2 = (alpha[card2] + 1)/(sum(alpha)+1) \n",
    "    prob = 0\n",
    "    for i in range(max(count1-playercards[card1], 0), 5-playercards[card1]):\n",
    "        for j in range(max(count2-playercards[card2], 0), 5-playercards[card2]):\n",
    "            prob = prob + probTwocards(p1, p2, i, j, num)\n",
    "    \n",
    "    return prob\n",
    "\n",
    "def onetype(count, card, num):\n",
    "    p = (alpha[card] + 1)/(sum(alpha)+1)\n",
    "    prob=0\n",
    "    for i in range(max(count-playercards[card], 0), 5-playercards[card]):\n",
    "        prob = prob+probOnecard(p, i, num)\n",
    "    return min(prob, 1)\n",
    "\n",
    "def straight(card, num):\n",
    "    p = (alpha[card] + 1)/(sum(alpha)+1)\n",
    "    prob = 1\n",
    "    for i in range(card, card+4):\n",
    "        prob = prob*probOnecard(p, 1, num)\n",
    "    return prob"
   ]
  },
  {
   "cell_type": "code",
   "execution_count": 84,
   "metadata": {},
   "outputs": [],
   "source": [
    "twotypeprob = [[[0 for x in range(13)] for y in range(13)] for z in range(1, 4)]\n",
    "onetypeprob = [[0 for x in range(13)] for y in range(1, 5)] \n",
    "\n",
    "def updateTwoType():\n",
    "    \n",
    "    largest = twotype(2, 2, 0, 1, 8)\n",
    "    ind = [0, 0, 0]\n",
    "    for k in range(0, 3):\n",
    "        for i in range(0, 13):\n",
    "            for j in range(0, 13):\n",
    "                l = twotype(k+2, max(k+1, 2), i, j, 8)\n",
    "                twotypeprob[k][i][j] = l\n",
    "                if(l> largest):\n",
    "                    largest = l\n",
    "                    ind = [k, i, j]\n",
    "                    \n",
    "def updateOneType():\n",
    "    largestone = onetype(1, 0, 8)\n",
    "    indone = [0, 0]\n",
    "    for k in range(0, 4):\n",
    "        for i in range(0, 13):\n",
    "            l = onetype(k, i, 8)\n",
    "            onetypeprob[k][i] = l\n",
    "            if(l> largestone):\n",
    "                largestone = l\n",
    "                indone = [k, i]\n",
    "            \n",
    "            "
   ]
  },
  {
   "cell_type": "code",
   "execution_count": 78,
   "metadata": {},
   "outputs": [
    {
     "data": {
      "text/plain": [
       "0.3445628047265626"
      ]
     },
     "execution_count": 78,
     "metadata": {},
     "output_type": "execute_result"
    }
   ],
   "source": [
    "twotype(3, 2, 5, 6, 8)"
   ]
  },
  {
   "cell_type": "code",
   "execution_count": 79,
   "metadata": {},
   "outputs": [
    {
     "data": {
      "text/plain": [
       "3"
      ]
     },
     "execution_count": 79,
     "metadata": {},
     "output_type": "execute_result"
    }
   ],
   "source": [
    "playercards[5]"
   ]
  },
  {
   "cell_type": "code",
   "execution_count": 83,
   "metadata": {},
   "outputs": [
    {
     "data": {
      "text/plain": [
       "0.016796159999999994"
      ]
     },
     "execution_count": 83,
     "metadata": {},
     "output_type": "execute_result"
    }
   ],
   "source": [
    "probTwocards(0.2, 0.2, 0, 0, 8)\n",
    "    "
   ]
  },
  {
   "cell_type": "code",
   "execution_count": 10,
   "metadata": {},
   "outputs": [],
   "source": []
  },
  {
   "cell_type": "code",
   "execution_count": 15,
   "metadata": {},
   "outputs": [
    {
     "data": {
      "text/plain": [
       "0.0038820301783264737"
      ]
     },
     "execution_count": 15,
     "metadata": {},
     "output_type": "execute_result"
    }
   ],
   "source": [
    "twotype(3, 2, 1, 2, 6, alpha)"
   ]
  },
  {
   "cell_type": "code",
   "execution_count": 16,
   "metadata": {},
   "outputs": [
    {
     "data": {
      "text/plain": [
       "0.02230568510897728"
      ]
     },
     "execution_count": 16,
     "metadata": {},
     "output_type": "execute_result"
    }
   ],
   "source": [
    "twotype(3, 2, 1, 2, 14, alpha)"
   ]
  },
  {
   "cell_type": "code",
   "execution_count": 135,
   "metadata": {},
   "outputs": [
    {
     "data": {
      "text/plain": [
       "0.9375"
      ]
     },
     "execution_count": 135,
     "metadata": {},
     "output_type": "execute_result"
    }
   ],
   "source": [
    "probOnecard(0.5, 1, 10)+probOnecard(0.5, 2, 10)+probOnecard(0.5, 3, 10)+probOnecard(0.5, 4, 10)"
   ]
  },
  {
   "cell_type": "code",
   "execution_count": 16,
   "metadata": {},
   "outputs": [
    {
     "data": {
      "text/plain": [
       "0.2622661335000001"
      ]
     },
     "execution_count": 16,
     "metadata": {},
     "output_type": "execute_result"
    }
   ],
   "source": [
    "onetype(2, 10, 10)"
   ]
  }
 ],
 "metadata": {
  "kernelspec": {
   "display_name": "Python 3",
   "language": "python",
   "name": "python3"
  },
  "language_info": {
   "codemirror_mode": {
    "name": "ipython",
    "version": 3
   },
   "file_extension": ".py",
   "mimetype": "text/x-python",
   "name": "python",
   "nbconvert_exporter": "python",
   "pygments_lexer": "ipython3",
   "version": "3.6.3"
  }
 },
 "nbformat": 4,
 "nbformat_minor": 2
}
