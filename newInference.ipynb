{
 "cells": [
  {
   "cell_type": "code",
   "execution_count": 7,
   "metadata": {},
   "outputs": [],
   "source": [
    "import math\n",
    "#import numpy\n",
    "import autograd.numpy as np\n",
    "from autograd import elementwise_grad\n",
    "from scipy.special import comb\n",
    "import itertools"
   ]
  },
  {
   "cell_type": "code",
   "execution_count": 72,
   "metadata": {},
   "outputs": [],
   "source": [
    "state = np.array([1.0, 2, 3, 4, 5, 6, 7, 8, 9])\n",
    "numcards = 8\n",
    "ownCards = np.array([1.0, 0, 0, 0, 0, 0, 0, 0, 0])\n",
    "factor = 1\n",
    "\n",
    "calls = np.array([[-1, -1, -1, -1, -1],\n",
    "                  [ 0, -1, -1, -1, -1],\n",
    "                  [ 1, -1,  2, -1, -1],\n",
    "                  [ 3, -1,  4, -1, -1],\n",
    "                  [ 5, -1, -1,  6, -1]])\n",
    "\n",
    "def findCall(num):\n",
    "    for i in range(calls.size):\n",
    "        for j in range(calls[0].size):\n",
    "            if calls[i][j] == num:\n",
    "                return [i, j]"
   ]
  },
  {
   "cell_type": "code",
   "execution_count": 9,
   "metadata": {},
   "outputs": [],
   "source": [
    "def oneCardProbabilities(state):\n",
    "    total = np.sum(state)\n",
    "    oneCardProb = (state+1)/(total+1)\n",
    "    return oneCardProb"
   ]
  },
  {
   "cell_type": "code",
   "execution_count": 65,
   "metadata": {},
   "outputs": [],
   "source": [
    "def twotypeCall(state, numcards, countOne, countTwo, typeOne, typeTwo):\n",
    "    return twotype(state, numcards, countOne, countTwo)[typeOne][typeTwo]\n",
    "\n",
    "def twotype(state, numcards, countOne, countTwo):\n",
    "    prob = oneCardProbabilities(state)\n",
    "    #probPairs = np.array(np.meshgrid(prob,prob)) # so that it has shape (2,13,13)\n",
    "    probPairs = np.transpose(np.reshape(np.array(list(map(np.array,itertools.product(prob,prob)))),(9,9,2)),(2,0,1))\n",
    "    \n",
    "             #print(probPairs.shape)\n",
    "#     probabilities = np.zeroes([len(state), len(state)])\n",
    "#     for i in range(len(state)):\n",
    "#         for j in range(len(state)):\n",
    "#             twopairprob(probPairs[i, j], numcards)\n",
    "    \n",
    "    return twotypeprob(probPairs, numcards, countOne, countTwo)\n",
    "\n",
    "def twotypeprob(p, numcards, countCardOne, countCardTwo):\n",
    "    prob = 0\n",
    "    for i in range(countCardOne, 5):\n",
    "        for j in range(countCardTwo, 5):\n",
    "            prob = prob + comb(numcards, i) * comb(numcards-i, j) * (p[0])**i*(p[1])**j*(1-(p[0]+p[1]))**(numcards-(i+j))\n",
    "    return prob\n",
    "            \n",
    "\n",
    "def onetypeCall(state, numcards, count, cardType):\n",
    "    return onetype(state, numcards, count)[cardType]\n",
    "    \n",
    "def onetype(state, numcards, count):\n",
    "    prob = oneCardProbabilities(state)\n",
    "    return onetypeprob(prob, numcards, count)\n",
    "    \n",
    "def onetypeprob(p, numcards, countCard):\n",
    "    prob = 0\n",
    "    for i in range(countCard, 5):\n",
    "        prob = prob + comb(numcards, i)* p**i * (1-p)**(numcards-i)\n",
    "    return prob"
   ]
  },
  {
   "cell_type": "code",
   "execution_count": 34,
   "metadata": {},
   "outputs": [],
   "source": [
    "pgrad = elementwise_grad(twotypeCall)"
   ]
  },
  {
   "cell_type": "code",
   "execution_count": 35,
   "metadata": {},
   "outputs": [
    {
     "data": {
      "text/plain": [
       "array([ 0.00696966, -0.00060829, -0.00060829, -0.00060829,  0.00152857,\n",
       "       -0.00060829, -0.00060829, -0.00060829, -0.00060829])"
      ]
     },
     "execution_count": 35,
     "metadata": {},
     "output_type": "execute_result"
    }
   ],
   "source": [
    "pgrad(state, numcards, 2, 2, 0, 4)"
   ]
  },
  {
   "cell_type": "code",
   "execution_count": 36,
   "metadata": {},
   "outputs": [],
   "source": [
    "pograd = elementwise_grad(onetypeCall)"
   ]
  },
  {
   "cell_type": "code",
   "execution_count": 38,
   "metadata": {},
   "outputs": [
    {
     "data": {
      "text/plain": [
       "array([-0.00429789, -0.00429789, -0.00429789, -0.00429789,  0.02865249,\n",
       "       -0.00429789, -0.00429789, -0.00429789, -0.00429789])"
      ]
     },
     "execution_count": 38,
     "metadata": {},
     "output_type": "execute_result"
    }
   ],
   "source": [
    "pograd(state, numcards, 2, 4)"
   ]
  },
  {
   "cell_type": "code",
   "execution_count": 15,
   "metadata": {},
   "outputs": [],
   "source": [
    "def updateParameters(call, state, factor, numcards):\n",
    "    if(call[1] == 0):\n",
    "        grad = pograd(state, numcards, call[0], call[2])\n",
    "    else:\n",
    "        grad= pgrad(state, numcards, call[0], call[1], call[2], call[3])\n",
    "    \n",
    "    return state + factor*grad\n",
    "    "
   ]
  },
  {
   "cell_type": "code",
   "execution_count": 16,
   "metadata": {},
   "outputs": [
    {
     "data": {
      "text/plain": [
       "array([1., 2., 3., 4., 5., 6., 7., 8., 9.])"
      ]
     },
     "execution_count": 16,
     "metadata": {},
     "output_type": "execute_result"
    }
   ],
   "source": [
    "state"
   ]
  },
  {
   "cell_type": "code",
   "execution_count": 17,
   "metadata": {},
   "outputs": [],
   "source": [
    "state = updateParameters(np.array([3, 2, 0, 4]), state, factor, numcards)\n"
   ]
  },
  {
   "cell_type": "code",
   "execution_count": 18,
   "metadata": {},
   "outputs": [
    {
     "data": {
      "text/plain": [
       "array([1.00058538, 1.99995808, 2.99995808, 3.99995808, 5.00007037,\n",
       "       5.99995808, 6.99995808, 7.99995808, 8.99995808])"
      ]
     },
     "execution_count": 18,
     "metadata": {},
     "output_type": "execute_result"
    }
   ],
   "source": [
    "state"
   ]
  },
  {
   "cell_type": "code",
   "execution_count": 40,
   "metadata": {},
   "outputs": [
    {
     "data": {
      "text/plain": [
       "array([ 6.78143521e-04, -5.04149914e-05, -5.04149914e-05, -5.04149914e-05,\n",
       "        9.31773844e-05, -5.04149914e-05, -5.04149914e-05, -5.04149914e-05,\n",
       "       -5.04149914e-05])"
      ]
     },
     "execution_count": 40,
     "metadata": {},
     "output_type": "execute_result"
    }
   ],
   "source": [
    "pgrad(state, numcards, 3, 2, 0, 4)"
   ]
  },
  {
   "cell_type": "code",
   "execution_count": 84,
   "metadata": {},
   "outputs": [],
   "source": [
    "def makeCall(call, state, numcards, calls):  #not quite\n",
    "    allCallProb = [onetype(state, numcards, 1), onetype(state, numcards, 2), twotype(state, numcards, 2, 2), onetype(state, numcards, 3), twotype(state, numcards, 3, 2), onetype(state, numcards, 4), twotype(state, numcards, 4, 3)]\n",
    "    ind = calls[call[0]][call[1]]\n",
    "    bestCall = [-1, -1, -1, -1, 0]\n",
    "    for i in range(ind+1, len(allCallProb)):  #call strength\n",
    "        for j in range(allCallProb[i].shape[0]):  #level within call\n",
    "            if len(allCallProb[i].shape) > 1:\n",
    "                for k in range(allCallProb[i][j].shape[0]):\n",
    "                    prob = allCallProb[i][j][k]\n",
    "                    if(prob > bestCall[4]):\n",
    "                        call = findCall(i)\n",
    "                        bestCall = [call[0], call[1], j, k, prob]\n",
    "                    \n",
    "            else:\n",
    "                \n",
    "                prob = allCallProb[i][j]\n",
    "                if(prob > bestCall[4]):\n",
    "                    call = findCall(i)\n",
    "                    bestCall = [call[0], call[1], j, -1, prob]\n",
    "    return bestCall\n",
    "    "
   ]
  },
  {
   "cell_type": "code",
   "execution_count": 88,
   "metadata": {},
   "outputs": [],
   "source": [
    "def makeDecision(call, state, numcards, calls):\n",
    "    #somewhat unnecessary\n",
    "    allCallProb = [onetype(state, numcards, 1), onetype(state, numcards, 2), twotype(state, numcards, 2, 2), onetype(state, numcards, 3), twotype(state, numcards, 3, 2), onetype(state, numcards, 4), twotype(state, numcards, 4, 3)]\n",
    "    \n",
    "    ownCall = makeCall(call, state, numcards, calls)\n",
    "    oppCallProb = 0\n",
    "    if(call[1] == 0):\n",
    "        oppCallProb = allCallProb[calls[call[0]][call[1]]][call[2]]\n",
    "    else:\n",
    "        oppCallProb = allCallProb[calls[call[0]][call[1]]][call[2]][call[3]]\n",
    "    \n",
    "    if(ownCall[4] > 1-oppCallProb):\n",
    "        return 0\n",
    "    else:\n",
    "        return 1"
   ]
  },
  {
   "cell_type": "code",
   "execution_count": 22,
   "metadata": {},
   "outputs": [
    {
     "data": {
      "text/plain": [
       "array([1.00058538, 1.99995808, 2.99995808, 3.99995808, 5.00007037,\n",
       "       5.99995808, 6.99995808, 7.99995808, 8.99995808])"
      ]
     },
     "execution_count": 22,
     "metadata": {},
     "output_type": "execute_result"
    }
   ],
   "source": [
    "state"
   ]
  },
  {
   "cell_type": "code",
   "execution_count": 29,
   "metadata": {},
   "outputs": [],
   "source": [
    "x = np.array([1,2])"
   ]
  },
  {
   "cell_type": "code",
   "execution_count": 47,
   "metadata": {},
   "outputs": [
    {
     "data": {
      "text/plain": [
       "array([1., 2., 3., 4., 5., 6., 7., 8., 9.])"
      ]
     },
     "execution_count": 47,
     "metadata": {},
     "output_type": "execute_result"
    }
   ],
   "source": [
    "state"
   ]
  },
  {
   "cell_type": "code",
   "execution_count": 80,
   "metadata": {},
   "outputs": [
    {
     "data": {
      "text/plain": [
       "[4, 0, 8, -1, 0.058646944404034874]"
      ]
     },
     "execution_count": 80,
     "metadata": {},
     "output_type": "execute_result"
    }
   ],
   "source": [
    "makeCall(np.array([3, 2, 2, 1]), state, numcards, calls)"
   ]
  },
  {
   "cell_type": "code",
   "execution_count": 89,
   "metadata": {},
   "outputs": [
    {
     "data": {
      "text/plain": [
       "1"
      ]
     },
     "execution_count": 89,
     "metadata": {},
     "output_type": "execute_result"
    }
   ],
   "source": [
    "makeDecision(np.array([3,2,2,1]), state, numcards, calls)"
   ]
  },
  {
   "cell_type": "code",
   "execution_count": 83,
   "metadata": {},
   "outputs": [
    {
     "data": {
      "text/plain": [
       "[array([0.29924923, 0.41692205, 0.5167949 , 0.60106232, 0.67159926,\n",
       "        0.72998715, 0.77754278, 0.81534928, 0.84428811]),\n",
       " array([0.0444336 , 0.09151438, 0.14880801, 0.21247884, 0.27931713,\n",
       "        0.3466529 , 0.41228246, 0.47440618, 0.5315759 ]),\n",
       " array([[0.00118353, 0.00250499, 0.00418648, 0.00614532, 0.00830759,\n",
       "         0.0106074 , 0.01298629, 0.0153925 , 0.01778043],\n",
       "        [0.00250499, 0.00529698, 0.00884427, 0.01296992, 0.01751608,\n",
       "         0.02234237, 0.0273244 , 0.03235237, 0.03732973],\n",
       "        [0.00418648, 0.00884427, 0.01475284, 0.02161332, 0.02915955,\n",
       "         0.03715532, 0.04539177, 0.05368492, 0.06187346],\n",
       "        [0.00614532, 0.01296992, 0.02161332, 0.03163207, 0.04263204,\n",
       "         0.05426414, 0.06622039, 0.07823015, 0.0900567 ],\n",
       "        [0.00830759, 0.01751608, 0.02915955, 0.04263204, 0.05739603,\n",
       "         0.07297647, 0.08895517, 0.10496557, 0.12068781],\n",
       "        [0.0106074 , 0.02234237, 0.03715532, 0.05426414, 0.07297647,\n",
       "         0.09268174, 0.11284374, 0.13299358, 0.15272322],\n",
       "        [0.01298629, 0.0273244 , 0.04539177, 0.06622039, 0.08895517,\n",
       "         0.11284374, 0.13722689, 0.16152969, 0.18525319],\n",
       "        [0.0153925 , 0.03235237, 0.05368492, 0.07823015, 0.10496557,\n",
       "         0.13299358, 0.16152969, 0.1898915 , 0.21748853],\n",
       "        [0.01778043, 0.03732973, 0.06187346, 0.0900567 , 0.12068781,\n",
       "         0.15272322, 0.18525319, 0.21748853, 0.24874839]]),\n",
       " array([0.00389474, 0.01205437, 0.02614571, 0.04662004, 0.07336902,\n",
       "        0.10584036, 0.14314328, 0.18414381, 0.22755014]),\n",
       " array([[7.18950219e-05, 1.54451535e-04, 2.62026074e-04, 3.90478223e-04,\n",
       "         5.35971931e-04, 6.94962101e-04, 8.64181184e-04, 1.04062577e-03,\n",
       "         1.22154318e-03],\n",
       "        [2.30097998e-04, 4.93906205e-04, 8.37194182e-04, 1.24651861e-03,\n",
       "         1.70944304e-03, 2.21449261e-03, 2.75110885e-03, 3.30960438e-03,\n",
       "         3.88111767e-03],\n",
       "        [5.16600830e-04, 1.10792042e-03, 1.87630177e-03, 2.79111544e-03,\n",
       "         3.82407039e-03, 4.94910668e-03, 6.14228819e-03, 7.38169540e-03,\n",
       "         8.64731809e-03],\n",
       "        [9.54491227e-04, 2.04517093e-03, 3.46033229e-03, 5.14252483e-03,\n",
       "         7.03877092e-03, 9.10035627e-03, 1.12826205e-02, 1.35447474e-02,\n",
       "         1.58495559e-02],\n",
       "        [1.55824690e-03, 3.33563999e-03, 5.63821587e-03, 8.37072755e-03,\n",
       "         1.14454942e-02, 1.47820393e-02, 1.83067282e-02, 2.19524066e-02,\n",
       "         2.56580382e-02],\n",
       "        [2.33454339e-03, 4.99240288e-03, 8.42995333e-03, 1.25022265e-02,\n",
       "         1.70760104e-02, 2.20292741e-02, 2.72505932e-02, 3.26385747e-02,\n",
       "         3.81012823e-02],\n",
       "        [3.28304182e-03, 7.01337007e-03, 1.18296599e-02, 1.75247189e-02,\n",
       "         2.39085170e-02, 3.08073284e-02, 3.80628734e-02, 4.55314603e-02,\n",
       "         5.30831273e-02],\n",
       "        [4.39715647e-03, 9.38298420e-03, 1.58085282e-02, 2.33916418e-02,\n",
       "         3.18740645e-02, 4.10202005e-02, 5.06158970e-02, 6.04672218e-02,\n",
       "         7.03992422e-02],\n",
       "        [5.66480231e-03, 1.20738718e-02, 2.03177114e-02, 3.00265933e-02,\n",
       "         4.08628015e-02, 5.25189558e-02, 6.47163355e-02, 7.72032042e-02,\n",
       "         8.97531327e-02]]),\n",
       " array([0.00020939, 0.00096693, 0.00278146, 0.00616667, 0.01158458,\n",
       "        0.01939483, 0.02982152, 0.04293508, 0.05864694]),\n",
       " array([[7.59791232e-08, 2.51904314e-07, 5.86380057e-07, 1.12432342e-06,\n",
       "         1.90662906e-06, 2.97016918e-06, 4.34779359e-06, 6.06832966e-06,\n",
       "         8.15658235e-06],\n",
       "        [3.75593857e-07, 1.24472030e-06, 2.89614540e-06, 5.55047398e-06,\n",
       "         9.40794733e-06, 1.46484432e-05, 2.14314760e-05, 2.98961963e-05,\n",
       "         4.01613913e-05],\n",
       "        [1.15845816e-06, 3.83739266e-06, 8.92441843e-06, 1.70953027e-05,\n",
       "         2.89614540e-05, 4.50699220e-05, 6.59033976e-05, 9.18802129e-05,\n",
       "         1.23354341e-04],\n",
       "        [2.75843324e-06, 9.13294550e-06, 2.12294609e-05, 4.06454265e-05,\n",
       "         6.88211635e-05, 1.07039867e-04, 1.56427607e-04, 2.17953325e-04,\n",
       "         2.92428841e-04],\n",
       "        [5.57507990e-06, 1.84493513e-05, 4.28629520e-05, 8.20197428e-05,\n",
       "         1.38797768e-04, 2.15749257e-04, 3.15100620e-04, 4.38752453e-04,\n",
       "         5.88279535e-04],\n",
       "        [1.00602505e-05, 3.32742784e-05, 7.72627235e-05, 1.47759929e-04,\n",
       "         2.49896621e-04, 3.88199914e-04, 5.66593305e-04, 7.88396677e-04,\n",
       "         1.05632630e-03],\n",
       "        [1.67046806e-05, 5.52198390e-05, 1.28145495e-04, 2.44920938e-04,\n",
       "         4.13955716e-04, 6.42629636e-04, 9.37292766e-04, 1.30326543e-03,\n",
       "         1.74483822e-03],\n",
       "        [2.60245816e-05, 8.59773369e-05, 1.99399611e-04, 3.80861504e-04,\n",
       "         6.43283671e-04, 9.97937322e-04, 1.45444422e-03, 2.02077669e-03,\n",
       "         2.70325759e-03],\n",
       "        [3.85482316e-05, 1.27272015e-04, 2.94977772e-04, 5.63034633e-04,\n",
       "         9.50297710e-04, 1.47310810e-03, 2.14529289e-03, 2.97816515e-03,\n",
       "         3.98052392e-03]])]"
      ]
     },
     "execution_count": 83,
     "metadata": {},
     "output_type": "execute_result"
    }
   ],
   "source": [
    "allCallProb"
   ]
  },
  {
   "cell_type": "code",
   "execution_count": 64,
   "metadata": {},
   "outputs": [
    {
     "data": {
      "text/plain": [
       "array([0.0442242 , 0.09054745, 0.14602655, 0.20631217, 0.26773255,\n",
       "       0.32725807, 0.38246095, 0.43147109, 0.47292896])"
      ]
     },
     "execution_count": 64,
     "metadata": {},
     "output_type": "execute_result"
    }
   ],
   "source": [
    "onetypeprob(prob, numcards, 2)"
   ]
  },
  {
   "cell_type": "code",
   "execution_count": 61,
   "metadata": {},
   "outputs": [],
   "source": [
    "prob = oneCardProbabilities(state)"
   ]
  },
  {
   "cell_type": "code",
   "execution_count": 62,
   "metadata": {},
   "outputs": [
    {
     "data": {
      "text/plain": [
       "array([0.04347826, 0.06521739, 0.08695652, 0.10869565, 0.13043478,\n",
       "       0.15217391, 0.17391304, 0.19565217, 0.2173913 ])"
      ]
     },
     "execution_count": 62,
     "metadata": {},
     "output_type": "execute_result"
    }
   ],
   "source": [
    "prob"
   ]
  },
  {
   "cell_type": "code",
   "execution_count": null,
   "metadata": {},
   "outputs": [],
   "source": []
  }
 ],
 "metadata": {
  "kernelspec": {
   "display_name": "Python 3",
   "language": "python",
   "name": "python3"
  },
  "language_info": {
   "codemirror_mode": {
    "name": "ipython",
    "version": 3
   },
   "file_extension": ".py",
   "mimetype": "text/x-python",
   "name": "python",
   "nbconvert_exporter": "python",
   "pygments_lexer": "ipython3",
   "version": "3.6.3"
  }
 },
 "nbformat": 4,
 "nbformat_minor": 2
}
