{
 "cells": [
  {
   "cell_type": "code",
   "execution_count": 1,
   "metadata": {},
   "outputs": [],
   "source": [
    "import math\n",
    "#import numpy\n",
    "import autograd.numpy as np\n",
    "import random\n",
    "from autograd import elementwise_grad\n",
    "from scipy.special import comb\n",
    "import itertools"
   ]
  },
  {
   "cell_type": "code",
   "execution_count": 31,
   "metadata": {},
   "outputs": [],
   "source": [
    "import logging\n",
    "import sys"
   ]
  },
  {
   "cell_type": "code",
   "execution_count": 41,
   "metadata": {},
   "outputs": [],
   "source": [
    "logger = logging.getLogger()\n",
    "\n",
    "logger.setLevel(logging.INFO)\n",
    "logger.addHandler(logging.StreamHandler(sys.stdout))\n"
   ]
  },
  {
   "cell_type": "code",
   "execution_count": 42,
   "metadata": {},
   "outputs": [
    {
     "data": {
      "text/plain": [
       "[<StreamHandler stdout (NOTSET)>]"
      ]
     },
     "execution_count": 42,
     "metadata": {},
     "output_type": "execute_result"
    }
   ],
   "source": [
    "logger.handlers\n"
   ]
  },
  {
   "cell_type": "code",
   "execution_count": 4,
   "metadata": {},
   "outputs": [],
   "source": [
    "state = np.array([1.0, 1, 1, 1, 1, 1, 1, 1, 1, 1, 1, 1, 1])\n",
    "numcards = 8\n",
    "ownCards = np.array([0.0, 0, 0, 0, 0, 0, 0, 0, 0, 0, 0, 0, 0])\n",
    "factor = 1\n",
    "bluffEpsilon = 0.1  #remember to implement\n",
    "callsList = np.array([[-1, -1, -1, -1, -1],\n",
    "                  [ 0, -1, -1, -1, -1],\n",
    "                  [ 1, -1,  2, -1, -1],\n",
    "                  [ 3, -1,  4, -1, -1],\n",
    "                  [ 5, -1, -1,  6, -1]])\n",
    "\n",
    "def findCall(num):\n",
    "    for i in range(callsList.size):\n",
    "        for j in range(callsList[0].size):\n",
    "            if callsList[i][j] == num:\n",
    "                return [i, j]\n",
    "\n"
   ]
  },
  {
   "cell_type": "code",
   "execution_count": 5,
   "metadata": {},
   "outputs": [],
   "source": [
    "def oneCardProbabilities(state):\n",
    "    \n",
    "    total = np.sum(state)\n",
    "    oneCardProb = (state+1)/max((total+len(state)),1)\n",
    "    return oneCardProb"
   ]
  },
  {
   "cell_type": "code",
   "execution_count": 6,
   "metadata": {},
   "outputs": [],
   "source": [
    "def twotypeCall(state, numcards, countOne, countTwo, ownCards, typeOne, typeTwo):\n",
    "    \"\"\" Output is a number representing probability of individual call\n",
    "    state vector of size 13\n",
    "    numcards, countOne, countTwo, typeOne, typeTwo numbers\n",
    "    ownCards vector of size 13\n",
    "    \n",
    "    Gets specific call probability from general matrix\n",
    "    \"\"\"\n",
    "    return twotype(state, numcards, countOne, countTwo, ownCards)[typeOne][typeTwo]\n",
    "\n",
    "def twotype(state, numcards, countOne, countTwo, ownCards):\n",
    "    \"\"\" Output is a 13x13 matrix \n",
    "    state vector of size 13\n",
    "    numCards, countOne, countTwo numbers\n",
    "    ownCards vector of size 13\n",
    "    \n",
    "    Converts state to 2x13x13 matrix\n",
    "    \"\"\"\n",
    "\n",
    "    prob = oneCardProbabilities(state)\n",
    "    #probPairs = np.array(np.meshgrid(prob,prob)) # so that it has shape (2,13,13)\n",
    "    probPairs = np.transpose(np.reshape(np.array(list(map(np.array,itertools.product(prob,prob)))),(state.size,state.size,2)),(2,0,1))\n",
    "    \n",
    "             #print(probPairs.shape)\n",
    "#     probabilities = np.zeroes([len(state), len(state)])\n",
    "#     for i in range(len(state)):\n",
    "#         for j in range(len(state)):\n",
    "#             twopairprob(probPairs[i, j], numcards)\n",
    "    \n",
    "    \n",
    "    #probPairs[0] rows, probPairs[1] columns\n",
    "    return twotypeprob(probPairs, numcards, countOne, countTwo, ownCards)\n",
    "\n",
    "def twotypeprob(p, numcards, countCardOne, countCardTwo, ownCards):\n",
    "    \"\"\" Output is a 13x13 matrix. \n",
    "    p.shape=2x13x13 >state made into grid representing pairs\n",
    "    numcards, countCardOne, countCardTwo numbers\n",
    "    ownCards vector of size 13\n",
    "    \n",
    "    Returns matrix representing probabilities of calls\n",
    "    \"\"\"\n",
    "    prob = 0\n",
    "    for i in range(countCardOne, 5):\n",
    "        for j in range(countCardTwo, 5): #one of the reshapes is unnecessary\n",
    "            prob += (comb(numcards, i-ownCards).reshape(ownCards.shape[0], 1) * (p[0])**(i-ownCards).reshape(ownCards.shape[0],1)*\\\n",
    "                     comb(numcards-i+ownCards, j-ownCards).reshape(1,ownCards.shape[0]) * (p[1])**(j-ownCards).reshape(1, ownCards.shape[0])*\\\n",
    "                     (1-(p[0]+p[1]))**(numcards-(i+j-ownCards-ownCards.T)))\n",
    "                    #col*(identicalcols**col)\n",
    "                    # row*(identicalrows**row)\n",
    "                    # 13x13 matrix\n",
    "    return prob\n",
    "            \n",
    "\n",
    "def onetypeCall(state, numcards, count, ownCards, cardType):\n",
    "    return onetype(state, numcards, count, ownCards)[cardType]\n",
    "    \n",
    "def onetype(state, numcards, count, ownCards):\n",
    "    prob = oneCardProbabilities(state)\n",
    "    return onetypeprob(prob, numcards, count, ownCards)\n",
    "    \n",
    "def onetypeprob(p, numcards, countCard, ownCards):\n",
    "    prob = 0\n",
    "    for i in range(countCard, 5):\n",
    "        prob = prob + comb(numcards, i-ownCards)* p**(i-ownCards) * (1-p)**(numcards-i+ownCards)\n",
    "    return prob"
   ]
  },
  {
   "cell_type": "code",
   "execution_count": 7,
   "metadata": {},
   "outputs": [],
   "source": [
    "pgrad = elementwise_grad(twotypeCall)\n",
    "pograd = elementwise_grad(onetypeCall)"
   ]
  },
  {
   "cell_type": "code",
   "execution_count": 87,
   "metadata": {},
   "outputs": [
    {
     "data": {
      "text/plain": [
       "array([ 0.00719949, -0.001309  , -0.001309  , -0.001309  ,  0.00719949,\n",
       "       -0.001309  , -0.001309  , -0.001309  , -0.001309  , -0.001309  ,\n",
       "       -0.001309  , -0.001309  , -0.001309  ])"
      ]
     },
     "execution_count": 87,
     "metadata": {},
     "output_type": "execute_result"
    }
   ],
   "source": [
    "pgrad(state, numcards, 2, 2, ownCards, 0, 4)"
   ]
  },
  {
   "cell_type": "code",
   "execution_count": null,
   "metadata": {},
   "outputs": [],
   "source": []
  },
  {
   "cell_type": "code",
   "execution_count": 88,
   "metadata": {},
   "outputs": [
    {
     "data": {
      "text/plain": [
       "array([-0.00786135, -0.00786135, -0.00786135, -0.00786135,  0.09433614,\n",
       "       -0.00786135, -0.00786135, -0.00786135, -0.00786135, -0.00786135,\n",
       "       -0.00786135, -0.00786135, -0.00786135])"
      ]
     },
     "execution_count": 88,
     "metadata": {},
     "output_type": "execute_result"
    }
   ],
   "source": [
    "pograd(state, numcards, 2, ownCards, 4)"
   ]
  },
  {
   "cell_type": "code",
   "execution_count": 8,
   "metadata": {},
   "outputs": [],
   "source": [
    "def updateParameters(call, state, numcards, ownCards):\n",
    "    #for i in range(10):\n",
    "    if(call[1] == 0):\n",
    "       grad = pograd(state, numcards, call[0],  ownCards, call[2])\n",
    "    else:\n",
    "       grad= pgrad(state, numcards, call[0], call[1], ownCards, call[2], call[3])\n",
    "        #state = state + grad/grad.max()/10\n",
    "    logger.debug(np.exp(grad))\n",
    "    logger.debug(grad)\n",
    "    \n",
    "    return state*np.exp((grad))"
   ]
  },
  {
   "cell_type": "code",
   "execution_count": 90,
   "metadata": {},
   "outputs": [],
   "source": [
    "\n",
    "def testUpdate():\n",
    "    call = np.array([3, 0, 0, 4])\n",
    "    state= np.array([1.0, 1, 1, 1, 1, 1, 1, 1, 1])\n",
    "    numcards = 4\n",
    "    ownCards = np.array([0.0, 0, 0, 0, 0, 0, 0, 0, 0])\n",
    "    state = updateParameters(call, state, numcards, ownCards)\n",
    "\n",
    "    print(\"1 prob:\" + str(twotypeCall(state, numcards, 1, 0, ownCards, 0, 4)))\n",
    "    print(\"2 prob:\" + str(twotypeCall(state, numcards, 2, 0, ownCards, 0, 4)))\n",
    "    print(\"3 prob:\"+ str(twotypeCall(state, numcards, 3, 0, ownCards, 0, 4)))\n"
   ]
  },
  {
   "cell_type": "code",
   "execution_count": 91,
   "metadata": {},
   "outputs": [
    {
     "ename": "AttributeError",
     "evalue": "type object 'StreamHandler' has no attribute 'level'",
     "output_type": "error",
     "traceback": [
      "\u001b[1;31m---------------------------------------------------------------------------\u001b[0m",
      "\u001b[1;31mAttributeError\u001b[0m                            Traceback (most recent call last)",
      "\u001b[1;32m<ipython-input-91-4891fed6769d>\u001b[0m in \u001b[0;36m<module>\u001b[1;34m()\u001b[0m\n\u001b[1;32m----> 1\u001b[1;33m \u001b[0mtestUpdate\u001b[0m\u001b[1;33m(\u001b[0m\u001b[1;33m)\u001b[0m\u001b[1;33m\u001b[0m\u001b[0m\n\u001b[0m",
      "\u001b[1;32m<ipython-input-90-5508d95ad264>\u001b[0m in \u001b[0;36mtestUpdate\u001b[1;34m()\u001b[0m\n\u001b[0;32m      5\u001b[0m     \u001b[0mnumcards\u001b[0m \u001b[1;33m=\u001b[0m \u001b[1;36m4\u001b[0m\u001b[1;33m\u001b[0m\u001b[0m\n\u001b[0;32m      6\u001b[0m     \u001b[0mownCards\u001b[0m \u001b[1;33m=\u001b[0m \u001b[0mnp\u001b[0m\u001b[1;33m.\u001b[0m\u001b[0marray\u001b[0m\u001b[1;33m(\u001b[0m\u001b[1;33m[\u001b[0m\u001b[1;36m0.0\u001b[0m\u001b[1;33m,\u001b[0m \u001b[1;36m0\u001b[0m\u001b[1;33m,\u001b[0m \u001b[1;36m0\u001b[0m\u001b[1;33m,\u001b[0m \u001b[1;36m0\u001b[0m\u001b[1;33m,\u001b[0m \u001b[1;36m0\u001b[0m\u001b[1;33m,\u001b[0m \u001b[1;36m0\u001b[0m\u001b[1;33m,\u001b[0m \u001b[1;36m0\u001b[0m\u001b[1;33m,\u001b[0m \u001b[1;36m0\u001b[0m\u001b[1;33m,\u001b[0m \u001b[1;36m0\u001b[0m\u001b[1;33m]\u001b[0m\u001b[1;33m)\u001b[0m\u001b[1;33m\u001b[0m\u001b[0m\n\u001b[1;32m----> 7\u001b[1;33m     \u001b[0mstate\u001b[0m \u001b[1;33m=\u001b[0m \u001b[0mupdateParameters\u001b[0m\u001b[1;33m(\u001b[0m\u001b[0mcall\u001b[0m\u001b[1;33m,\u001b[0m \u001b[0mstate\u001b[0m\u001b[1;33m,\u001b[0m \u001b[0mnumcards\u001b[0m\u001b[1;33m,\u001b[0m \u001b[0mownCards\u001b[0m\u001b[1;33m)\u001b[0m\u001b[1;33m\u001b[0m\u001b[0m\n\u001b[0m\u001b[0;32m      8\u001b[0m \u001b[1;33m\u001b[0m\u001b[0m\n\u001b[0;32m      9\u001b[0m     \u001b[0mprint\u001b[0m\u001b[1;33m(\u001b[0m\u001b[1;34m\"1 prob:\"\u001b[0m \u001b[1;33m+\u001b[0m \u001b[0mstr\u001b[0m\u001b[1;33m(\u001b[0m\u001b[0mtwotypeCall\u001b[0m\u001b[1;33m(\u001b[0m\u001b[0mstate\u001b[0m\u001b[1;33m,\u001b[0m \u001b[0mnumcards\u001b[0m\u001b[1;33m,\u001b[0m \u001b[1;36m1\u001b[0m\u001b[1;33m,\u001b[0m \u001b[1;36m0\u001b[0m\u001b[1;33m,\u001b[0m \u001b[0mownCards\u001b[0m\u001b[1;33m,\u001b[0m \u001b[1;36m0\u001b[0m\u001b[1;33m,\u001b[0m \u001b[1;36m4\u001b[0m\u001b[1;33m)\u001b[0m\u001b[1;33m)\u001b[0m\u001b[1;33m)\u001b[0m\u001b[1;33m\u001b[0m\u001b[0m\n",
      "\u001b[1;32m<ipython-input-89-035de37a6547>\u001b[0m in \u001b[0;36mupdateParameters\u001b[1;34m(call, state, numcards, ownCards)\u001b[0m\n\u001b[0;32m      6\u001b[0m        \u001b[0mgrad\u001b[0m\u001b[1;33m=\u001b[0m \u001b[0mpgrad\u001b[0m\u001b[1;33m(\u001b[0m\u001b[0mstate\u001b[0m\u001b[1;33m,\u001b[0m \u001b[0mnumcards\u001b[0m\u001b[1;33m,\u001b[0m \u001b[0mcall\u001b[0m\u001b[1;33m[\u001b[0m\u001b[1;36m0\u001b[0m\u001b[1;33m]\u001b[0m\u001b[1;33m,\u001b[0m \u001b[0mcall\u001b[0m\u001b[1;33m[\u001b[0m\u001b[1;36m1\u001b[0m\u001b[1;33m]\u001b[0m\u001b[1;33m,\u001b[0m \u001b[0mownCards\u001b[0m\u001b[1;33m,\u001b[0m \u001b[0mcall\u001b[0m\u001b[1;33m[\u001b[0m\u001b[1;36m2\u001b[0m\u001b[1;33m]\u001b[0m\u001b[1;33m,\u001b[0m \u001b[0mcall\u001b[0m\u001b[1;33m[\u001b[0m\u001b[1;36m3\u001b[0m\u001b[1;33m]\u001b[0m\u001b[1;33m)\u001b[0m\u001b[1;33m\u001b[0m\u001b[0m\n\u001b[0;32m      7\u001b[0m         \u001b[1;31m#state = state + grad/grad.max()/10\u001b[0m\u001b[1;33m\u001b[0m\u001b[1;33m\u001b[0m\u001b[0m\n\u001b[1;32m----> 8\u001b[1;33m     \u001b[0mlogger\u001b[0m\u001b[1;33m.\u001b[0m\u001b[0mdebug\u001b[0m\u001b[1;33m(\u001b[0m\u001b[0mnp\u001b[0m\u001b[1;33m.\u001b[0m\u001b[0mexp\u001b[0m\u001b[1;33m(\u001b[0m\u001b[0mgrad\u001b[0m\u001b[1;33m)\u001b[0m\u001b[1;33m)\u001b[0m\u001b[1;33m\u001b[0m\u001b[0m\n\u001b[0m\u001b[0;32m      9\u001b[0m     \u001b[0mlogger\u001b[0m\u001b[1;33m.\u001b[0m\u001b[0mdebug\u001b[0m\u001b[1;33m(\u001b[0m\u001b[0mgrad\u001b[0m\u001b[1;33m)\u001b[0m\u001b[1;33m\u001b[0m\u001b[0m\n\u001b[0;32m     10\u001b[0m \u001b[1;33m\u001b[0m\u001b[0m\n",
      "\u001b[1;32mc:\\users\\willi\\appdata\\local\\programs\\python\\python36-32\\lib\\logging\\__init__.py\u001b[0m in \u001b[0;36mdebug\u001b[1;34m(self, msg, *args, **kwargs)\u001b[0m\n\u001b[0;32m   1292\u001b[0m         \"\"\"\n\u001b[0;32m   1293\u001b[0m         \u001b[1;32mif\u001b[0m \u001b[0mself\u001b[0m\u001b[1;33m.\u001b[0m\u001b[0misEnabledFor\u001b[0m\u001b[1;33m(\u001b[0m\u001b[0mDEBUG\u001b[0m\u001b[1;33m)\u001b[0m\u001b[1;33m:\u001b[0m\u001b[1;33m\u001b[0m\u001b[0m\n\u001b[1;32m-> 1294\u001b[1;33m             \u001b[0mself\u001b[0m\u001b[1;33m.\u001b[0m\u001b[0m_log\u001b[0m\u001b[1;33m(\u001b[0m\u001b[0mDEBUG\u001b[0m\u001b[1;33m,\u001b[0m \u001b[0mmsg\u001b[0m\u001b[1;33m,\u001b[0m \u001b[0margs\u001b[0m\u001b[1;33m,\u001b[0m \u001b[1;33m**\u001b[0m\u001b[0mkwargs\u001b[0m\u001b[1;33m)\u001b[0m\u001b[1;33m\u001b[0m\u001b[0m\n\u001b[0m\u001b[0;32m   1295\u001b[0m \u001b[1;33m\u001b[0m\u001b[0m\n\u001b[0;32m   1296\u001b[0m     \u001b[1;32mdef\u001b[0m \u001b[0minfo\u001b[0m\u001b[1;33m(\u001b[0m\u001b[0mself\u001b[0m\u001b[1;33m,\u001b[0m \u001b[0mmsg\u001b[0m\u001b[1;33m,\u001b[0m \u001b[1;33m*\u001b[0m\u001b[0margs\u001b[0m\u001b[1;33m,\u001b[0m \u001b[1;33m**\u001b[0m\u001b[0mkwargs\u001b[0m\u001b[1;33m)\u001b[0m\u001b[1;33m:\u001b[0m\u001b[1;33m\u001b[0m\u001b[0m\n",
      "\u001b[1;32mc:\\users\\willi\\appdata\\local\\programs\\python\\python36-32\\lib\\logging\\__init__.py\u001b[0m in \u001b[0;36m_log\u001b[1;34m(self, level, msg, args, exc_info, extra, stack_info)\u001b[0m\n\u001b[0;32m   1440\u001b[0m         record = self.makeRecord(self.name, level, fn, lno, msg, args,\n\u001b[0;32m   1441\u001b[0m                                  exc_info, func, extra, sinfo)\n\u001b[1;32m-> 1442\u001b[1;33m         \u001b[0mself\u001b[0m\u001b[1;33m.\u001b[0m\u001b[0mhandle\u001b[0m\u001b[1;33m(\u001b[0m\u001b[0mrecord\u001b[0m\u001b[1;33m)\u001b[0m\u001b[1;33m\u001b[0m\u001b[0m\n\u001b[0m\u001b[0;32m   1443\u001b[0m \u001b[1;33m\u001b[0m\u001b[0m\n\u001b[0;32m   1444\u001b[0m     \u001b[1;32mdef\u001b[0m \u001b[0mhandle\u001b[0m\u001b[1;33m(\u001b[0m\u001b[0mself\u001b[0m\u001b[1;33m,\u001b[0m \u001b[0mrecord\u001b[0m\u001b[1;33m)\u001b[0m\u001b[1;33m:\u001b[0m\u001b[1;33m\u001b[0m\u001b[0m\n",
      "\u001b[1;32mc:\\users\\willi\\appdata\\local\\programs\\python\\python36-32\\lib\\logging\\__init__.py\u001b[0m in \u001b[0;36mhandle\u001b[1;34m(self, record)\u001b[0m\n\u001b[0;32m   1450\u001b[0m         \"\"\"\n\u001b[0;32m   1451\u001b[0m         \u001b[1;32mif\u001b[0m \u001b[1;33m(\u001b[0m\u001b[1;32mnot\u001b[0m \u001b[0mself\u001b[0m\u001b[1;33m.\u001b[0m\u001b[0mdisabled\u001b[0m\u001b[1;33m)\u001b[0m \u001b[1;32mand\u001b[0m \u001b[0mself\u001b[0m\u001b[1;33m.\u001b[0m\u001b[0mfilter\u001b[0m\u001b[1;33m(\u001b[0m\u001b[0mrecord\u001b[0m\u001b[1;33m)\u001b[0m\u001b[1;33m:\u001b[0m\u001b[1;33m\u001b[0m\u001b[0m\n\u001b[1;32m-> 1452\u001b[1;33m             \u001b[0mself\u001b[0m\u001b[1;33m.\u001b[0m\u001b[0mcallHandlers\u001b[0m\u001b[1;33m(\u001b[0m\u001b[0mrecord\u001b[0m\u001b[1;33m)\u001b[0m\u001b[1;33m\u001b[0m\u001b[0m\n\u001b[0m\u001b[0;32m   1453\u001b[0m \u001b[1;33m\u001b[0m\u001b[0m\n\u001b[0;32m   1454\u001b[0m     \u001b[1;32mdef\u001b[0m \u001b[0maddHandler\u001b[0m\u001b[1;33m(\u001b[0m\u001b[0mself\u001b[0m\u001b[1;33m,\u001b[0m \u001b[0mhdlr\u001b[0m\u001b[1;33m)\u001b[0m\u001b[1;33m:\u001b[0m\u001b[1;33m\u001b[0m\u001b[0m\n",
      "\u001b[1;32mc:\\users\\willi\\appdata\\local\\programs\\python\\python36-32\\lib\\logging\\__init__.py\u001b[0m in \u001b[0;36mcallHandlers\u001b[1;34m(self, record)\u001b[0m\n\u001b[0;32m   1511\u001b[0m             \u001b[1;32mfor\u001b[0m \u001b[0mhdlr\u001b[0m \u001b[1;32min\u001b[0m \u001b[0mc\u001b[0m\u001b[1;33m.\u001b[0m\u001b[0mhandlers\u001b[0m\u001b[1;33m:\u001b[0m\u001b[1;33m\u001b[0m\u001b[0m\n\u001b[0;32m   1512\u001b[0m                 \u001b[0mfound\u001b[0m \u001b[1;33m=\u001b[0m \u001b[0mfound\u001b[0m \u001b[1;33m+\u001b[0m \u001b[1;36m1\u001b[0m\u001b[1;33m\u001b[0m\u001b[0m\n\u001b[1;32m-> 1513\u001b[1;33m                 \u001b[1;32mif\u001b[0m \u001b[0mrecord\u001b[0m\u001b[1;33m.\u001b[0m\u001b[0mlevelno\u001b[0m \u001b[1;33m>=\u001b[0m \u001b[0mhdlr\u001b[0m\u001b[1;33m.\u001b[0m\u001b[0mlevel\u001b[0m\u001b[1;33m:\u001b[0m\u001b[1;33m\u001b[0m\u001b[0m\n\u001b[0m\u001b[0;32m   1514\u001b[0m                     \u001b[0mhdlr\u001b[0m\u001b[1;33m.\u001b[0m\u001b[0mhandle\u001b[0m\u001b[1;33m(\u001b[0m\u001b[0mrecord\u001b[0m\u001b[1;33m)\u001b[0m\u001b[1;33m\u001b[0m\u001b[0m\n\u001b[0;32m   1515\u001b[0m             \u001b[1;32mif\u001b[0m \u001b[1;32mnot\u001b[0m \u001b[0mc\u001b[0m\u001b[1;33m.\u001b[0m\u001b[0mpropagate\u001b[0m\u001b[1;33m:\u001b[0m\u001b[1;33m\u001b[0m\u001b[0m\n",
      "\u001b[1;31mAttributeError\u001b[0m: type object 'StreamHandler' has no attribute 'level'"
     ]
    }
   ],
   "source": [
    "testUpdate()"
   ]
  },
  {
   "cell_type": "code",
   "execution_count": 92,
   "metadata": {},
   "outputs": [
    {
     "data": {
      "text/plain": [
       "0.0010667368257667965"
      ]
     },
     "execution_count": 92,
     "metadata": {},
     "output_type": "execute_result"
    }
   ],
   "source": [
    "twotypeCall(state, numcards, 3, 2, ownCards, 0, 4)"
   ]
  },
  {
   "cell_type": "code",
   "execution_count": 93,
   "metadata": {},
   "outputs": [
    {
     "ename": "TypeError",
     "evalue": "twotypeCall() missing 1 required positional argument: 'typeTwo'",
     "output_type": "error",
     "traceback": [
      "\u001b[1;31m---------------------------------------------------------------------------\u001b[0m",
      "\u001b[1;31mTypeError\u001b[0m                                 Traceback (most recent call last)",
      "\u001b[1;32m<ipython-input-93-b056f93c9945>\u001b[0m in \u001b[0;36m<module>\u001b[1;34m()\u001b[0m\n\u001b[1;32m----> 1\u001b[1;33m \u001b[0mpgrad\u001b[0m\u001b[1;33m(\u001b[0m\u001b[0mstate\u001b[0m\u001b[1;33m,\u001b[0m \u001b[0mnumcards\u001b[0m\u001b[1;33m,\u001b[0m \u001b[1;36m3\u001b[0m\u001b[1;33m,\u001b[0m \u001b[1;36m2\u001b[0m\u001b[1;33m,\u001b[0m \u001b[1;36m0\u001b[0m\u001b[1;33m,\u001b[0m \u001b[1;36m4\u001b[0m\u001b[1;33m)\u001b[0m\u001b[1;33m\u001b[0m\u001b[0m\n\u001b[0m",
      "\u001b[1;32mc:\\users\\willi\\appdata\\local\\programs\\python\\python36-32\\lib\\site-packages\\autograd\\wrap_util.py\u001b[0m in \u001b[0;36mnary_f\u001b[1;34m(*args, **kwargs)\u001b[0m\n\u001b[0;32m     18\u001b[0m             \u001b[1;32melse\u001b[0m\u001b[1;33m:\u001b[0m\u001b[1;33m\u001b[0m\u001b[0m\n\u001b[0;32m     19\u001b[0m                 \u001b[0mx\u001b[0m \u001b[1;33m=\u001b[0m \u001b[0mtuple\u001b[0m\u001b[1;33m(\u001b[0m\u001b[0margs\u001b[0m\u001b[1;33m[\u001b[0m\u001b[0mi\u001b[0m\u001b[1;33m]\u001b[0m \u001b[1;32mfor\u001b[0m \u001b[0mi\u001b[0m \u001b[1;32min\u001b[0m \u001b[0margnum\u001b[0m\u001b[1;33m)\u001b[0m\u001b[1;33m\u001b[0m\u001b[0m\n\u001b[1;32m---> 20\u001b[1;33m             \u001b[1;32mreturn\u001b[0m \u001b[0munary_operator\u001b[0m\u001b[1;33m(\u001b[0m\u001b[0munary_f\u001b[0m\u001b[1;33m,\u001b[0m \u001b[0mx\u001b[0m\u001b[1;33m,\u001b[0m \u001b[1;33m*\u001b[0m\u001b[0mnary_op_args\u001b[0m\u001b[1;33m,\u001b[0m \u001b[1;33m**\u001b[0m\u001b[0mnary_op_kwargs\u001b[0m\u001b[1;33m)\u001b[0m\u001b[1;33m\u001b[0m\u001b[0m\n\u001b[0m\u001b[0;32m     21\u001b[0m         \u001b[1;32mreturn\u001b[0m \u001b[0mnary_f\u001b[0m\u001b[1;33m\u001b[0m\u001b[0m\n\u001b[0;32m     22\u001b[0m     \u001b[1;32mreturn\u001b[0m \u001b[0mnary_operator\u001b[0m\u001b[1;33m\u001b[0m\u001b[0m\n",
      "\u001b[1;32mc:\\users\\willi\\appdata\\local\\programs\\python\\python36-32\\lib\\site-packages\\autograd\\differential_operators.py\u001b[0m in \u001b[0;36melementwise_grad\u001b[1;34m(fun, x)\u001b[0m\n\u001b[0;32m     30\u001b[0m \u001b[1;33m@\u001b[0m\u001b[0munary_to_nary\u001b[0m\u001b[1;33m\u001b[0m\u001b[0m\n\u001b[0;32m     31\u001b[0m \u001b[1;32mdef\u001b[0m \u001b[0melementwise_grad\u001b[0m\u001b[1;33m(\u001b[0m\u001b[0mfun\u001b[0m\u001b[1;33m,\u001b[0m \u001b[0mx\u001b[0m\u001b[1;33m)\u001b[0m\u001b[1;33m:\u001b[0m\u001b[1;33m\u001b[0m\u001b[0m\n\u001b[1;32m---> 32\u001b[1;33m     \u001b[0mvjp\u001b[0m\u001b[1;33m,\u001b[0m \u001b[0mans\u001b[0m \u001b[1;33m=\u001b[0m \u001b[0m_make_vjp\u001b[0m\u001b[1;33m(\u001b[0m\u001b[0mfun\u001b[0m\u001b[1;33m,\u001b[0m \u001b[0mx\u001b[0m\u001b[1;33m)\u001b[0m\u001b[1;33m\u001b[0m\u001b[0m\n\u001b[0m\u001b[0;32m     33\u001b[0m     \u001b[1;32mif\u001b[0m \u001b[0mvspace\u001b[0m\u001b[1;33m(\u001b[0m\u001b[0mans\u001b[0m\u001b[1;33m)\u001b[0m\u001b[1;33m.\u001b[0m\u001b[0miscomplex\u001b[0m\u001b[1;33m:\u001b[0m\u001b[1;33m\u001b[0m\u001b[0m\n\u001b[0;32m     34\u001b[0m         \u001b[1;32mraise\u001b[0m \u001b[0mTypeError\u001b[0m\u001b[1;33m(\u001b[0m\u001b[1;34m\"Elementwise_grad only applies to real-output functions.\"\u001b[0m\u001b[1;33m)\u001b[0m\u001b[1;33m\u001b[0m\u001b[0m\n",
      "\u001b[1;32mc:\\users\\willi\\appdata\\local\\programs\\python\\python36-32\\lib\\site-packages\\autograd\\core.py\u001b[0m in \u001b[0;36mmake_vjp\u001b[1;34m(fun, x)\u001b[0m\n\u001b[0;32m      8\u001b[0m \u001b[1;32mdef\u001b[0m \u001b[0mmake_vjp\u001b[0m\u001b[1;33m(\u001b[0m\u001b[0mfun\u001b[0m\u001b[1;33m,\u001b[0m \u001b[0mx\u001b[0m\u001b[1;33m)\u001b[0m\u001b[1;33m:\u001b[0m\u001b[1;33m\u001b[0m\u001b[0m\n\u001b[0;32m      9\u001b[0m     \u001b[0mstart_node\u001b[0m \u001b[1;33m=\u001b[0m \u001b[0mVJPNode\u001b[0m\u001b[1;33m.\u001b[0m\u001b[0mnew_root\u001b[0m\u001b[1;33m(\u001b[0m\u001b[0mx\u001b[0m\u001b[1;33m)\u001b[0m\u001b[1;33m\u001b[0m\u001b[0m\n\u001b[1;32m---> 10\u001b[1;33m     \u001b[0mend_value\u001b[0m\u001b[1;33m,\u001b[0m \u001b[0mend_node\u001b[0m \u001b[1;33m=\u001b[0m  \u001b[0mtrace\u001b[0m\u001b[1;33m(\u001b[0m\u001b[0mstart_node\u001b[0m\u001b[1;33m,\u001b[0m \u001b[0mfun\u001b[0m\u001b[1;33m,\u001b[0m \u001b[0mx\u001b[0m\u001b[1;33m)\u001b[0m\u001b[1;33m\u001b[0m\u001b[0m\n\u001b[0m\u001b[0;32m     11\u001b[0m     \u001b[1;32mif\u001b[0m \u001b[0mend_node\u001b[0m \u001b[1;32mis\u001b[0m \u001b[1;32mNone\u001b[0m\u001b[1;33m:\u001b[0m\u001b[1;33m\u001b[0m\u001b[0m\n\u001b[0;32m     12\u001b[0m         \u001b[1;32mdef\u001b[0m \u001b[0mvjp\u001b[0m\u001b[1;33m(\u001b[0m\u001b[0mg\u001b[0m\u001b[1;33m)\u001b[0m\u001b[1;33m:\u001b[0m \u001b[1;32mreturn\u001b[0m \u001b[0mvspace\u001b[0m\u001b[1;33m(\u001b[0m\u001b[0mx\u001b[0m\u001b[1;33m)\u001b[0m\u001b[1;33m.\u001b[0m\u001b[0mzeros\u001b[0m\u001b[1;33m(\u001b[0m\u001b[1;33m)\u001b[0m\u001b[1;33m\u001b[0m\u001b[0m\n",
      "\u001b[1;32mc:\\users\\willi\\appdata\\local\\programs\\python\\python36-32\\lib\\site-packages\\autograd\\tracer.py\u001b[0m in \u001b[0;36mtrace\u001b[1;34m(start_node, fun, x)\u001b[0m\n\u001b[0;32m      8\u001b[0m     \u001b[1;32mwith\u001b[0m \u001b[0mtrace_stack\u001b[0m\u001b[1;33m.\u001b[0m\u001b[0mnew_trace\u001b[0m\u001b[1;33m(\u001b[0m\u001b[1;33m)\u001b[0m \u001b[1;32mas\u001b[0m \u001b[0mt\u001b[0m\u001b[1;33m:\u001b[0m\u001b[1;33m\u001b[0m\u001b[0m\n\u001b[0;32m      9\u001b[0m         \u001b[0mstart_box\u001b[0m \u001b[1;33m=\u001b[0m \u001b[0mnew_box\u001b[0m\u001b[1;33m(\u001b[0m\u001b[0mx\u001b[0m\u001b[1;33m,\u001b[0m \u001b[0mt\u001b[0m\u001b[1;33m,\u001b[0m \u001b[0mstart_node\u001b[0m\u001b[1;33m)\u001b[0m\u001b[1;33m\u001b[0m\u001b[0m\n\u001b[1;32m---> 10\u001b[1;33m         \u001b[0mend_box\u001b[0m \u001b[1;33m=\u001b[0m \u001b[0mfun\u001b[0m\u001b[1;33m(\u001b[0m\u001b[0mstart_box\u001b[0m\u001b[1;33m)\u001b[0m\u001b[1;33m\u001b[0m\u001b[0m\n\u001b[0m\u001b[0;32m     11\u001b[0m         \u001b[1;32mif\u001b[0m \u001b[0misbox\u001b[0m\u001b[1;33m(\u001b[0m\u001b[0mend_box\u001b[0m\u001b[1;33m)\u001b[0m \u001b[1;32mand\u001b[0m \u001b[0mend_box\u001b[0m\u001b[1;33m.\u001b[0m\u001b[0m_trace\u001b[0m \u001b[1;33m==\u001b[0m \u001b[0mstart_box\u001b[0m\u001b[1;33m.\u001b[0m\u001b[0m_trace\u001b[0m\u001b[1;33m:\u001b[0m\u001b[1;33m\u001b[0m\u001b[0m\n\u001b[0;32m     12\u001b[0m             \u001b[1;32mreturn\u001b[0m \u001b[0mend_box\u001b[0m\u001b[1;33m.\u001b[0m\u001b[0m_value\u001b[0m\u001b[1;33m,\u001b[0m \u001b[0mend_box\u001b[0m\u001b[1;33m.\u001b[0m\u001b[0m_node\u001b[0m\u001b[1;33m\u001b[0m\u001b[0m\n",
      "\u001b[1;32mc:\\users\\willi\\appdata\\local\\programs\\python\\python36-32\\lib\\site-packages\\autograd\\wrap_util.py\u001b[0m in \u001b[0;36munary_f\u001b[1;34m(x)\u001b[0m\n\u001b[0;32m     13\u001b[0m                 \u001b[1;32melse\u001b[0m\u001b[1;33m:\u001b[0m\u001b[1;33m\u001b[0m\u001b[0m\n\u001b[0;32m     14\u001b[0m                     \u001b[0msubargs\u001b[0m \u001b[1;33m=\u001b[0m \u001b[0msubvals\u001b[0m\u001b[1;33m(\u001b[0m\u001b[0margs\u001b[0m\u001b[1;33m,\u001b[0m \u001b[0mzip\u001b[0m\u001b[1;33m(\u001b[0m\u001b[0margnum\u001b[0m\u001b[1;33m,\u001b[0m \u001b[0mx\u001b[0m\u001b[1;33m)\u001b[0m\u001b[1;33m)\u001b[0m\u001b[1;33m\u001b[0m\u001b[0m\n\u001b[1;32m---> 15\u001b[1;33m                 \u001b[1;32mreturn\u001b[0m \u001b[0mfun\u001b[0m\u001b[1;33m(\u001b[0m\u001b[1;33m*\u001b[0m\u001b[0msubargs\u001b[0m\u001b[1;33m,\u001b[0m \u001b[1;33m**\u001b[0m\u001b[0mkwargs\u001b[0m\u001b[1;33m)\u001b[0m\u001b[1;33m\u001b[0m\u001b[0m\n\u001b[0m\u001b[0;32m     16\u001b[0m             \u001b[1;32mif\u001b[0m \u001b[0misinstance\u001b[0m\u001b[1;33m(\u001b[0m\u001b[0margnum\u001b[0m\u001b[1;33m,\u001b[0m \u001b[0mint\u001b[0m\u001b[1;33m)\u001b[0m\u001b[1;33m:\u001b[0m\u001b[1;33m\u001b[0m\u001b[0m\n\u001b[0;32m     17\u001b[0m                 \u001b[0mx\u001b[0m \u001b[1;33m=\u001b[0m \u001b[0margs\u001b[0m\u001b[1;33m[\u001b[0m\u001b[0margnum\u001b[0m\u001b[1;33m]\u001b[0m\u001b[1;33m\u001b[0m\u001b[0m\n",
      "\u001b[1;31mTypeError\u001b[0m: twotypeCall() missing 1 required positional argument: 'typeTwo'"
     ]
    }
   ],
   "source": [
    "pgrad(state, numcards, 3, 2, 0, 4)"
   ]
  },
  {
   "cell_type": "code",
   "execution_count": 9,
   "metadata": {},
   "outputs": [],
   "source": [
    "def makeCall(call, state, numcards, ownCards, calls):  #not quite\n",
    "    allCallProb = [onetype(state, numcards, 1, ownCards), onetype(state, numcards, 2, ownCards), twotype(state, numcards, 2, 2, ownCards), onetype(state, numcards, 3, ownCards), twotype(state, numcards, 3, 2, ownCards), onetype(state, numcards, 4, ownCards), twotype(state, numcards, 4, 3, ownCards)]    \n",
    "    ind = calls[call[0]][call[1]]\n",
    "    bestCall = [-1, -1, -1, -1, 0]\n",
    "    for i in range(ind+1, len(allCallProb)):  #call strength\n",
    "        for j in range(allCallProb[i].shape[0]):  #level within call\n",
    "            if len(allCallProb[i].shape) > 1:\n",
    "                for k in range(allCallProb[i][j].shape[0]):\n",
    "                    prob = allCallProb[i][j][k]\n",
    "                    if((prob > bestCall[4] or (prob == bestCall[4] and random.random()>0.5)) and k!=j):\n",
    "                        \n",
    "                        newcall = findCall(i)\n",
    "                        bestCall = [newcall[0], newcall[1], j, k, prob]\n",
    "                    \n",
    "            else:\n",
    "                \n",
    "                prob = allCallProb[i][j]\n",
    "                if(prob > bestCall[4] or (prob == bestCall[4] and random.random()>0.5)):\n",
    "                    newcall = findCall(i)\n",
    "                    bestCall = [newcall[0], newcall[1], j, -1, prob]\n",
    "                    \n",
    "    currLevelProb = allCallProb[ind]\n",
    "    \n",
    "    for i in range(call[2], currLevelProb.shape[0]):\n",
    "        if len(currLevelProb.shape) > 1:\n",
    "            for j in range(currLevelProb.shape[1]):\n",
    "                if(i != call[2] or j > call[3]):\n",
    "                    prob = currLevelProb[i][j]\n",
    "                    if((prob > bestCall[4] or (prob == bestCall[4] and random.random()>0.5)) and i != j):\n",
    "                        \n",
    "                        newcall = findCall(ind)\n",
    "                        \n",
    "                        bestCall = [newcall[0], newcall[1], i, j, prob]\n",
    "        else:\n",
    "            if(i != call[2]):\n",
    "                prob = currLevelProb[i]\n",
    "                if(prob > bestCall[4] or (prob == bestCall[4] and random.random()>0.5)):\n",
    "                    newcall = findCall(ind)\n",
    "                    bestCall = [newcall[0], newcall[1], i, -1, prob]\n",
    "    return bestCall\n",
    "    "
   ]
  },
  {
   "cell_type": "code",
   "execution_count": 10,
   "metadata": {},
   "outputs": [],
   "source": [
    "def makeDecision(call, state, numcards, ownCards, calls, numrounds):\n",
    "    #somewhat unnecessary\n",
    "    allCallProb = [onetype(state, numcards, 1, ownCards), onetype(state, numcards, 2, ownCards), twotype(state, numcards, 2, 2, ownCards), onetype(state, numcards, 3, ownCards), twotype(state, numcards, 3, 2, ownCards), onetype(state, numcards, 4, ownCards), twotype(state, numcards, 4, 3, ownCards)]\n",
    "\n",
    "    ownCall = makeCall(call, state, numcards, ownCards, calls)\n",
    "    oppCallProb = 0\n",
    "    if(call[1] == 0):\n",
    "        oppCallProb = allCallProb[calls[call[0]][call[1]]][call[2]]\n",
    "    else:\n",
    "        \n",
    "        oppCallProb = allCallProb[calls[call[0]][call[1]]][call[2]][call[3]]\n",
    "    logger.debug(\"probability: \" + str(oppCallProb))\n",
    "    oppCallProb = (1-oppCallProb)*(1-0.80**(numrounds//2+1))\n",
    "    logger.debug(oppCallProb)\n",
    "    if ownCall[4] >= oppCallProb:\n",
    "        return 1  #call\n",
    "    else:\n",
    "        return 0  #bluff"
   ]
  },
  {
   "cell_type": "code",
   "execution_count": 96,
   "metadata": {},
   "outputs": [
    {
     "data": {
      "text/plain": [
       "array([1., 1., 1., 1., 1., 1., 1., 1., 1., 1., 1., 1., 1.])"
      ]
     },
     "execution_count": 96,
     "metadata": {},
     "output_type": "execute_result"
    }
   ],
   "source": [
    "state"
   ]
  },
  {
   "cell_type": "code",
   "execution_count": 97,
   "metadata": {},
   "outputs": [],
   "source": [
    "x = np.array([1,2])"
   ]
  },
  {
   "cell_type": "code",
   "execution_count": 98,
   "metadata": {},
   "outputs": [
    {
     "data": {
      "text/plain": [
       "array([1., 1., 1., 1., 1., 1., 1., 1., 1., 1., 1., 1., 1.])"
      ]
     },
     "execution_count": 98,
     "metadata": {},
     "output_type": "execute_result"
    }
   ],
   "source": [
    "state"
   ]
  },
  {
   "cell_type": "code",
   "execution_count": 99,
   "metadata": {},
   "outputs": [
    {
     "ename": "NameError",
     "evalue": "name 'calls' is not defined",
     "output_type": "error",
     "traceback": [
      "\u001b[1;31m---------------------------------------------------------------------------\u001b[0m",
      "\u001b[1;31mNameError\u001b[0m                                 Traceback (most recent call last)",
      "\u001b[1;32m<ipython-input-99-8ca6d29d53ee>\u001b[0m in \u001b[0;36m<module>\u001b[1;34m()\u001b[0m\n\u001b[1;32m----> 1\u001b[1;33m \u001b[0mmakeCall\u001b[0m\u001b[1;33m(\u001b[0m\u001b[0mnp\u001b[0m\u001b[1;33m.\u001b[0m\u001b[0marray\u001b[0m\u001b[1;33m(\u001b[0m\u001b[1;33m[\u001b[0m\u001b[1;36m3\u001b[0m\u001b[1;33m,\u001b[0m \u001b[1;36m2\u001b[0m\u001b[1;33m,\u001b[0m \u001b[1;36m2\u001b[0m\u001b[1;33m,\u001b[0m \u001b[1;36m1\u001b[0m\u001b[1;33m]\u001b[0m\u001b[1;33m)\u001b[0m\u001b[1;33m,\u001b[0m \u001b[0mstate\u001b[0m\u001b[1;33m,\u001b[0m \u001b[0mnumcards\u001b[0m\u001b[1;33m,\u001b[0m \u001b[0mcalls\u001b[0m\u001b[1;33m)\u001b[0m\u001b[1;33m\u001b[0m\u001b[0m\n\u001b[0m",
      "\u001b[1;31mNameError\u001b[0m: name 'calls' is not defined"
     ]
    }
   ],
   "source": [
    "makeCall(np.array([3, 2, 2, 1]), state, numcards, calls)"
   ]
  },
  {
   "cell_type": "code",
   "execution_count": 100,
   "metadata": {},
   "outputs": [
    {
     "ename": "NameError",
     "evalue": "name 'calls' is not defined",
     "output_type": "error",
     "traceback": [
      "\u001b[1;31m---------------------------------------------------------------------------\u001b[0m",
      "\u001b[1;31mNameError\u001b[0m                                 Traceback (most recent call last)",
      "\u001b[1;32m<ipython-input-100-d7f413bdf76b>\u001b[0m in \u001b[0;36m<module>\u001b[1;34m()\u001b[0m\n\u001b[1;32m----> 1\u001b[1;33m \u001b[0mmakeDecision\u001b[0m\u001b[1;33m(\u001b[0m\u001b[0mnp\u001b[0m\u001b[1;33m.\u001b[0m\u001b[0marray\u001b[0m\u001b[1;33m(\u001b[0m\u001b[1;33m[\u001b[0m\u001b[1;36m3\u001b[0m\u001b[1;33m,\u001b[0m\u001b[1;36m2\u001b[0m\u001b[1;33m,\u001b[0m\u001b[1;36m2\u001b[0m\u001b[1;33m,\u001b[0m\u001b[1;36m1\u001b[0m\u001b[1;33m]\u001b[0m\u001b[1;33m)\u001b[0m\u001b[1;33m,\u001b[0m \u001b[0mstate\u001b[0m\u001b[1;33m,\u001b[0m \u001b[0mnumcards\u001b[0m\u001b[1;33m,\u001b[0m \u001b[0mcalls\u001b[0m\u001b[1;33m)\u001b[0m\u001b[1;33m\u001b[0m\u001b[0m\n\u001b[0m",
      "\u001b[1;31mNameError\u001b[0m: name 'calls' is not defined"
     ]
    }
   ],
   "source": [
    "makeDecision(np.array([3,2,2,1]), state, numcards, calls)"
   ]
  },
  {
   "cell_type": "code",
   "execution_count": 101,
   "metadata": {},
   "outputs": [
    {
     "ename": "NameError",
     "evalue": "name 'allCallProb' is not defined",
     "output_type": "error",
     "traceback": [
      "\u001b[1;31m---------------------------------------------------------------------------\u001b[0m",
      "\u001b[1;31mNameError\u001b[0m                                 Traceback (most recent call last)",
      "\u001b[1;32m<ipython-input-101-59352761c7ca>\u001b[0m in \u001b[0;36m<module>\u001b[1;34m()\u001b[0m\n\u001b[1;32m----> 1\u001b[1;33m \u001b[0mallCallProb\u001b[0m\u001b[1;33m\u001b[0m\u001b[0m\n\u001b[0m",
      "\u001b[1;31mNameError\u001b[0m: name 'allCallProb' is not defined"
     ]
    }
   ],
   "source": [
    "allCallProb"
   ]
  },
  {
   "cell_type": "code",
   "execution_count": null,
   "metadata": {},
   "outputs": [],
   "source": []
  },
  {
   "cell_type": "code",
   "execution_count": 102,
   "metadata": {},
   "outputs": [],
   "source": [
    "prob = oneCardProbabilities(state)"
   ]
  },
  {
   "cell_type": "code",
   "execution_count": 103,
   "metadata": {},
   "outputs": [
    {
     "data": {
      "text/plain": [
       "array([0.07692308, 0.07692308, 0.07692308, 0.07692308, 0.07692308,\n",
       "       0.07692308, 0.07692308, 0.07692308, 0.07692308, 0.07692308,\n",
       "       0.07692308, 0.07692308, 0.07692308])"
      ]
     },
     "execution_count": 103,
     "metadata": {},
     "output_type": "execute_result"
    }
   ],
   "source": [
    "prob"
   ]
  },
  {
   "cell_type": "code",
   "execution_count": 11,
   "metadata": {},
   "outputs": [],
   "source": [
    "def runGame():\n",
    "    bluffCalled = 0\n",
    "\n",
    "    numPlayerCards = 4\n",
    "    numCpuCards = 4\n",
    "    deckSize = 13\n",
    "    factor = 1\n",
    "    \n",
    "    \n",
    "    deck = [i for i in range(deckSize) for j in range(4)]\n",
    "    random.shuffle(deck)\n",
    "    playerCards=deck[0:4]\n",
    "    cpuCards = deck[4:8]\n",
    "    #playerCards = [12, 0, 6, 3]\n",
    "    #cpuCards = [9, 0, 10, 9]\n",
    "    \n",
    "    state = np.array([1.0 for i in range(deckSize)])\n",
    "    ownCards = np.array([0 for i in range(deckSize)])\n",
    "    #ownCards[6] = 1\n",
    "    #ownCards[7] = 1\n",
    "    #ownCards[9] = 1\n",
    "    #ownCards[10] = 1\n",
    "    \n",
    "    for i in cpuCards:\n",
    "        ownCards[i] = ownCards[i]+1\n",
    "        \n",
    "    print('These are your cards:', playerCards)\n",
    "    #print(cpuCards)\n",
    "    previousProbs = [0]\n",
    "    numrounds= 0\n",
    "    while not bluffCalled:\n",
    "        \n",
    "        userIn = input('Make your decision:')\n",
    "        if(userIn == \"bluff\"):\n",
    "            bluffCalled = 1\n",
    "            print(cpuCards)\n",
    "            print(previousProbs)\n",
    "            break\n",
    "        else:\n",
    "            userIn=userIn.split()\n",
    "            call= np.array([int(userIn[0]), int(userIn[1]), int(userIn[2]), int(userIn[3])])\n",
    "            \n",
    "      \n",
    "            state= updateParameters(call, state, numPlayerCards, ownCards)\n",
    "           \n",
    "            numrounds = numrounds+1\n",
    "            print(\"rounds: \" + str(numrounds))\n",
    "            logger.debug(state)\n",
    "            decision = makeDecision(call, state, numPlayerCards, ownCards, callsList, numrounds)\n",
    "            if not decision:\n",
    "                print(\"Bluff\")\n",
    "                print(makeCall(call, state, numPlayerCards, ownCards, callsList))\n",
    "                bluffCalled = 1\n",
    "                print(cpuCards)\n",
    "                \n",
    "            else:\n",
    "                print(makeCall(call, state, numPlayerCards, ownCards, callsList)[0:4])\n",
    "                previousProbs.append(makeCall(call, state, numPlayerCards, ownCards, callsList)[4])\n",
    "                \n",
    "            \n",
    "        \n",
    "            \n",
    "            \n",
    "    \n",
    "    "
   ]
  },
  {
   "cell_type": "code",
   "execution_count": 105,
   "metadata": {},
   "outputs": [
    {
     "ename": "TypeError",
     "evalue": "twotypeCall() missing 1 required positional argument: 'typeTwo'",
     "output_type": "error",
     "traceback": [
      "\u001b[1;31m---------------------------------------------------------------------------\u001b[0m",
      "\u001b[1;31mTypeError\u001b[0m                                 Traceback (most recent call last)",
      "\u001b[1;32m<ipython-input-105-5bb6ec61135b>\u001b[0m in \u001b[0;36m<module>\u001b[1;34m()\u001b[0m\n\u001b[1;32m----> 1\u001b[1;33m \u001b[0mpgrad\u001b[0m\u001b[1;33m(\u001b[0m\u001b[0mstate\u001b[0m\u001b[1;33m,\u001b[0m \u001b[0mnumcards\u001b[0m\u001b[1;33m,\u001b[0m \u001b[1;36m4\u001b[0m\u001b[1;33m,\u001b[0m \u001b[1;36m3\u001b[0m\u001b[1;33m,\u001b[0m \u001b[1;36m1\u001b[0m\u001b[1;33m,\u001b[0m \u001b[1;36m2\u001b[0m\u001b[1;33m)\u001b[0m\u001b[1;33m\u001b[0m\u001b[0m\n\u001b[0m",
      "\u001b[1;32mc:\\users\\willi\\appdata\\local\\programs\\python\\python36-32\\lib\\site-packages\\autograd\\wrap_util.py\u001b[0m in \u001b[0;36mnary_f\u001b[1;34m(*args, **kwargs)\u001b[0m\n\u001b[0;32m     18\u001b[0m             \u001b[1;32melse\u001b[0m\u001b[1;33m:\u001b[0m\u001b[1;33m\u001b[0m\u001b[0m\n\u001b[0;32m     19\u001b[0m                 \u001b[0mx\u001b[0m \u001b[1;33m=\u001b[0m \u001b[0mtuple\u001b[0m\u001b[1;33m(\u001b[0m\u001b[0margs\u001b[0m\u001b[1;33m[\u001b[0m\u001b[0mi\u001b[0m\u001b[1;33m]\u001b[0m \u001b[1;32mfor\u001b[0m \u001b[0mi\u001b[0m \u001b[1;32min\u001b[0m \u001b[0margnum\u001b[0m\u001b[1;33m)\u001b[0m\u001b[1;33m\u001b[0m\u001b[0m\n\u001b[1;32m---> 20\u001b[1;33m             \u001b[1;32mreturn\u001b[0m \u001b[0munary_operator\u001b[0m\u001b[1;33m(\u001b[0m\u001b[0munary_f\u001b[0m\u001b[1;33m,\u001b[0m \u001b[0mx\u001b[0m\u001b[1;33m,\u001b[0m \u001b[1;33m*\u001b[0m\u001b[0mnary_op_args\u001b[0m\u001b[1;33m,\u001b[0m \u001b[1;33m**\u001b[0m\u001b[0mnary_op_kwargs\u001b[0m\u001b[1;33m)\u001b[0m\u001b[1;33m\u001b[0m\u001b[0m\n\u001b[0m\u001b[0;32m     21\u001b[0m         \u001b[1;32mreturn\u001b[0m \u001b[0mnary_f\u001b[0m\u001b[1;33m\u001b[0m\u001b[0m\n\u001b[0;32m     22\u001b[0m     \u001b[1;32mreturn\u001b[0m \u001b[0mnary_operator\u001b[0m\u001b[1;33m\u001b[0m\u001b[0m\n",
      "\u001b[1;32mc:\\users\\willi\\appdata\\local\\programs\\python\\python36-32\\lib\\site-packages\\autograd\\differential_operators.py\u001b[0m in \u001b[0;36melementwise_grad\u001b[1;34m(fun, x)\u001b[0m\n\u001b[0;32m     30\u001b[0m \u001b[1;33m@\u001b[0m\u001b[0munary_to_nary\u001b[0m\u001b[1;33m\u001b[0m\u001b[0m\n\u001b[0;32m     31\u001b[0m \u001b[1;32mdef\u001b[0m \u001b[0melementwise_grad\u001b[0m\u001b[1;33m(\u001b[0m\u001b[0mfun\u001b[0m\u001b[1;33m,\u001b[0m \u001b[0mx\u001b[0m\u001b[1;33m)\u001b[0m\u001b[1;33m:\u001b[0m\u001b[1;33m\u001b[0m\u001b[0m\n\u001b[1;32m---> 32\u001b[1;33m     \u001b[0mvjp\u001b[0m\u001b[1;33m,\u001b[0m \u001b[0mans\u001b[0m \u001b[1;33m=\u001b[0m \u001b[0m_make_vjp\u001b[0m\u001b[1;33m(\u001b[0m\u001b[0mfun\u001b[0m\u001b[1;33m,\u001b[0m \u001b[0mx\u001b[0m\u001b[1;33m)\u001b[0m\u001b[1;33m\u001b[0m\u001b[0m\n\u001b[0m\u001b[0;32m     33\u001b[0m     \u001b[1;32mif\u001b[0m \u001b[0mvspace\u001b[0m\u001b[1;33m(\u001b[0m\u001b[0mans\u001b[0m\u001b[1;33m)\u001b[0m\u001b[1;33m.\u001b[0m\u001b[0miscomplex\u001b[0m\u001b[1;33m:\u001b[0m\u001b[1;33m\u001b[0m\u001b[0m\n\u001b[0;32m     34\u001b[0m         \u001b[1;32mraise\u001b[0m \u001b[0mTypeError\u001b[0m\u001b[1;33m(\u001b[0m\u001b[1;34m\"Elementwise_grad only applies to real-output functions.\"\u001b[0m\u001b[1;33m)\u001b[0m\u001b[1;33m\u001b[0m\u001b[0m\n",
      "\u001b[1;32mc:\\users\\willi\\appdata\\local\\programs\\python\\python36-32\\lib\\site-packages\\autograd\\core.py\u001b[0m in \u001b[0;36mmake_vjp\u001b[1;34m(fun, x)\u001b[0m\n\u001b[0;32m      8\u001b[0m \u001b[1;32mdef\u001b[0m \u001b[0mmake_vjp\u001b[0m\u001b[1;33m(\u001b[0m\u001b[0mfun\u001b[0m\u001b[1;33m,\u001b[0m \u001b[0mx\u001b[0m\u001b[1;33m)\u001b[0m\u001b[1;33m:\u001b[0m\u001b[1;33m\u001b[0m\u001b[0m\n\u001b[0;32m      9\u001b[0m     \u001b[0mstart_node\u001b[0m \u001b[1;33m=\u001b[0m \u001b[0mVJPNode\u001b[0m\u001b[1;33m.\u001b[0m\u001b[0mnew_root\u001b[0m\u001b[1;33m(\u001b[0m\u001b[0mx\u001b[0m\u001b[1;33m)\u001b[0m\u001b[1;33m\u001b[0m\u001b[0m\n\u001b[1;32m---> 10\u001b[1;33m     \u001b[0mend_value\u001b[0m\u001b[1;33m,\u001b[0m \u001b[0mend_node\u001b[0m \u001b[1;33m=\u001b[0m  \u001b[0mtrace\u001b[0m\u001b[1;33m(\u001b[0m\u001b[0mstart_node\u001b[0m\u001b[1;33m,\u001b[0m \u001b[0mfun\u001b[0m\u001b[1;33m,\u001b[0m \u001b[0mx\u001b[0m\u001b[1;33m)\u001b[0m\u001b[1;33m\u001b[0m\u001b[0m\n\u001b[0m\u001b[0;32m     11\u001b[0m     \u001b[1;32mif\u001b[0m \u001b[0mend_node\u001b[0m \u001b[1;32mis\u001b[0m \u001b[1;32mNone\u001b[0m\u001b[1;33m:\u001b[0m\u001b[1;33m\u001b[0m\u001b[0m\n\u001b[0;32m     12\u001b[0m         \u001b[1;32mdef\u001b[0m \u001b[0mvjp\u001b[0m\u001b[1;33m(\u001b[0m\u001b[0mg\u001b[0m\u001b[1;33m)\u001b[0m\u001b[1;33m:\u001b[0m \u001b[1;32mreturn\u001b[0m \u001b[0mvspace\u001b[0m\u001b[1;33m(\u001b[0m\u001b[0mx\u001b[0m\u001b[1;33m)\u001b[0m\u001b[1;33m.\u001b[0m\u001b[0mzeros\u001b[0m\u001b[1;33m(\u001b[0m\u001b[1;33m)\u001b[0m\u001b[1;33m\u001b[0m\u001b[0m\n",
      "\u001b[1;32mc:\\users\\willi\\appdata\\local\\programs\\python\\python36-32\\lib\\site-packages\\autograd\\tracer.py\u001b[0m in \u001b[0;36mtrace\u001b[1;34m(start_node, fun, x)\u001b[0m\n\u001b[0;32m      8\u001b[0m     \u001b[1;32mwith\u001b[0m \u001b[0mtrace_stack\u001b[0m\u001b[1;33m.\u001b[0m\u001b[0mnew_trace\u001b[0m\u001b[1;33m(\u001b[0m\u001b[1;33m)\u001b[0m \u001b[1;32mas\u001b[0m \u001b[0mt\u001b[0m\u001b[1;33m:\u001b[0m\u001b[1;33m\u001b[0m\u001b[0m\n\u001b[0;32m      9\u001b[0m         \u001b[0mstart_box\u001b[0m \u001b[1;33m=\u001b[0m \u001b[0mnew_box\u001b[0m\u001b[1;33m(\u001b[0m\u001b[0mx\u001b[0m\u001b[1;33m,\u001b[0m \u001b[0mt\u001b[0m\u001b[1;33m,\u001b[0m \u001b[0mstart_node\u001b[0m\u001b[1;33m)\u001b[0m\u001b[1;33m\u001b[0m\u001b[0m\n\u001b[1;32m---> 10\u001b[1;33m         \u001b[0mend_box\u001b[0m \u001b[1;33m=\u001b[0m \u001b[0mfun\u001b[0m\u001b[1;33m(\u001b[0m\u001b[0mstart_box\u001b[0m\u001b[1;33m)\u001b[0m\u001b[1;33m\u001b[0m\u001b[0m\n\u001b[0m\u001b[0;32m     11\u001b[0m         \u001b[1;32mif\u001b[0m \u001b[0misbox\u001b[0m\u001b[1;33m(\u001b[0m\u001b[0mend_box\u001b[0m\u001b[1;33m)\u001b[0m \u001b[1;32mand\u001b[0m \u001b[0mend_box\u001b[0m\u001b[1;33m.\u001b[0m\u001b[0m_trace\u001b[0m \u001b[1;33m==\u001b[0m \u001b[0mstart_box\u001b[0m\u001b[1;33m.\u001b[0m\u001b[0m_trace\u001b[0m\u001b[1;33m:\u001b[0m\u001b[1;33m\u001b[0m\u001b[0m\n\u001b[0;32m     12\u001b[0m             \u001b[1;32mreturn\u001b[0m \u001b[0mend_box\u001b[0m\u001b[1;33m.\u001b[0m\u001b[0m_value\u001b[0m\u001b[1;33m,\u001b[0m \u001b[0mend_box\u001b[0m\u001b[1;33m.\u001b[0m\u001b[0m_node\u001b[0m\u001b[1;33m\u001b[0m\u001b[0m\n",
      "\u001b[1;32mc:\\users\\willi\\appdata\\local\\programs\\python\\python36-32\\lib\\site-packages\\autograd\\wrap_util.py\u001b[0m in \u001b[0;36munary_f\u001b[1;34m(x)\u001b[0m\n\u001b[0;32m     13\u001b[0m                 \u001b[1;32melse\u001b[0m\u001b[1;33m:\u001b[0m\u001b[1;33m\u001b[0m\u001b[0m\n\u001b[0;32m     14\u001b[0m                     \u001b[0msubargs\u001b[0m \u001b[1;33m=\u001b[0m \u001b[0msubvals\u001b[0m\u001b[1;33m(\u001b[0m\u001b[0margs\u001b[0m\u001b[1;33m,\u001b[0m \u001b[0mzip\u001b[0m\u001b[1;33m(\u001b[0m\u001b[0margnum\u001b[0m\u001b[1;33m,\u001b[0m \u001b[0mx\u001b[0m\u001b[1;33m)\u001b[0m\u001b[1;33m)\u001b[0m\u001b[1;33m\u001b[0m\u001b[0m\n\u001b[1;32m---> 15\u001b[1;33m                 \u001b[1;32mreturn\u001b[0m \u001b[0mfun\u001b[0m\u001b[1;33m(\u001b[0m\u001b[1;33m*\u001b[0m\u001b[0msubargs\u001b[0m\u001b[1;33m,\u001b[0m \u001b[1;33m**\u001b[0m\u001b[0mkwargs\u001b[0m\u001b[1;33m)\u001b[0m\u001b[1;33m\u001b[0m\u001b[0m\n\u001b[0m\u001b[0;32m     16\u001b[0m             \u001b[1;32mif\u001b[0m \u001b[0misinstance\u001b[0m\u001b[1;33m(\u001b[0m\u001b[0margnum\u001b[0m\u001b[1;33m,\u001b[0m \u001b[0mint\u001b[0m\u001b[1;33m)\u001b[0m\u001b[1;33m:\u001b[0m\u001b[1;33m\u001b[0m\u001b[0m\n\u001b[0;32m     17\u001b[0m                 \u001b[0mx\u001b[0m \u001b[1;33m=\u001b[0m \u001b[0margs\u001b[0m\u001b[1;33m[\u001b[0m\u001b[0margnum\u001b[0m\u001b[1;33m]\u001b[0m\u001b[1;33m\u001b[0m\u001b[0m\n",
      "\u001b[1;31mTypeError\u001b[0m: twotypeCall() missing 1 required positional argument: 'typeTwo'"
     ]
    }
   ],
   "source": [
    "pgrad(state, numcards, 4, 3, 1, 2)"
   ]
  },
  {
   "cell_type": "code",
   "execution_count": 106,
   "metadata": {},
   "outputs": [
    {
     "data": {
      "text/plain": [
       "array([ 3,  9, 27], dtype=int32)"
      ]
     },
     "execution_count": 106,
     "metadata": {},
     "output_type": "execute_result"
    }
   ],
   "source": [
    "3**np.array([1, 2, 3])"
   ]
  },
  {
   "cell_type": "code",
   "execution_count": 72,
   "metadata": {},
   "outputs": [
    {
     "data": {
      "text/plain": [
       "5"
      ]
     },
     "execution_count": 72,
     "metadata": {},
     "output_type": "execute_result"
    }
   ],
   "source": [
    "calls[0].size"
   ]
  },
  {
   "cell_type": "code",
   "execution_count": 92,
   "metadata": {},
   "outputs": [
    {
     "data": {
      "text/plain": [
       "array([[0.04347826, 0.04347826],\n",
       "       [0.04347826, 0.06521739],\n",
       "       [0.04347826, 0.08695652],\n",
       "       [0.04347826, 0.10869565],\n",
       "       [0.04347826, 0.13043478],\n",
       "       [0.04347826, 0.15217391],\n",
       "       [0.04347826, 0.17391304],\n",
       "       [0.04347826, 0.19565217],\n",
       "       [0.04347826, 0.2173913 ],\n",
       "       [0.06521739, 0.04347826],\n",
       "       [0.06521739, 0.06521739],\n",
       "       [0.06521739, 0.08695652],\n",
       "       [0.06521739, 0.10869565],\n",
       "       [0.06521739, 0.13043478],\n",
       "       [0.06521739, 0.15217391],\n",
       "       [0.06521739, 0.17391304],\n",
       "       [0.06521739, 0.19565217],\n",
       "       [0.06521739, 0.2173913 ],\n",
       "       [0.08695652, 0.04347826],\n",
       "       [0.08695652, 0.06521739],\n",
       "       [0.08695652, 0.08695652],\n",
       "       [0.08695652, 0.10869565],\n",
       "       [0.08695652, 0.13043478],\n",
       "       [0.08695652, 0.15217391],\n",
       "       [0.08695652, 0.17391304],\n",
       "       [0.08695652, 0.19565217],\n",
       "       [0.08695652, 0.2173913 ],\n",
       "       [0.10869565, 0.04347826],\n",
       "       [0.10869565, 0.06521739],\n",
       "       [0.10869565, 0.08695652],\n",
       "       [0.10869565, 0.10869565],\n",
       "       [0.10869565, 0.13043478],\n",
       "       [0.10869565, 0.15217391],\n",
       "       [0.10869565, 0.17391304],\n",
       "       [0.10869565, 0.19565217],\n",
       "       [0.10869565, 0.2173913 ],\n",
       "       [0.13043478, 0.04347826],\n",
       "       [0.13043478, 0.06521739],\n",
       "       [0.13043478, 0.08695652],\n",
       "       [0.13043478, 0.10869565],\n",
       "       [0.13043478, 0.13043478],\n",
       "       [0.13043478, 0.15217391],\n",
       "       [0.13043478, 0.17391304],\n",
       "       [0.13043478, 0.19565217],\n",
       "       [0.13043478, 0.2173913 ],\n",
       "       [0.15217391, 0.04347826],\n",
       "       [0.15217391, 0.06521739],\n",
       "       [0.15217391, 0.08695652],\n",
       "       [0.15217391, 0.10869565],\n",
       "       [0.15217391, 0.13043478],\n",
       "       [0.15217391, 0.15217391],\n",
       "       [0.15217391, 0.17391304],\n",
       "       [0.15217391, 0.19565217],\n",
       "       [0.15217391, 0.2173913 ],\n",
       "       [0.17391304, 0.04347826],\n",
       "       [0.17391304, 0.06521739],\n",
       "       [0.17391304, 0.08695652],\n",
       "       [0.17391304, 0.10869565],\n",
       "       [0.17391304, 0.13043478],\n",
       "       [0.17391304, 0.15217391],\n",
       "       [0.17391304, 0.17391304],\n",
       "       [0.17391304, 0.19565217],\n",
       "       [0.17391304, 0.2173913 ],\n",
       "       [0.19565217, 0.04347826],\n",
       "       [0.19565217, 0.06521739],\n",
       "       [0.19565217, 0.08695652],\n",
       "       [0.19565217, 0.10869565],\n",
       "       [0.19565217, 0.13043478],\n",
       "       [0.19565217, 0.15217391],\n",
       "       [0.19565217, 0.17391304],\n",
       "       [0.19565217, 0.19565217],\n",
       "       [0.19565217, 0.2173913 ],\n",
       "       [0.2173913 , 0.04347826],\n",
       "       [0.2173913 , 0.06521739],\n",
       "       [0.2173913 , 0.08695652],\n",
       "       [0.2173913 , 0.10869565],\n",
       "       [0.2173913 , 0.13043478],\n",
       "       [0.2173913 , 0.15217391],\n",
       "       [0.2173913 , 0.17391304],\n",
       "       [0.2173913 , 0.19565217],\n",
       "       [0.2173913 , 0.2173913 ]])"
      ]
     },
     "execution_count": 92,
     "metadata": {},
     "output_type": "execute_result"
    }
   ],
   "source": [
    "prob = oneCardProbabilities(state)\n",
    "np.array(list(map(np.array,itertools.product(prob,prob))))"
   ]
  },
  {
   "cell_type": "code",
   "execution_count": 134,
   "metadata": {},
   "outputs": [
    {
     "data": {
      "text/plain": [
       "array([[7.18950219e-05, 6.23392158e-01, 5.36118909e-01, 4.58983086e-01,\n",
       "        3.91092877e-01, 6.94962101e-04, 8.64181184e-04, 1.04062577e-03,\n",
       "        1.22154318e-03],\n",
       "       [2.30097998e-04, 5.86788684e-01, 5.02862922e-01, 4.28940575e-01,\n",
       "        3.64107782e-01, 2.21449261e-03, 2.75110885e-03, 3.30960438e-03,\n",
       "        3.88111767e-03],\n",
       "       [5.16600830e-04, 5.43934449e-01, 4.64385244e-01, 3.94567414e-01,\n",
       "        3.33559691e-01, 4.94910668e-03, 6.14228819e-03, 7.38169540e-03,\n",
       "        8.64731809e-03],\n",
       "       [9.54491227e-04, 4.97426885e-01, 4.22979340e-01, 3.57881752e-01,\n",
       "        3.01218046e-01, 9.10035627e-03, 1.12826205e-02, 1.35447474e-02,\n",
       "        1.58495559e-02],\n",
       "       [1.55824690e-03, 4.49343559e-01, 3.80466522e-01, 3.20473994e-01,\n",
       "        2.68465816e-01, 1.47820393e-02, 1.83067282e-02, 2.19524066e-02,\n",
       "        2.56580382e-02],\n",
       "       [2.33454339e-03, 4.01314003e-01, 3.38262822e-01, 2.83568945e-01,\n",
       "        2.36357124e-01, 2.20292741e-02, 2.72505932e-02, 3.26385747e-02,\n",
       "        3.81012823e-02],\n",
       "       [3.28304182e-03, 3.54584531e-01, 2.97439165e-01, 2.48081572e-01,\n",
       "        2.05668813e-01, 3.08073284e-02, 3.80628734e-02, 4.55314603e-02,\n",
       "        5.30831273e-02],\n",
       "       [4.39715647e-03, 3.10076477e-01, 2.58775298e-01, 2.14666823e-01,\n",
       "        1.76946370e-01, 4.10202005e-02, 5.06158970e-02, 6.04672218e-02,\n",
       "        7.03992422e-02],\n",
       "       [5.66480231e-03, 2.68438304e-01, 2.22807880e-01, 1.83763918e-01,\n",
       "        1.50544612e-01, 5.25189558e-02, 6.47163355e-02, 7.72032042e-02,\n",
       "        8.97531327e-02]])"
      ]
     },
     "execution_count": 134,
     "metadata": {},
     "output_type": "execute_result"
    }
   ],
   "source": [
    "twotype(state, numcards, 3, 2, ownCards)"
   ]
  },
  {
   "cell_type": "code",
   "execution_count": 24,
   "metadata": {},
   "outputs": [
    {
     "ename": "TypeError",
     "evalue": "'>' not supported between instances of 'int' and 'list'",
     "output_type": "error",
     "traceback": [
      "\u001b[1;31m---------------------------------------------------------------------------\u001b[0m",
      "\u001b[1;31mTypeError\u001b[0m                                 Traceback (most recent call last)",
      "\u001b[1;32m<ipython-input-24-7149c5d76765>\u001b[0m in \u001b[0;36m<module>\u001b[1;34m()\u001b[0m\n\u001b[1;32m----> 1\u001b[1;33m \u001b[0mmax\u001b[0m\u001b[1;33m(\u001b[0m\u001b[1;33m[\u001b[0m\u001b[1;36m1\u001b[0m\u001b[1;33m,\u001b[0m \u001b[1;36m2\u001b[0m\u001b[1;33m,\u001b[0m \u001b[1;33m-\u001b[0m\u001b[1;36m1\u001b[0m\u001b[1;33m]\u001b[0m\u001b[1;33m,\u001b[0m \u001b[1;36m0\u001b[0m\u001b[1;33m)\u001b[0m\u001b[1;33m\u001b[0m\u001b[0m\n\u001b[0m",
      "\u001b[1;31mTypeError\u001b[0m: '>' not supported between instances of 'int' and 'list'"
     ]
    }
   ],
   "source": [
    " max([1, 2, -1], 0)"
   ]
  },
  {
   "cell_type": "code",
   "execution_count": 121,
   "metadata": {},
   "outputs": [
    {
     "data": {
      "text/plain": [
       "0.0"
      ]
     },
     "execution_count": 121,
     "metadata": {},
     "output_type": "execute_result"
    }
   ],
   "source": [
    "comb(3, -1)"
   ]
  },
  {
   "cell_type": "code",
   "execution_count": null,
   "metadata": {},
   "outputs": [],
   "source": []
  },
  {
   "cell_type": "code",
   "execution_count": 77,
   "metadata": {},
   "outputs": [
    {
     "name": "stdout",
     "output_type": "stream",
     "text": [
      "These are your cards: [11, 0, 7, 8]\n"
     ]
    },
    {
     "ename": "AttributeError",
     "evalue": "type object 'StreamHandler' has no attribute 'level'",
     "output_type": "error",
     "traceback": [
      "\u001b[1;31m---------------------------------------------------------------------------\u001b[0m",
      "\u001b[1;31mAttributeError\u001b[0m                            Traceback (most recent call last)",
      "\u001b[1;32m<ipython-input-77-f21038d9759e>\u001b[0m in \u001b[0;36m<module>\u001b[1;34m()\u001b[0m\n\u001b[1;32m----> 1\u001b[1;33m \u001b[0mrunGame\u001b[0m\u001b[1;33m(\u001b[0m\u001b[1;33m)\u001b[0m\u001b[1;33m\u001b[0m\u001b[0m\n\u001b[0m",
      "\u001b[1;32m<ipython-input-63-94f5e065d876>\u001b[0m in \u001b[0;36mrunGame\u001b[1;34m()\u001b[0m\n\u001b[0;32m     42\u001b[0m \u001b[1;33m\u001b[0m\u001b[0m\n\u001b[0;32m     43\u001b[0m \u001b[1;33m\u001b[0m\u001b[0m\n\u001b[1;32m---> 44\u001b[1;33m             \u001b[0mstate\u001b[0m\u001b[1;33m=\u001b[0m \u001b[0mupdateParameters\u001b[0m\u001b[1;33m(\u001b[0m\u001b[0mcall\u001b[0m\u001b[1;33m,\u001b[0m \u001b[0mstate\u001b[0m\u001b[1;33m,\u001b[0m \u001b[0mnumPlayerCards\u001b[0m\u001b[1;33m,\u001b[0m \u001b[0mownCards\u001b[0m\u001b[1;33m)\u001b[0m\u001b[1;33m\u001b[0m\u001b[0m\n\u001b[0m\u001b[0;32m     45\u001b[0m \u001b[1;33m\u001b[0m\u001b[0m\n\u001b[0;32m     46\u001b[0m             \u001b[0mnumrounds\u001b[0m \u001b[1;33m=\u001b[0m \u001b[0mnumrounds\u001b[0m\u001b[1;33m+\u001b[0m\u001b[1;36m1\u001b[0m\u001b[1;33m\u001b[0m\u001b[0m\n",
      "\u001b[1;32m<ipython-input-61-035de37a6547>\u001b[0m in \u001b[0;36mupdateParameters\u001b[1;34m(call, state, numcards, ownCards)\u001b[0m\n\u001b[0;32m      6\u001b[0m        \u001b[0mgrad\u001b[0m\u001b[1;33m=\u001b[0m \u001b[0mpgrad\u001b[0m\u001b[1;33m(\u001b[0m\u001b[0mstate\u001b[0m\u001b[1;33m,\u001b[0m \u001b[0mnumcards\u001b[0m\u001b[1;33m,\u001b[0m \u001b[0mcall\u001b[0m\u001b[1;33m[\u001b[0m\u001b[1;36m0\u001b[0m\u001b[1;33m]\u001b[0m\u001b[1;33m,\u001b[0m \u001b[0mcall\u001b[0m\u001b[1;33m[\u001b[0m\u001b[1;36m1\u001b[0m\u001b[1;33m]\u001b[0m\u001b[1;33m,\u001b[0m \u001b[0mownCards\u001b[0m\u001b[1;33m,\u001b[0m \u001b[0mcall\u001b[0m\u001b[1;33m[\u001b[0m\u001b[1;36m2\u001b[0m\u001b[1;33m]\u001b[0m\u001b[1;33m,\u001b[0m \u001b[0mcall\u001b[0m\u001b[1;33m[\u001b[0m\u001b[1;36m3\u001b[0m\u001b[1;33m]\u001b[0m\u001b[1;33m)\u001b[0m\u001b[1;33m\u001b[0m\u001b[0m\n\u001b[0;32m      7\u001b[0m         \u001b[1;31m#state = state + grad/grad.max()/10\u001b[0m\u001b[1;33m\u001b[0m\u001b[1;33m\u001b[0m\u001b[0m\n\u001b[1;32m----> 8\u001b[1;33m     \u001b[0mlogger\u001b[0m\u001b[1;33m.\u001b[0m\u001b[0mdebug\u001b[0m\u001b[1;33m(\u001b[0m\u001b[0mnp\u001b[0m\u001b[1;33m.\u001b[0m\u001b[0mexp\u001b[0m\u001b[1;33m(\u001b[0m\u001b[0mgrad\u001b[0m\u001b[1;33m)\u001b[0m\u001b[1;33m)\u001b[0m\u001b[1;33m\u001b[0m\u001b[0m\n\u001b[0m\u001b[0;32m      9\u001b[0m     \u001b[0mlogger\u001b[0m\u001b[1;33m.\u001b[0m\u001b[0mdebug\u001b[0m\u001b[1;33m(\u001b[0m\u001b[0mgrad\u001b[0m\u001b[1;33m)\u001b[0m\u001b[1;33m\u001b[0m\u001b[0m\n\u001b[0;32m     10\u001b[0m \u001b[1;33m\u001b[0m\u001b[0m\n",
      "\u001b[1;32mc:\\users\\willi\\appdata\\local\\programs\\python\\python36-32\\lib\\logging\\__init__.py\u001b[0m in \u001b[0;36mdebug\u001b[1;34m(self, msg, *args, **kwargs)\u001b[0m\n\u001b[0;32m   1292\u001b[0m         \"\"\"\n\u001b[0;32m   1293\u001b[0m         \u001b[1;32mif\u001b[0m \u001b[0mself\u001b[0m\u001b[1;33m.\u001b[0m\u001b[0misEnabledFor\u001b[0m\u001b[1;33m(\u001b[0m\u001b[0mDEBUG\u001b[0m\u001b[1;33m)\u001b[0m\u001b[1;33m:\u001b[0m\u001b[1;33m\u001b[0m\u001b[0m\n\u001b[1;32m-> 1294\u001b[1;33m             \u001b[0mself\u001b[0m\u001b[1;33m.\u001b[0m\u001b[0m_log\u001b[0m\u001b[1;33m(\u001b[0m\u001b[0mDEBUG\u001b[0m\u001b[1;33m,\u001b[0m \u001b[0mmsg\u001b[0m\u001b[1;33m,\u001b[0m \u001b[0margs\u001b[0m\u001b[1;33m,\u001b[0m \u001b[1;33m**\u001b[0m\u001b[0mkwargs\u001b[0m\u001b[1;33m)\u001b[0m\u001b[1;33m\u001b[0m\u001b[0m\n\u001b[0m\u001b[0;32m   1295\u001b[0m \u001b[1;33m\u001b[0m\u001b[0m\n\u001b[0;32m   1296\u001b[0m     \u001b[1;32mdef\u001b[0m \u001b[0minfo\u001b[0m\u001b[1;33m(\u001b[0m\u001b[0mself\u001b[0m\u001b[1;33m,\u001b[0m \u001b[0mmsg\u001b[0m\u001b[1;33m,\u001b[0m \u001b[1;33m*\u001b[0m\u001b[0margs\u001b[0m\u001b[1;33m,\u001b[0m \u001b[1;33m**\u001b[0m\u001b[0mkwargs\u001b[0m\u001b[1;33m)\u001b[0m\u001b[1;33m:\u001b[0m\u001b[1;33m\u001b[0m\u001b[0m\n",
      "\u001b[1;32mc:\\users\\willi\\appdata\\local\\programs\\python\\python36-32\\lib\\logging\\__init__.py\u001b[0m in \u001b[0;36m_log\u001b[1;34m(self, level, msg, args, exc_info, extra, stack_info)\u001b[0m\n\u001b[0;32m   1440\u001b[0m         record = self.makeRecord(self.name, level, fn, lno, msg, args,\n\u001b[0;32m   1441\u001b[0m                                  exc_info, func, extra, sinfo)\n\u001b[1;32m-> 1442\u001b[1;33m         \u001b[0mself\u001b[0m\u001b[1;33m.\u001b[0m\u001b[0mhandle\u001b[0m\u001b[1;33m(\u001b[0m\u001b[0mrecord\u001b[0m\u001b[1;33m)\u001b[0m\u001b[1;33m\u001b[0m\u001b[0m\n\u001b[0m\u001b[0;32m   1443\u001b[0m \u001b[1;33m\u001b[0m\u001b[0m\n\u001b[0;32m   1444\u001b[0m     \u001b[1;32mdef\u001b[0m \u001b[0mhandle\u001b[0m\u001b[1;33m(\u001b[0m\u001b[0mself\u001b[0m\u001b[1;33m,\u001b[0m \u001b[0mrecord\u001b[0m\u001b[1;33m)\u001b[0m\u001b[1;33m:\u001b[0m\u001b[1;33m\u001b[0m\u001b[0m\n",
      "\u001b[1;32mc:\\users\\willi\\appdata\\local\\programs\\python\\python36-32\\lib\\logging\\__init__.py\u001b[0m in \u001b[0;36mhandle\u001b[1;34m(self, record)\u001b[0m\n\u001b[0;32m   1450\u001b[0m         \"\"\"\n\u001b[0;32m   1451\u001b[0m         \u001b[1;32mif\u001b[0m \u001b[1;33m(\u001b[0m\u001b[1;32mnot\u001b[0m \u001b[0mself\u001b[0m\u001b[1;33m.\u001b[0m\u001b[0mdisabled\u001b[0m\u001b[1;33m)\u001b[0m \u001b[1;32mand\u001b[0m \u001b[0mself\u001b[0m\u001b[1;33m.\u001b[0m\u001b[0mfilter\u001b[0m\u001b[1;33m(\u001b[0m\u001b[0mrecord\u001b[0m\u001b[1;33m)\u001b[0m\u001b[1;33m:\u001b[0m\u001b[1;33m\u001b[0m\u001b[0m\n\u001b[1;32m-> 1452\u001b[1;33m             \u001b[0mself\u001b[0m\u001b[1;33m.\u001b[0m\u001b[0mcallHandlers\u001b[0m\u001b[1;33m(\u001b[0m\u001b[0mrecord\u001b[0m\u001b[1;33m)\u001b[0m\u001b[1;33m\u001b[0m\u001b[0m\n\u001b[0m\u001b[0;32m   1453\u001b[0m \u001b[1;33m\u001b[0m\u001b[0m\n\u001b[0;32m   1454\u001b[0m     \u001b[1;32mdef\u001b[0m \u001b[0maddHandler\u001b[0m\u001b[1;33m(\u001b[0m\u001b[0mself\u001b[0m\u001b[1;33m,\u001b[0m \u001b[0mhdlr\u001b[0m\u001b[1;33m)\u001b[0m\u001b[1;33m:\u001b[0m\u001b[1;33m\u001b[0m\u001b[0m\n",
      "\u001b[1;32mc:\\users\\willi\\appdata\\local\\programs\\python\\python36-32\\lib\\logging\\__init__.py\u001b[0m in \u001b[0;36mcallHandlers\u001b[1;34m(self, record)\u001b[0m\n\u001b[0;32m   1511\u001b[0m             \u001b[1;32mfor\u001b[0m \u001b[0mhdlr\u001b[0m \u001b[1;32min\u001b[0m \u001b[0mc\u001b[0m\u001b[1;33m.\u001b[0m\u001b[0mhandlers\u001b[0m\u001b[1;33m:\u001b[0m\u001b[1;33m\u001b[0m\u001b[0m\n\u001b[0;32m   1512\u001b[0m                 \u001b[0mfound\u001b[0m \u001b[1;33m=\u001b[0m \u001b[0mfound\u001b[0m \u001b[1;33m+\u001b[0m \u001b[1;36m1\u001b[0m\u001b[1;33m\u001b[0m\u001b[0m\n\u001b[1;32m-> 1513\u001b[1;33m                 \u001b[1;32mif\u001b[0m \u001b[0mrecord\u001b[0m\u001b[1;33m.\u001b[0m\u001b[0mlevelno\u001b[0m \u001b[1;33m>=\u001b[0m \u001b[0mhdlr\u001b[0m\u001b[1;33m.\u001b[0m\u001b[0mlevel\u001b[0m\u001b[1;33m:\u001b[0m\u001b[1;33m\u001b[0m\u001b[0m\n\u001b[0m\u001b[0;32m   1514\u001b[0m                     \u001b[0mhdlr\u001b[0m\u001b[1;33m.\u001b[0m\u001b[0mhandle\u001b[0m\u001b[1;33m(\u001b[0m\u001b[0mrecord\u001b[0m\u001b[1;33m)\u001b[0m\u001b[1;33m\u001b[0m\u001b[0m\n\u001b[0;32m   1515\u001b[0m             \u001b[1;32mif\u001b[0m \u001b[1;32mnot\u001b[0m \u001b[0mc\u001b[0m\u001b[1;33m.\u001b[0m\u001b[0mpropagate\u001b[0m\u001b[1;33m:\u001b[0m\u001b[1;33m\u001b[0m\u001b[0m\n",
      "\u001b[1;31mAttributeError\u001b[0m: type object 'StreamHandler' has no attribute 'level'"
     ]
    }
   ],
   "source": [
    "runGame()\n"
   ]
  },
  {
   "cell_type": "code",
   "execution_count": 60,
   "metadata": {},
   "outputs": [
    {
     "data": {
      "text/plain": [
       "0.2536748583718859"
      ]
     },
     "execution_count": 60,
     "metadata": {},
     "output_type": "execute_result"
    }
   ],
   "source": [
    "onetypeCall(np.array([0.837, 1.92, 0.837, 0.837, 1.916, 0.837, 0.837, 0.837, 0.837, 0.837, 0.837, 0.837, 0.837]), 4, 1, np.array([0 for i in range(13)]), 7)\n",
    "    \n"
   ]
  },
  {
   "cell_type": "code",
   "execution_count": 28,
   "metadata": {},
   "outputs": [
    {
     "data": {
      "text/plain": [
       "[array([0.82182144, 0.82182144, 0.82182144, 0.82182144, 0.82182144,\n",
       "        0.82182144, 0.82182144, 0.82182144, 0.82182144]),\n",
       " array([0.48627712, 0.48627712, 0.48627712, 0.48627712, 0.48627712,\n",
       "        0.48627712, 0.48627712, 0.48627712, 0.48627712]),\n",
       " array([[0.2012416, 0.2012416, 0.2012416, 0.2012416, 0.2012416, 0.2012416,\n",
       "         0.2012416, 0.2012416, 0.2012416],\n",
       "        [0.2012416, 0.2012416, 0.2012416, 0.2012416, 0.2012416, 0.2012416,\n",
       "         0.2012416, 0.2012416, 0.2012416],\n",
       "        [0.2012416, 0.2012416, 0.2012416, 0.2012416, 0.2012416, 0.2012416,\n",
       "         0.2012416, 0.2012416, 0.2012416],\n",
       "        [0.2012416, 0.2012416, 0.2012416, 0.2012416, 0.2012416, 0.2012416,\n",
       "         0.2012416, 0.2012416, 0.2012416],\n",
       "        [0.2012416, 0.2012416, 0.2012416, 0.2012416, 0.2012416, 0.2012416,\n",
       "         0.2012416, 0.2012416, 0.2012416],\n",
       "        [0.2012416, 0.2012416, 0.2012416, 0.2012416, 0.2012416, 0.2012416,\n",
       "         0.2012416, 0.2012416, 0.2012416],\n",
       "        [0.2012416, 0.2012416, 0.2012416, 0.2012416, 0.2012416, 0.2012416,\n",
       "         0.2012416, 0.2012416, 0.2012416],\n",
       "        [0.2012416, 0.2012416, 0.2012416, 0.2012416, 0.2012416, 0.2012416,\n",
       "         0.2012416, 0.2012416, 0.2012416],\n",
       "        [0.2012416, 0.2012416, 0.2012416, 0.2012416, 0.2012416, 0.2012416,\n",
       "         0.2012416, 0.2012416, 0.2012416]]),\n",
       " array([0.19267584, 0.19267584, 0.19267584, 0.19267584, 0.19267584,\n",
       "        0.19267584, 0.19267584, 0.19267584, 0.19267584]),\n",
       " array([[0.0657664, 0.0657664, 0.0657664, 0.0657664, 0.0657664, 0.0657664,\n",
       "         0.0657664, 0.0657664, 0.0657664],\n",
       "        [0.0657664, 0.0657664, 0.0657664, 0.0657664, 0.0657664, 0.0657664,\n",
       "         0.0657664, 0.0657664, 0.0657664],\n",
       "        [0.0657664, 0.0657664, 0.0657664, 0.0657664, 0.0657664, 0.0657664,\n",
       "         0.0657664, 0.0657664, 0.0657664],\n",
       "        [0.0657664, 0.0657664, 0.0657664, 0.0657664, 0.0657664, 0.0657664,\n",
       "         0.0657664, 0.0657664, 0.0657664],\n",
       "        [0.0657664, 0.0657664, 0.0657664, 0.0657664, 0.0657664, 0.0657664,\n",
       "         0.0657664, 0.0657664, 0.0657664],\n",
       "        [0.0657664, 0.0657664, 0.0657664, 0.0657664, 0.0657664, 0.0657664,\n",
       "         0.0657664, 0.0657664, 0.0657664],\n",
       "        [0.0657664, 0.0657664, 0.0657664, 0.0657664, 0.0657664, 0.0657664,\n",
       "         0.0657664, 0.0657664, 0.0657664],\n",
       "        [0.0657664, 0.0657664, 0.0657664, 0.0657664, 0.0657664, 0.0657664,\n",
       "         0.0657664, 0.0657664, 0.0657664],\n",
       "        [0.0657664, 0.0657664, 0.0657664, 0.0657664, 0.0657664, 0.0657664,\n",
       "         0.0657664, 0.0657664, 0.0657664]]),\n",
       " array([0.0458752, 0.0458752, 0.0458752, 0.0458752, 0.0458752, 0.0458752,\n",
       "        0.0458752, 0.0458752, 0.0458752]),\n",
       " array([[0.0023296, 0.0023296, 0.0023296, 0.0023296, 0.0023296, 0.0023296,\n",
       "         0.0023296, 0.0023296, 0.0023296],\n",
       "        [0.0023296, 0.0023296, 0.0023296, 0.0023296, 0.0023296, 0.0023296,\n",
       "         0.0023296, 0.0023296, 0.0023296],\n",
       "        [0.0023296, 0.0023296, 0.0023296, 0.0023296, 0.0023296, 0.0023296,\n",
       "         0.0023296, 0.0023296, 0.0023296],\n",
       "        [0.0023296, 0.0023296, 0.0023296, 0.0023296, 0.0023296, 0.0023296,\n",
       "         0.0023296, 0.0023296, 0.0023296],\n",
       "        [0.0023296, 0.0023296, 0.0023296, 0.0023296, 0.0023296, 0.0023296,\n",
       "         0.0023296, 0.0023296, 0.0023296],\n",
       "        [0.0023296, 0.0023296, 0.0023296, 0.0023296, 0.0023296, 0.0023296,\n",
       "         0.0023296, 0.0023296, 0.0023296],\n",
       "        [0.0023296, 0.0023296, 0.0023296, 0.0023296, 0.0023296, 0.0023296,\n",
       "         0.0023296, 0.0023296, 0.0023296],\n",
       "        [0.0023296, 0.0023296, 0.0023296, 0.0023296, 0.0023296, 0.0023296,\n",
       "         0.0023296, 0.0023296, 0.0023296],\n",
       "        [0.0023296, 0.0023296, 0.0023296, 0.0023296, 0.0023296, 0.0023296,\n",
       "         0.0023296, 0.0023296, 0.0023296]])]"
      ]
     },
     "execution_count": 28,
     "metadata": {},
     "output_type": "execute_result"
    }
   ],
   "source": [
    "allCallProb = [onetype(state, numcards, 1, ownCards), onetype(state, numcards, 2, ownCards), twotype(state, numcards, 2, 2, ownCards), onetype(state, numcards, 3, ownCards), twotype(state, numcards, 3, 2, ownCards), onetype(state, numcards, 4, ownCards), twotype(state, numcards, 4, 3, ownCards)]\n",
    "allCallProb"
   ]
  },
  {
   "cell_type": "code",
   "execution_count": 38,
   "metadata": {},
   "outputs": [
    {
     "name": "stdout",
     "output_type": "stream",
     "text": [
      "[[[0.5  0.5 ]\n",
      "  [0.75 0.75]]\n",
      "\n",
      " [[0.5  0.75]\n",
      "  [0.5  0.75]]]\n"
     ]
    },
    {
     "data": {
      "text/plain": [
       "array([[0.        , 0.        ],\n",
       "       [0.20703125, 0.        ]])"
      ]
     },
     "execution_count": 38,
     "metadata": {},
     "output_type": "execute_result"
    }
   ],
   "source": [
    "twotype(np.array([1, 2]), 4, 3, 2, np.array([3, 0]))\n"
   ]
  },
  {
   "cell_type": "code",
   "execution_count": 30,
   "metadata": {},
   "outputs": [
    {
     "data": {
      "text/plain": [
       "array([2, 8])"
      ]
     },
     "execution_count": 30,
     "metadata": {},
     "output_type": "execute_result"
    }
   ],
   "source": [
    "np.array([1, 2])*np.array([2, 4])"
   ]
  },
  {
   "cell_type": "code",
   "execution_count": 79,
   "metadata": {},
   "outputs": [
    {
     "data": {
      "text/plain": [
       "array([ 1.        , -0.18181818, -0.18181818, -0.18181818,  1.        ,\n",
       "       -0.18181818, -0.18181818, -0.18181818, -0.18181818, -0.18181818,\n",
       "       -0.18181818, -0.18181818, -0.18181818])"
      ]
     },
     "execution_count": 79,
     "metadata": {},
     "output_type": "execute_result"
    }
   ],
   "source": [
    "pgrad(np.array([1.0 for i in range(13)]), 4, 2, 2, np.array([0 for i in range(13)]), 4, 0)/abs(pgrad(np.array([1.0 for i in range(13)]), 4, 2, 2, np.array([0 for i in range(13)]), 4, 0)).max()"
   ]
  },
  {
   "cell_type": "code",
   "execution_count": 78,
   "metadata": {},
   "outputs": [
    {
     "data": {
      "text/plain": [
       "1.0"
      ]
     },
     "execution_count": 78,
     "metadata": {},
     "output_type": "execute_result"
    }
   ],
   "source": [
    "onetypeCall(np.array([1, 1]), 1, 1, np.array([1, 1]), 1)"
   ]
  },
  {
   "cell_type": "code",
   "execution_count": 13,
   "metadata": {},
   "outputs": [
    {
     "data": {
      "text/plain": [
       "array([0., 0., 0., 0., 0., 0., 0., 0., 0.])"
      ]
     },
     "execution_count": 13,
     "metadata": {},
     "output_type": "execute_result"
    }
   ],
   "source": [
    "state"
   ]
  },
  {
   "cell_type": "code",
   "execution_count": 148,
   "metadata": {},
   "outputs": [
    {
     "name": "stdout",
     "output_type": "stream",
     "text": [
      "(2, 13, 13)\n",
      "(2, 13, 13)\n",
      "(2, 13, 13)\n",
      "2\n",
      "2\n",
      "2\n",
      "2\n",
      "2\n"
     ]
    },
    {
     "data": {
      "text/plain": [
       "[3, 0, 7, -1, 0.2423529805461931]"
      ]
     },
     "execution_count": 148,
     "metadata": {},
     "output_type": "execute_result"
    }
   ],
   "source": [
    "makeCall(np.array([2, 0, 8, 0]), np.array([0.76119419, 0.76119419, 0.76119419, 0.76119419, 0.76119419, 1.84452753,\n",
    " 0.76119419, 0.76119419, 1.83708189, 1.84077897, 0.76119419, 0.76119419,\n",
    " 0.76119419]), 4, np.array([0, 0, 0, 1, 0, 0,\n",
    " 1, 2, 0, 0, 0, 0,\n",
    " 0]), callsList)"
   ]
  },
  {
   "cell_type": "code",
   "execution_count": 152,
   "metadata": {},
   "outputs": [
    {
     "name": "stdout",
     "output_type": "stream",
     "text": [
      "(2, 13, 13)\n"
     ]
    },
    {
     "data": {
      "text/plain": [
       "array([[0.00012375, 0.00012375, 0.00012375, 0.00012375, 0.00012375,\n",
       "        0.00032281, 0.00012375, 0.00012375, 0.00032112, 0.00032195,\n",
       "        0.00012375, 0.00012375, 0.00012375],\n",
       "       [0.00012375, 0.00012375, 0.00012375, 0.00012375, 0.00012375,\n",
       "        0.00032281, 0.00012375, 0.00012375, 0.00032112, 0.00032195,\n",
       "        0.00012375, 0.00012375, 0.00012375],\n",
       "       [0.00012375, 0.00012375, 0.00012375, 0.00012375, 0.00012375,\n",
       "        0.00032281, 0.00012375, 0.00012375, 0.00032112, 0.00032195,\n",
       "        0.00012375, 0.00012375, 0.00012375],\n",
       "       [0.00012375, 0.00012375, 0.00012375, 0.00012375, 0.00012375,\n",
       "        0.00032281, 0.00012375, 0.00012375, 0.00032112, 0.00032195,\n",
       "        0.00012375, 0.00012375, 0.00012375],\n",
       "       [0.00012375, 0.00012375, 0.00012375, 0.00012375, 0.00012375,\n",
       "        0.00032281, 0.00012375, 0.00012375, 0.00032112, 0.00032195,\n",
       "        0.00012375, 0.00012375, 0.00012375],\n",
       "       [0.00032281, 0.00032281, 0.00032281, 0.00032281, 0.00032281,\n",
       "        0.00084207, 0.00032281, 0.00032281, 0.00083766, 0.00083985,\n",
       "        0.00032281, 0.00032281, 0.00032281],\n",
       "       [0.00012375, 0.00012375, 0.00012375, 0.00012375, 0.00012375,\n",
       "        0.00032281, 0.00012375, 0.00012375, 0.00032112, 0.00032195,\n",
       "        0.00012375, 0.00012375, 0.00012375],\n",
       "       [0.00012375, 0.00012375, 0.00012375, 0.00012375, 0.00012375,\n",
       "        0.00032281, 0.00012375, 0.00012375, 0.00032112, 0.00032195,\n",
       "        0.00012375, 0.00012375, 0.00012375],\n",
       "       [0.00032112, 0.00032112, 0.00032112, 0.00032112, 0.00032112,\n",
       "        0.00083766, 0.00032112, 0.00032112, 0.00083328, 0.00083546,\n",
       "        0.00032112, 0.00032112, 0.00032112],\n",
       "       [0.00032195, 0.00032195, 0.00032195, 0.00032195, 0.00032195,\n",
       "        0.00083985, 0.00032195, 0.00032195, 0.00083546, 0.00083764,\n",
       "        0.00032195, 0.00032195, 0.00032195],\n",
       "       [0.00012375, 0.00012375, 0.00012375, 0.00012375, 0.00012375,\n",
       "        0.00032281, 0.00012375, 0.00012375, 0.00032112, 0.00032195,\n",
       "        0.00012375, 0.00012375, 0.00012375],\n",
       "       [0.00012375, 0.00012375, 0.00012375, 0.00012375, 0.00012375,\n",
       "        0.00032281, 0.00012375, 0.00012375, 0.00032112, 0.00032195,\n",
       "        0.00012375, 0.00012375, 0.00012375],\n",
       "       [0.00012375, 0.00012375, 0.00012375, 0.00012375, 0.00012375,\n",
       "        0.00032281, 0.00012375, 0.00012375, 0.00032112, 0.00032195,\n",
       "        0.00012375, 0.00012375, 0.00012375]])"
      ]
     },
     "execution_count": 152,
     "metadata": {},
     "output_type": "execute_result"
    }
   ],
   "source": [
    "twotype(np.array([0.76119419, 0.76119419, 0.76119419, 0.76119419, 0.76119419, 1.84452753,\n",
    " 0.76119419, 0.76119419, 1.83708189, 1.84077897, 0.76119419, 0.76119419,\n",
    " 0.76119419]), 4, 2, 2, np.array([0, 0, 0, 0, 0, 0,\n",
    " 0, 0, 0, 0, 0, 0,\n",
    " 0]))"
   ]
  },
  {
   "cell_type": "code",
   "execution_count": 43,
   "metadata": {},
   "outputs": [
    {
     "data": {
      "text/plain": [
       "13.13433029"
      ]
     },
     "execution_count": 43,
     "metadata": {},
     "output_type": "execute_result"
    }
   ],
   "source": [
    "sum(np.array([0.76119419, 0.76119419, 0.76119419, 0.76119419, 0.76119419, 1.84452753,\n",
    " 0.76119419, 0.76119419, 1.83708189, 1.84077897, 0.76119419, 0.76119419,\n",
    " 0.76119419]))"
   ]
  },
  {
   "cell_type": "code",
   "execution_count": 57,
   "metadata": {},
   "outputs": [
    {
     "data": {
      "text/plain": [
       "array([[8, 6],\n",
       "       [4, 3]])"
      ]
     },
     "execution_count": 57,
     "metadata": {},
     "output_type": "execute_result"
    }
   ],
   "source": [
    "np.array([[4,3]])*np.array([[2],[1]])"
   ]
  },
  {
   "cell_type": "code",
   "execution_count": 146,
   "metadata": {},
   "outputs": [],
   "source": [
    "def tt(state, numcards, countOne, countTwo, ownCards):\n",
    "    \"\"\" Output is a 13x13 matrix \n",
    "    state vector of size 13\n",
    "    numCards, countOne, countTwo numbers\n",
    "    ownCards vector of size 13\n",
    "    \n",
    "    Converts state to 2x13x13 matrix\n",
    "    \"\"\"\n",
    "    prob = oneCardProbabilities(state)\n",
    "    #probPairs = np.array(np.meshgrid(prob,prob)) # so that it has shape (2,13,13)\n",
    "    probPairs = np.transpose(np.reshape(np.array(list(map(np.array,itertools.product(prob,prob)))),(state.size,state.size,2)),(2,0,1))\n",
    "   \n",
    "             #print(probPairs.shape)\n",
    "#     probabilities = np.zeroes([len(state), len(state)])\n",
    "#     for i in range(len(state)):\n",
    "#         for j in range(len(state)):\n",
    "#             twopairprob(probPairs[i, j], numcards)\n",
    "    \n",
    "    return ttp(probPairs, numcards, countOne, countTwo, ownCards)\n",
    "\n",
    "def ttp(p, numcards, countCardOne, countCardTwo, ownCards):\n",
    "    \"\"\" Output is a 13x13 matrix. \n",
    "    p.shape=2x13x13 >state made into grid representing pairs\n",
    "    numcards, countCardOne, countCardTwo numbers\n",
    "    ownCards vector of size 13\n",
    "    \n",
    "    Returns matrix representing probabilities of calls\n",
    "    \"\"\"\n",
    "    prob = 0\n",
    "    \n",
    "    for i in range(countCardOne, 5):\n",
    "        for j in range(countCardTwo, 5):\n",
    "            prob = prob + (comb(numcards, i-ownCards) * (p[0])**(i-ownCards))\n",
    "            \n",
    "    print((comb(numcards, i-ownCards).reshape(ownCards.shape[0], 1) * (p[0])**(i-ownCards).reshape(ownCards.shape[0],1)).shape)\n",
    "    \n",
    "    return prob"
   ]
  },
  {
   "cell_type": "code",
   "execution_count": 147,
   "metadata": {},
   "outputs": [
    {
     "name": "stdout",
     "output_type": "stream",
     "text": [
      "(13, 13)\n"
     ]
    },
    {
     "data": {
      "text/plain": [
       "array([[0.00218962, 0.00218962, 0.00218962, 0.00218962, 0.00218962,\n",
       "        0.00218962, 0.00218962, 0.00218962, 0.00218962, 0.00218962,\n",
       "        0.00218962, 0.00218962, 0.00218962],\n",
       "       [0.0088227 , 0.0088227 , 0.0088227 , 0.0088227 , 0.0088227 ,\n",
       "        0.0088227 , 0.0088227 , 0.0088227 , 0.0088227 , 0.0088227 ,\n",
       "        0.0088227 , 0.0088227 , 0.0088227 ],\n",
       "       [0.01999635, 0.01999635, 0.01999635, 0.01999635, 0.01999635,\n",
       "        0.01999635, 0.01999635, 0.01999635, 0.01999635, 0.01999635,\n",
       "        0.01999635, 0.01999635, 0.01999635],\n",
       "       [0.03580876, 0.03580876, 0.03580876, 0.03580876, 0.03580876,\n",
       "        0.03580876, 0.03580876, 0.03580876, 0.03580876, 0.03580876,\n",
       "        0.03580876, 0.03580876, 0.03580876],\n",
       "       [0.05635913, 0.05635913, 0.05635913, 0.05635913, 0.05635913,\n",
       "        0.05635913, 0.05635913, 0.05635913, 0.05635913, 0.05635913,\n",
       "        0.05635913, 0.05635913, 0.05635913],\n",
       "       [0.08174774, 0.08174774, 0.08174774, 0.08174774, 0.08174774,\n",
       "        0.08174774, 0.08174774, 0.08174774, 0.08174774, 0.08174774,\n",
       "        0.08174774, 0.08174774, 0.08174774],\n",
       "       [0.11207591, 0.11207591, 0.11207591, 0.11207591, 0.11207591,\n",
       "        0.11207591, 0.11207591, 0.11207591, 0.11207591, 0.11207591,\n",
       "        0.11207591, 0.11207591, 0.11207591],\n",
       "       [0.147446  , 0.147446  , 0.147446  , 0.147446  , 0.147446  ,\n",
       "        0.147446  , 0.147446  , 0.147446  , 0.147446  , 0.147446  ,\n",
       "        0.147446  , 0.147446  , 0.147446  ],\n",
       "       [0.18796145, 0.18796145, 0.18796145, 0.18796145, 0.18796145,\n",
       "        0.18796145, 0.18796145, 0.18796145, 0.18796145, 0.18796145,\n",
       "        0.18796145, 0.18796145, 0.18796145],\n",
       "       [0.23372671, 0.23372671, 0.23372671, 0.23372671, 0.23372671,\n",
       "        0.23372671, 0.23372671, 0.23372671, 0.23372671, 0.23372671,\n",
       "        0.23372671, 0.23372671, 0.23372671],\n",
       "       [0.28484731, 0.28484731, 0.28484731, 0.28484731, 0.28484731,\n",
       "        0.28484731, 0.28484731, 0.28484731, 0.28484731, 0.28484731,\n",
       "        0.28484731, 0.28484731, 0.28484731],\n",
       "       [0.34142981, 0.34142981, 0.34142981, 0.34142981, 0.34142981,\n",
       "        0.34142981, 0.34142981, 0.34142981, 0.34142981, 0.34142981,\n",
       "        0.34142981, 0.34142981, 0.34142981],\n",
       "       [0.40358184, 0.40358184, 0.40358184, 0.40358184, 0.40358184,\n",
       "        0.40358184, 0.40358184, 0.40358184, 0.40358184, 0.40358184,\n",
       "        0.40358184, 0.40358184, 0.40358184]])"
      ]
     },
     "execution_count": 147,
     "metadata": {},
     "output_type": "execute_result"
    }
   ],
   "source": [
    "\n",
    "tt(np.arange(13), 4, 2, 2, np.array([0, 0, 0, 0, 0, 0,\n",
    " 0, 0, 0, 0, 0, 0,\n",
    " 0]))"
   ]
  },
  {
   "cell_type": "code",
   "execution_count": 93,
   "metadata": {},
   "outputs": [
    {
     "data": {
      "text/plain": [
       "array([[0],\n",
       "       [1],\n",
       "       [2],\n",
       "       [3]])"
      ]
     },
     "execution_count": 93,
     "metadata": {},
     "output_type": "execute_result"
    }
   ],
   "source": [
    "np.arange(4).reshape(4,1)"
   ]
  },
  {
   "cell_type": "code",
   "execution_count": 107,
   "metadata": {},
   "outputs": [
    {
     "data": {
      "text/plain": [
       "array([[ 1,  2],\n",
       "       [ 9, 16]], dtype=int32)"
      ]
     },
     "execution_count": 107,
     "metadata": {},
     "output_type": "execute_result"
    }
   ],
   "source": [
    "np.array([[1, 2],[3, 4]])**np.reshape(np.array([1, 2]), (2, 1))"
   ]
  },
  {
   "cell_type": "code",
   "execution_count": 114,
   "metadata": {},
   "outputs": [
    {
     "data": {
      "text/plain": [
       "array([[ 0,  1,  8, 81],\n",
       "       [ 0,  1,  8, 81],\n",
       "       [ 0,  1,  8, 81],\n",
       "       [ 0,  1,  8, 81]], dtype=int32)"
      ]
     },
     "execution_count": 114,
     "metadata": {},
     "output_type": "execute_result"
    }
   ],
   "source": [
    "np.tile(np.arange(4),4).reshape(4,4)**np.array([[1,2,3,4]])"
   ]
  },
  {
   "cell_type": "code",
   "execution_count": 165,
   "metadata": {},
   "outputs": [
    {
     "name": "stdout",
     "output_type": "stream",
     "text": [
      "(2, 3, 3)\n"
     ]
    },
    {
     "data": {
      "text/plain": [
       "array([[0.51311953, 0.09329446, 0.63973344],\n",
       "       [0.17230916, 0.03998334, 0.20991254],\n",
       "       [0.63973344, 0.13994169, 0.78717201]])"
      ]
     },
     "execution_count": 165,
     "metadata": {},
     "output_type": "execute_result"
    }
   ],
   "source": [
    "twotype(np.array([1, 1, 2]), 4, 2, 2, np.array([1, 0, 1]))"
   ]
  },
  {
   "cell_type": "code",
   "execution_count": 18,
   "metadata": {},
   "outputs": [],
   "source": [
    "def runGameTwo():\n",
    "    bluffCalled = 0\n",
    "\n",
    "    numPlayerCards = 4\n",
    "    numCpuCards = 4\n",
    "    deckSize = 13\n",
    "    factor = 1\n",
    "    \n",
    "    \n",
    "    deck = [i for i in range(deckSize) for j in range(4)]\n",
    "    random.shuffle(deck)\n",
    "    playerCards=deck[0:4]\n",
    "    cpuCards = deck[4:8]\n",
    "    #playerCards = [4, 8, 4, 9]\n",
    "    #cpuCards = [1, 10, 2, 12]\n",
    "    \n",
    "    state = np.array([0.0 for i in range(deckSize)])\n",
    "    ownCards = np.array([0 for i in range(deckSize)])\n",
    "    #ownCards[6] = 1\n",
    "    #ownCards[7] = 1\n",
    "    #ownCards[9] = 1\n",
    "    #ownCards[10] = 1\n",
    "    \n",
    "    for i in cpuCards:\n",
    "        ownCards[i] = ownCards[i]+1\n",
    "        \n",
    "    print('These are your cards:', playerCards)\n",
    "    #print(cpuCards)\n",
    "    \n",
    "    numrounds= 0\n",
    "    while not bluffCalled:\n",
    "        \n",
    "        userIn = input('Make your decision:')\n",
    "        if(userIn == \"bluff\"):\n",
    "            bluffCalled = 1\n",
    "            print(cpuCards)\n",
    "            break\n",
    "        else:\n",
    "            userIn=userIn.split()\n",
    "            call= np.array([int(userIn[0]), int(userIn[1]), int(userIn[2]), int(userIn[3])])\n",
    "            \n",
    "      \n",
    "            \n",
    "           \n",
    "           \n",
    "            \n",
    "            \n",
    "            if random.random()>0.5:\n",
    "                print(\"Bluff\")\n",
    "                print(makeCall(call, state, numPlayerCards, ownCards, callsList))\n",
    "                bluffCalled = 1\n",
    "                print(cpuCards)\n",
    "                \n",
    "            else:\n",
    "                print(makeCall(call, state, numPlayerCards, ownCards, callsList))\n",
    "                \n",
    "            \n",
    "        \n",
    "            \n",
    "            \n",
    "\n",
    "    "
   ]
  },
  {
   "cell_type": "code",
   "execution_count": 26,
   "metadata": {},
   "outputs": [
    {
     "name": "stdout",
     "output_type": "stream",
     "text": [
      "These are your cards: [6, 12, 0, 1]\n",
      "[11, 7, 4, 7]\n"
     ]
    }
   ],
   "source": [
    "runGameTwo()"
   ]
  },
  {
   "cell_type": "code",
   "execution_count": 31,
   "metadata": {},
   "outputs": [
    {
     "data": {
      "text/plain": [
       "array([[0.00020204, 0.00020204, 0.00648723, 0.00648723, 0.00020204,\n",
       "        0.00020204, 0.00020204, 0.0002286 , 0.00648723, 0.00020204,\n",
       "        0.00686424, 0.00020204, 0.00020204],\n",
       "       [0.00020204, 0.00020204, 0.00648723, 0.00648723, 0.00020204,\n",
       "        0.00020204, 0.00020204, 0.0002286 , 0.00648723, 0.00020204,\n",
       "        0.00686424, 0.00020204, 0.00020204],\n",
       "       [0.00176814, 0.00176814, 0.0594963 , 0.0594963 , 0.00176814,\n",
       "        0.00176814, 0.00176814, 0.00200065, 0.0594963 , 0.00176814,\n",
       "        0.06296168, 0.00176814, 0.00176814],\n",
       "       [0.00176814, 0.00176814, 0.0594963 , 0.0594963 , 0.00176814,\n",
       "        0.00176814, 0.00176814, 0.00200065, 0.0594963 , 0.00176814,\n",
       "        0.06296168, 0.00176814, 0.00176814],\n",
       "       [0.00020204, 0.00020204, 0.00648723, 0.00648723, 0.00020204,\n",
       "        0.00020204, 0.00020204, 0.0002286 , 0.00648723, 0.00020204,\n",
       "        0.00686424, 0.00020204, 0.00020204],\n",
       "       [0.00020204, 0.00020204, 0.00648723, 0.00648723, 0.00020204,\n",
       "        0.00020204, 0.00020204, 0.0002286 , 0.00648723, 0.00020204,\n",
       "        0.00686424, 0.00020204, 0.00020204],\n",
       "       [0.00020204, 0.00020204, 0.00648723, 0.00648723, 0.00020204,\n",
       "        0.00020204, 0.00020204, 0.0002286 , 0.00648723, 0.00020204,\n",
       "        0.00686424, 0.00020204, 0.00020204],\n",
       "       [0.0002286 , 0.0002286 , 0.00727908, 0.00727908, 0.0002286 ,\n",
       "        0.0002286 , 0.0002286 , 0.00025866, 0.00727908, 0.0002286 ,\n",
       "        0.00770194, 0.0002286 , 0.0002286 ],\n",
       "       [0.00176814, 0.00176814, 0.0594963 , 0.0594963 , 0.00176814,\n",
       "        0.00176814, 0.00176814, 0.00200065, 0.0594963 , 0.00176814,\n",
       "        0.06296168, 0.00176814, 0.00176814],\n",
       "       [0.00020204, 0.00020204, 0.00648723, 0.00648723, 0.00020204,\n",
       "        0.00020204, 0.00020204, 0.0002286 , 0.00648723, 0.00020204,\n",
       "        0.00686424, 0.00020204, 0.00020204],\n",
       "       [0.00188085, 0.00188085, 0.06296168, 0.06296168, 0.00188085,\n",
       "        0.00188085, 0.00188085, 0.00212818, 0.06296168, 0.00188085,\n",
       "        0.06662803, 0.00188085, 0.00188085],\n",
       "       [0.00020204, 0.00020204, 0.00648723, 0.00648723, 0.00020204,\n",
       "        0.00020204, 0.00020204, 0.0002286 , 0.00648723, 0.00020204,\n",
       "        0.00686424, 0.00020204, 0.00020204],\n",
       "       [0.00020204, 0.00020204, 0.00648723, 0.00648723, 0.00020204,\n",
       "        0.00020204, 0.00020204, 0.0002286 , 0.00648723, 0.00020204,\n",
       "        0.00686424, 0.00020204, 0.00020204]])"
      ]
     },
     "execution_count": 31,
     "metadata": {},
     "output_type": "execute_result"
    }
   ],
   "source": [
    "twotype(np.array([0.98159744, 0.98159744, 0.98159744, 0.98159744, 0.98159744, 0.98159744,\n",
    " 0.98159744, 1.10785994, 0.98159744, 0.98159744, 1.10791171, 0.98159744,\n",
    " 0.98159744]), 4, 2, 2, np.array([0, 0, 1, 1, 0, 0, 0, 0, 1, 0, 1, 0, 0]))"
   ]
  },
  {
   "cell_type": "code",
   "execution_count": 35,
   "metadata": {},
   "outputs": [
    {
     "data": {
      "text/plain": [
       "array([[0.00021008, 0.00021008, 0.00021008, 0.00021008, 0.00021008,\n",
       "        0.00021008, 0.00021008, 0.00021008, 0.00021008, 0.00021008,\n",
       "        0.00021008, 0.00021008, 0.00021008],\n",
       "       [0.00021008, 0.00021008, 0.00021008, 0.00021008, 0.00021008,\n",
       "        0.00021008, 0.00021008, 0.00021008, 0.00021008, 0.00021008,\n",
       "        0.00021008, 0.00021008, 0.00021008],\n",
       "       [0.00021008, 0.00021008, 0.00021008, 0.00021008, 0.00021008,\n",
       "        0.00021008, 0.00021008, 0.00021008, 0.00021008, 0.00021008,\n",
       "        0.00021008, 0.00021008, 0.00021008],\n",
       "       [0.00021008, 0.00021008, 0.00021008, 0.00021008, 0.00021008,\n",
       "        0.00021008, 0.00021008, 0.00021008, 0.00021008, 0.00021008,\n",
       "        0.00021008, 0.00021008, 0.00021008],\n",
       "       [0.00021008, 0.00021008, 0.00021008, 0.00021008, 0.00021008,\n",
       "        0.00021008, 0.00021008, 0.00021008, 0.00021008, 0.00021008,\n",
       "        0.00021008, 0.00021008, 0.00021008],\n",
       "       [0.00021008, 0.00021008, 0.00021008, 0.00021008, 0.00021008,\n",
       "        0.00021008, 0.00021008, 0.00021008, 0.00021008, 0.00021008,\n",
       "        0.00021008, 0.00021008, 0.00021008],\n",
       "       [0.00021008, 0.00021008, 0.00021008, 0.00021008, 0.00021008,\n",
       "        0.00021008, 0.00021008, 0.00021008, 0.00021008, 0.00021008,\n",
       "        0.00021008, 0.00021008, 0.00021008],\n",
       "       [0.00021008, 0.00021008, 0.00021008, 0.00021008, 0.00021008,\n",
       "        0.00021008, 0.00021008, 0.00021008, 0.00021008, 0.00021008,\n",
       "        0.00021008, 0.00021008, 0.00021008],\n",
       "       [0.00021008, 0.00021008, 0.00021008, 0.00021008, 0.00021008,\n",
       "        0.00021008, 0.00021008, 0.00021008, 0.00021008, 0.00021008,\n",
       "        0.00021008, 0.00021008, 0.00021008],\n",
       "       [0.00021008, 0.00021008, 0.00021008, 0.00021008, 0.00021008,\n",
       "        0.00021008, 0.00021008, 0.00021008, 0.00021008, 0.00021008,\n",
       "        0.00021008, 0.00021008, 0.00021008],\n",
       "       [0.00021008, 0.00021008, 0.00021008, 0.00021008, 0.00021008,\n",
       "        0.00021008, 0.00021008, 0.00021008, 0.00021008, 0.00021008,\n",
       "        0.00021008, 0.00021008, 0.00021008],\n",
       "       [0.00021008, 0.00021008, 0.00021008, 0.00021008, 0.00021008,\n",
       "        0.00021008, 0.00021008, 0.00021008, 0.00021008, 0.00021008,\n",
       "        0.00021008, 0.00021008, 0.00021008],\n",
       "       [0.00021008, 0.00021008, 0.00021008, 0.00021008, 0.00021008,\n",
       "        0.00021008, 0.00021008, 0.00021008, 0.00021008, 0.00021008,\n",
       "        0.00021008, 0.00021008, 0.00021008]])"
      ]
     },
     "execution_count": 35,
     "metadata": {},
     "output_type": "execute_result"
    }
   ],
   "source": [
    "twotype(state, 4, 2, 2, ownCards)"
   ]
  },
  {
   "cell_type": "code",
   "execution_count": 47,
   "metadata": {},
   "outputs": [
    {
     "data": {
      "text/plain": [
       "0.5"
      ]
     },
     "execution_count": 47,
     "metadata": {},
     "output_type": "execute_result"
    }
   ],
   "source": [
    "1/2"
   ]
  },
  {
   "cell_type": "code",
   "execution_count": 45,
   "metadata": {},
   "outputs": [],
   "source": [
    "def func(x):\n",
    "    logger.info(\"etc\")\n",
    "    print(x**2)\n",
    "    "
   ]
  },
  {
   "cell_type": "code",
   "execution_count": 46,
   "metadata": {},
   "outputs": [
    {
     "name": "stdout",
     "output_type": "stream",
     "text": [
      "etc\n",
      "16\n"
     ]
    }
   ],
   "source": [
    "func(4)"
   ]
  },
  {
   "cell_type": "code",
   "execution_count": null,
   "metadata": {},
   "outputs": [],
   "source": []
  }
 ],
 "metadata": {
  "kernelspec": {
   "display_name": "Python 3",
   "language": "python",
   "name": "python3"
  },
  "language_info": {
   "codemirror_mode": {
    "name": "ipython",
    "version": 3
   },
   "file_extension": ".py",
   "mimetype": "text/x-python",
   "name": "python",
   "nbconvert_exporter": "python",
   "pygments_lexer": "ipython3",
   "version": "3.6.3"
  }
 },
 "nbformat": 4,
 "nbformat_minor": 2
}
