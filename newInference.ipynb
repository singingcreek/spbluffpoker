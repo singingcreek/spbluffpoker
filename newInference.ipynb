{
 "cells": [
  {
   "cell_type": "code",
   "execution_count": 1,
   "metadata": {},
   "outputs": [],
   "source": [
    "import math\n",
    "#import numpy\n",
    "import autograd.numpy as np\n",
    "import random\n",
    "from autograd import elementwise_grad\n",
    "from scipy.special import comb\n",
    "import itertools"
   ]
  },
  {
   "cell_type": "code",
   "execution_count": 52,
   "metadata": {},
   "outputs": [],
   "source": [
    "state = np.array([1.0, 1, 1, 1, 1, 1, 1, 1, 1])\n",
    "numcards = 8\n",
    "ownCards = np.array([0.0, 0, 0, 0, 0, 0, 0, 0, 0])\n",
    "factor = 1\n",
    "bluffEpsilon = 0.1  #remember to implement\n",
    "callsList = np.array([[-1, -1, -1, -1, -1],\n",
    "                  [ 0, -1, -1, -1, -1],\n",
    "                  [ 1, -1,  2, -1, -1],\n",
    "                  [ 3, -1,  4, -1, -1],\n",
    "                  [ 5, -1, -1,  6, -1]])\n",
    "\n",
    "def findCall(num):\n",
    "    for i in range(callsList.size):\n",
    "        for j in range(callsList[0].size):\n",
    "            if callsList[i][j] == num:\n",
    "                return [i, j]\n",
    "\n"
   ]
  },
  {
   "cell_type": "code",
   "execution_count": 4,
   "metadata": {},
   "outputs": [],
   "source": [
    "def oneCardProbabilities(state):\n",
    "    total = np.sum(state)\n",
    "    oneCardProb = (state+1)/(total+1)\n",
    "    return oneCardProb"
   ]
  },
  {
   "cell_type": "code",
   "execution_count": 40,
   "metadata": {},
   "outputs": [],
   "source": [
    "def twotypeCall(state, numcards, countOne, countTwo, ownCards, typeOne, typeTwo):\n",
    "    return twotype(state, numcards, countOne, countTwo, ownCards)[typeOne][typeTwo]\n",
    "\n",
    "def twotype(state, numcards, countOne, countTwo, ownCards):\n",
    "    prob = oneCardProbabilities(state)\n",
    "    #probPairs = np.array(np.meshgrid(prob,prob)) # so that it has shape (2,13,13)\n",
    "    probPairs = np.transpose(np.reshape(np.array(list(map(np.array,itertools.product(prob,prob)))),(state.size,state.size,2)),(2,0,1))\n",
    "    \n",
    "             #print(probPairs.shape)\n",
    "#     probabilities = np.zeroes([len(state), len(state)])\n",
    "#     for i in range(len(state)):\n",
    "#         for j in range(len(state)):\n",
    "#             twopairprob(probPairs[i, j], numcards)\n",
    "    \n",
    "    return twotypeprob(probPairs, numcards, countOne, countTwo, ownCards)\n",
    "\n",
    "def twotypeprob(p, numcards, countCardOne, countCardTwo, ownCards):\n",
    "    prob = 0\n",
    "    for i in range(countCardOne, 5):\n",
    "        for j in range(countCardTwo, 5):\n",
    "            prob = prob + comb(numcards, i-ownCards) * comb(numcards-i+ownCards, j-ownCards) * (p[0])**(i-ownCards)*(p[1])**(j-ownCards)*(1-(p[0]+p[1]))**(numcards-(i+j-2*ownCards))\n",
    "    return prob\n",
    "            \n",
    "\n",
    "def onetypeCall(state, numcards, count, ownCards, cardType):\n",
    "    return onetype(state, numcards, count, ownCards)[cardType]\n",
    "    \n",
    "def onetype(state, numcards, count, ownCards):\n",
    "    prob = oneCardProbabilities(state)\n",
    "    return onetypeprob(prob, numcards, count, ownCards)\n",
    "    \n",
    "def onetypeprob(p, numcards, countCard, ownCards):\n",
    "    prob = 0\n",
    "    for i in range(countCard, 5):\n",
    "        prob = prob + comb(numcards, i-ownCards)* p**(i-ownCards) * (1-p)**(numcards-i+ownCards)\n",
    "    return prob"
   ]
  },
  {
   "cell_type": "code",
   "execution_count": 6,
   "metadata": {},
   "outputs": [],
   "source": [
    "pgrad = elementwise_grad(twotypeCall)"
   ]
  },
  {
   "cell_type": "code",
   "execution_count": 58,
   "metadata": {},
   "outputs": [
    {
     "data": {
      "text/plain": [
       "array([ 0.08139474, -0.06010993, -0.06010993, -0.06010993,  0.08139474,\n",
       "       -0.06010993, -0.06010993, -0.06010993, -0.06010993])"
      ]
     },
     "execution_count": 58,
     "metadata": {},
     "output_type": "execute_result"
    }
   ],
   "source": [
    "pgrad(state, numcards, 2, 2, ownCards, 0, 4)"
   ]
  },
  {
   "cell_type": "code",
   "execution_count": 7,
   "metadata": {},
   "outputs": [],
   "source": [
    "pograd = elementwise_grad(onetypeCall)"
   ]
  },
  {
   "cell_type": "code",
   "execution_count": 10,
   "metadata": {},
   "outputs": [
    {
     "data": {
      "text/plain": [
       "array([ 0.05872026,  0.05872026,  0.05872026,  0.05872026, -0.23488102,\n",
       "        0.05872026,  0.05872026,  0.05872026,  0.05872026])"
      ]
     },
     "execution_count": 10,
     "metadata": {},
     "output_type": "execute_result"
    }
   ],
   "source": [
    "pograd(state, numcards, 2, ownCards, 4)"
   ]
  },
  {
   "cell_type": "code",
   "execution_count": 8,
   "metadata": {},
   "outputs": [],
   "source": [
    "def updateParameters(call, state, factor, numcards, ownCards):\n",
    "    if(call[1] == 0):\n",
    "        grad = pograd(state, numcards, ownCards,  call[0], call[2])\n",
    "    else:\n",
    "        grad= pgrad(state, numcards, call[0], call[1], ownCards, call[2], call[3])\n",
    "    \n",
    "    return state + factor*grad\n",
    "    "
   ]
  },
  {
   "cell_type": "code",
   "execution_count": 56,
   "metadata": {},
   "outputs": [
    {
     "data": {
      "text/plain": [
       "array([1.07913472, 0.94724352, 0.94724352, 0.94724352, 1.07913472,\n",
       "       0.94724352, 0.94724352, 0.94724352, 0.94724352])"
      ]
     },
     "execution_count": 56,
     "metadata": {},
     "output_type": "execute_result"
    }
   ],
   "source": [
    "state"
   ]
  },
  {
   "cell_type": "code",
   "execution_count": 55,
   "metadata": {},
   "outputs": [],
   "source": [
    "state = updateParameters(np.array([2, 2, 0, 4]), state, factor, numcards, ownCards)\n"
   ]
  },
  {
   "cell_type": "code",
   "execution_count": 57,
   "metadata": {},
   "outputs": [
    {
     "data": {
      "text/plain": [
       "0.08240618917783003"
      ]
     },
     "execution_count": 57,
     "metadata": {},
     "output_type": "execute_result"
    }
   ],
   "source": [
    "twotypeCall(state, numcards, 3, 2, ownCards, 0, 4)"
   ]
  },
  {
   "cell_type": "code",
   "execution_count": 40,
   "metadata": {},
   "outputs": [
    {
     "ename": "TypeError",
     "evalue": "twotypeCall() missing 1 required positional argument: 'typeTwo'",
     "output_type": "error",
     "traceback": [
      "\u001b[1;31m---------------------------------------------------------------------------\u001b[0m",
      "\u001b[1;31mTypeError\u001b[0m                                 Traceback (most recent call last)",
      "\u001b[1;32m<ipython-input-40-b056f93c9945>\u001b[0m in \u001b[0;36m<module>\u001b[1;34m()\u001b[0m\n\u001b[1;32m----> 1\u001b[1;33m \u001b[0mpgrad\u001b[0m\u001b[1;33m(\u001b[0m\u001b[0mstate\u001b[0m\u001b[1;33m,\u001b[0m \u001b[0mnumcards\u001b[0m\u001b[1;33m,\u001b[0m \u001b[1;36m3\u001b[0m\u001b[1;33m,\u001b[0m \u001b[1;36m2\u001b[0m\u001b[1;33m,\u001b[0m \u001b[1;36m0\u001b[0m\u001b[1;33m,\u001b[0m \u001b[1;36m4\u001b[0m\u001b[1;33m)\u001b[0m\u001b[1;33m\u001b[0m\u001b[0m\n\u001b[0m",
      "\u001b[1;32mc:\\users\\willi\\appdata\\local\\programs\\python\\python36-32\\lib\\site-packages\\autograd\\wrap_util.py\u001b[0m in \u001b[0;36mnary_f\u001b[1;34m(*args, **kwargs)\u001b[0m\n\u001b[0;32m     18\u001b[0m             \u001b[1;32melse\u001b[0m\u001b[1;33m:\u001b[0m\u001b[1;33m\u001b[0m\u001b[0m\n\u001b[0;32m     19\u001b[0m                 \u001b[0mx\u001b[0m \u001b[1;33m=\u001b[0m \u001b[0mtuple\u001b[0m\u001b[1;33m(\u001b[0m\u001b[0margs\u001b[0m\u001b[1;33m[\u001b[0m\u001b[0mi\u001b[0m\u001b[1;33m]\u001b[0m \u001b[1;32mfor\u001b[0m \u001b[0mi\u001b[0m \u001b[1;32min\u001b[0m \u001b[0margnum\u001b[0m\u001b[1;33m)\u001b[0m\u001b[1;33m\u001b[0m\u001b[0m\n\u001b[1;32m---> 20\u001b[1;33m             \u001b[1;32mreturn\u001b[0m \u001b[0munary_operator\u001b[0m\u001b[1;33m(\u001b[0m\u001b[0munary_f\u001b[0m\u001b[1;33m,\u001b[0m \u001b[0mx\u001b[0m\u001b[1;33m,\u001b[0m \u001b[1;33m*\u001b[0m\u001b[0mnary_op_args\u001b[0m\u001b[1;33m,\u001b[0m \u001b[1;33m**\u001b[0m\u001b[0mnary_op_kwargs\u001b[0m\u001b[1;33m)\u001b[0m\u001b[1;33m\u001b[0m\u001b[0m\n\u001b[0m\u001b[0;32m     21\u001b[0m         \u001b[1;32mreturn\u001b[0m \u001b[0mnary_f\u001b[0m\u001b[1;33m\u001b[0m\u001b[0m\n\u001b[0;32m     22\u001b[0m     \u001b[1;32mreturn\u001b[0m \u001b[0mnary_operator\u001b[0m\u001b[1;33m\u001b[0m\u001b[0m\n",
      "\u001b[1;32mc:\\users\\willi\\appdata\\local\\programs\\python\\python36-32\\lib\\site-packages\\autograd\\differential_operators.py\u001b[0m in \u001b[0;36melementwise_grad\u001b[1;34m(fun, x)\u001b[0m\n\u001b[0;32m     30\u001b[0m \u001b[1;33m@\u001b[0m\u001b[0munary_to_nary\u001b[0m\u001b[1;33m\u001b[0m\u001b[0m\n\u001b[0;32m     31\u001b[0m \u001b[1;32mdef\u001b[0m \u001b[0melementwise_grad\u001b[0m\u001b[1;33m(\u001b[0m\u001b[0mfun\u001b[0m\u001b[1;33m,\u001b[0m \u001b[0mx\u001b[0m\u001b[1;33m)\u001b[0m\u001b[1;33m:\u001b[0m\u001b[1;33m\u001b[0m\u001b[0m\n\u001b[1;32m---> 32\u001b[1;33m     \u001b[0mvjp\u001b[0m\u001b[1;33m,\u001b[0m \u001b[0mans\u001b[0m \u001b[1;33m=\u001b[0m \u001b[0m_make_vjp\u001b[0m\u001b[1;33m(\u001b[0m\u001b[0mfun\u001b[0m\u001b[1;33m,\u001b[0m \u001b[0mx\u001b[0m\u001b[1;33m)\u001b[0m\u001b[1;33m\u001b[0m\u001b[0m\n\u001b[0m\u001b[0;32m     33\u001b[0m     \u001b[1;32mif\u001b[0m \u001b[0mvspace\u001b[0m\u001b[1;33m(\u001b[0m\u001b[0mans\u001b[0m\u001b[1;33m)\u001b[0m\u001b[1;33m.\u001b[0m\u001b[0miscomplex\u001b[0m\u001b[1;33m:\u001b[0m\u001b[1;33m\u001b[0m\u001b[0m\n\u001b[0;32m     34\u001b[0m         \u001b[1;32mraise\u001b[0m \u001b[0mTypeError\u001b[0m\u001b[1;33m(\u001b[0m\u001b[1;34m\"Elementwise_grad only applies to real-output functions.\"\u001b[0m\u001b[1;33m)\u001b[0m\u001b[1;33m\u001b[0m\u001b[0m\n",
      "\u001b[1;32mc:\\users\\willi\\appdata\\local\\programs\\python\\python36-32\\lib\\site-packages\\autograd\\core.py\u001b[0m in \u001b[0;36mmake_vjp\u001b[1;34m(fun, x)\u001b[0m\n\u001b[0;32m      8\u001b[0m \u001b[1;32mdef\u001b[0m \u001b[0mmake_vjp\u001b[0m\u001b[1;33m(\u001b[0m\u001b[0mfun\u001b[0m\u001b[1;33m,\u001b[0m \u001b[0mx\u001b[0m\u001b[1;33m)\u001b[0m\u001b[1;33m:\u001b[0m\u001b[1;33m\u001b[0m\u001b[0m\n\u001b[0;32m      9\u001b[0m     \u001b[0mstart_node\u001b[0m \u001b[1;33m=\u001b[0m \u001b[0mVJPNode\u001b[0m\u001b[1;33m.\u001b[0m\u001b[0mnew_root\u001b[0m\u001b[1;33m(\u001b[0m\u001b[0mx\u001b[0m\u001b[1;33m)\u001b[0m\u001b[1;33m\u001b[0m\u001b[0m\n\u001b[1;32m---> 10\u001b[1;33m     \u001b[0mend_value\u001b[0m\u001b[1;33m,\u001b[0m \u001b[0mend_node\u001b[0m \u001b[1;33m=\u001b[0m  \u001b[0mtrace\u001b[0m\u001b[1;33m(\u001b[0m\u001b[0mstart_node\u001b[0m\u001b[1;33m,\u001b[0m \u001b[0mfun\u001b[0m\u001b[1;33m,\u001b[0m \u001b[0mx\u001b[0m\u001b[1;33m)\u001b[0m\u001b[1;33m\u001b[0m\u001b[0m\n\u001b[0m\u001b[0;32m     11\u001b[0m     \u001b[1;32mif\u001b[0m \u001b[0mend_node\u001b[0m \u001b[1;32mis\u001b[0m \u001b[1;32mNone\u001b[0m\u001b[1;33m:\u001b[0m\u001b[1;33m\u001b[0m\u001b[0m\n\u001b[0;32m     12\u001b[0m         \u001b[1;32mdef\u001b[0m \u001b[0mvjp\u001b[0m\u001b[1;33m(\u001b[0m\u001b[0mg\u001b[0m\u001b[1;33m)\u001b[0m\u001b[1;33m:\u001b[0m \u001b[1;32mreturn\u001b[0m \u001b[0mvspace\u001b[0m\u001b[1;33m(\u001b[0m\u001b[0mx\u001b[0m\u001b[1;33m)\u001b[0m\u001b[1;33m.\u001b[0m\u001b[0mzeros\u001b[0m\u001b[1;33m(\u001b[0m\u001b[1;33m)\u001b[0m\u001b[1;33m\u001b[0m\u001b[0m\n",
      "\u001b[1;32mc:\\users\\willi\\appdata\\local\\programs\\python\\python36-32\\lib\\site-packages\\autograd\\tracer.py\u001b[0m in \u001b[0;36mtrace\u001b[1;34m(start_node, fun, x)\u001b[0m\n\u001b[0;32m      8\u001b[0m     \u001b[1;32mwith\u001b[0m \u001b[0mtrace_stack\u001b[0m\u001b[1;33m.\u001b[0m\u001b[0mnew_trace\u001b[0m\u001b[1;33m(\u001b[0m\u001b[1;33m)\u001b[0m \u001b[1;32mas\u001b[0m \u001b[0mt\u001b[0m\u001b[1;33m:\u001b[0m\u001b[1;33m\u001b[0m\u001b[0m\n\u001b[0;32m      9\u001b[0m         \u001b[0mstart_box\u001b[0m \u001b[1;33m=\u001b[0m \u001b[0mnew_box\u001b[0m\u001b[1;33m(\u001b[0m\u001b[0mx\u001b[0m\u001b[1;33m,\u001b[0m \u001b[0mt\u001b[0m\u001b[1;33m,\u001b[0m \u001b[0mstart_node\u001b[0m\u001b[1;33m)\u001b[0m\u001b[1;33m\u001b[0m\u001b[0m\n\u001b[1;32m---> 10\u001b[1;33m         \u001b[0mend_box\u001b[0m \u001b[1;33m=\u001b[0m \u001b[0mfun\u001b[0m\u001b[1;33m(\u001b[0m\u001b[0mstart_box\u001b[0m\u001b[1;33m)\u001b[0m\u001b[1;33m\u001b[0m\u001b[0m\n\u001b[0m\u001b[0;32m     11\u001b[0m         \u001b[1;32mif\u001b[0m \u001b[0misbox\u001b[0m\u001b[1;33m(\u001b[0m\u001b[0mend_box\u001b[0m\u001b[1;33m)\u001b[0m \u001b[1;32mand\u001b[0m \u001b[0mend_box\u001b[0m\u001b[1;33m.\u001b[0m\u001b[0m_trace\u001b[0m \u001b[1;33m==\u001b[0m \u001b[0mstart_box\u001b[0m\u001b[1;33m.\u001b[0m\u001b[0m_trace\u001b[0m\u001b[1;33m:\u001b[0m\u001b[1;33m\u001b[0m\u001b[0m\n\u001b[0;32m     12\u001b[0m             \u001b[1;32mreturn\u001b[0m \u001b[0mend_box\u001b[0m\u001b[1;33m.\u001b[0m\u001b[0m_value\u001b[0m\u001b[1;33m,\u001b[0m \u001b[0mend_box\u001b[0m\u001b[1;33m.\u001b[0m\u001b[0m_node\u001b[0m\u001b[1;33m\u001b[0m\u001b[0m\n",
      "\u001b[1;32mc:\\users\\willi\\appdata\\local\\programs\\python\\python36-32\\lib\\site-packages\\autograd\\wrap_util.py\u001b[0m in \u001b[0;36munary_f\u001b[1;34m(x)\u001b[0m\n\u001b[0;32m     13\u001b[0m                 \u001b[1;32melse\u001b[0m\u001b[1;33m:\u001b[0m\u001b[1;33m\u001b[0m\u001b[0m\n\u001b[0;32m     14\u001b[0m                     \u001b[0msubargs\u001b[0m \u001b[1;33m=\u001b[0m \u001b[0msubvals\u001b[0m\u001b[1;33m(\u001b[0m\u001b[0margs\u001b[0m\u001b[1;33m,\u001b[0m \u001b[0mzip\u001b[0m\u001b[1;33m(\u001b[0m\u001b[0margnum\u001b[0m\u001b[1;33m,\u001b[0m \u001b[0mx\u001b[0m\u001b[1;33m)\u001b[0m\u001b[1;33m)\u001b[0m\u001b[1;33m\u001b[0m\u001b[0m\n\u001b[1;32m---> 15\u001b[1;33m                 \u001b[1;32mreturn\u001b[0m \u001b[0mfun\u001b[0m\u001b[1;33m(\u001b[0m\u001b[1;33m*\u001b[0m\u001b[0msubargs\u001b[0m\u001b[1;33m,\u001b[0m \u001b[1;33m**\u001b[0m\u001b[0mkwargs\u001b[0m\u001b[1;33m)\u001b[0m\u001b[1;33m\u001b[0m\u001b[0m\n\u001b[0m\u001b[0;32m     16\u001b[0m             \u001b[1;32mif\u001b[0m \u001b[0misinstance\u001b[0m\u001b[1;33m(\u001b[0m\u001b[0margnum\u001b[0m\u001b[1;33m,\u001b[0m \u001b[0mint\u001b[0m\u001b[1;33m)\u001b[0m\u001b[1;33m:\u001b[0m\u001b[1;33m\u001b[0m\u001b[0m\n\u001b[0;32m     17\u001b[0m                 \u001b[0mx\u001b[0m \u001b[1;33m=\u001b[0m \u001b[0margs\u001b[0m\u001b[1;33m[\u001b[0m\u001b[0margnum\u001b[0m\u001b[1;33m]\u001b[0m\u001b[1;33m\u001b[0m\u001b[0m\n",
      "\u001b[1;31mTypeError\u001b[0m: twotypeCall() missing 1 required positional argument: 'typeTwo'"
     ]
    }
   ],
   "source": [
    "pgrad(state, numcards, 3, 2, 0, 4)"
   ]
  },
  {
   "cell_type": "code",
   "execution_count": 9,
   "metadata": {},
   "outputs": [],
   "source": [
    "def makeCall(call, state, numcards, ownCards, calls):  #not quite\n",
    "    allCallProb = [onetype(state, numcards, 1, ownCards), onetype(state, numcards, 2, ownCards), twotype(state, numcards, 2, 2, ownCards), onetype(state, numcards, 3, ownCards), twotype(state, numcards, 3, 2, ownCards), onetype(state, numcards, 4, ownCards), twotype(state, numcards, 4, 3, ownCards)]    \n",
    "    ind = calls[call[0]][call[1]]\n",
    "    bestCall = [-1, -1, -1, -1, 0]\n",
    "    for i in range(ind+1, len(allCallProb)):  #call strength\n",
    "        for j in range(allCallProb[i].shape[0]):  #level within call\n",
    "            if len(allCallProb[i].shape) > 1:\n",
    "                for k in range(allCallProb[i][j].shape[0]):\n",
    "                    prob = allCallProb[i][j][k]\n",
    "                    if(prob > bestCall[4] and k!=j):\n",
    "                        newcall = findCall(i)\n",
    "                        bestCall = [newcall[0], newcall[1], j, k, prob]\n",
    "                    \n",
    "            else:\n",
    "                \n",
    "                prob = allCallProb[i][j]\n",
    "                if(prob > bestCall[4]):\n",
    "                    newcall = findCall(i)\n",
    "                    bestCall = [newcall[0], newcall[1], j, -1, prob]\n",
    "                    \n",
    "    currLevelProb = allCallProb[ind]\n",
    "    \n",
    "    for i in range(call[2], currLevelProb.shape[0]):\n",
    "        if len(currLevelProb.shape) > 1:\n",
    "            for j in range(currLevelProb.shape[1]):\n",
    "                if(i != call[2] or j > call[3]):\n",
    "                    prob = currLevelProb[i][j]\n",
    "                    if(prob > bestCall[4] and i != j):\n",
    "                        \n",
    "                        newcall = findCall(ind)\n",
    "                        \n",
    "                        bestCall = [newcall[0], newcall[1], i, j, prob]\n",
    "        else:\n",
    "            if(i != call[2]):\n",
    "                prob = currLevelProb[i]\n",
    "                if(prob > bestCall[4]):\n",
    "                    newcall = findCall(ind)\n",
    "                    bestCall = [newcall[0], newcall[1], i, -1, prob]\n",
    "    return bestCall\n",
    "    "
   ]
  },
  {
   "cell_type": "code",
   "execution_count": 44,
   "metadata": {},
   "outputs": [],
   "source": [
    "def makeDecision(call, state, numcards, ownCards, calls):\n",
    "    #somewhat unnecessary\n",
    "    allCallProb = [onetype(state, numcards, 1, ownCards), onetype(state, numcards, 2, ownCards), twotype(state, numcards, 2, 2, ownCards), onetype(state, numcards, 3, ownCards), twotype(state, numcards, 3, 2, ownCards), onetype(state, numcards, 4, ownCards), twotype(state, numcards, 4, 3, ownCards)]\n",
    "\n",
    "    ownCall = makeCall(call, state, numcards, ownCards, calls)\n",
    "    oppCallProb = 0\n",
    "    if(call[1] == 0):\n",
    "        oppCallProb = allCallProb[calls[call[0]][call[1]]][call[2]]\n",
    "    else:\n",
    "       \n",
    "        oppCallProb = allCallProb[calls[call[0]][call[1]]][call[2]][call[3]]\n",
    "    print(oppCallProb)\n",
    "    if ownCall[4] > 1-oppCallProb:\n",
    "        return 1\n",
    "    else:\n",
    "        return 0"
   ]
  },
  {
   "cell_type": "code",
   "execution_count": 20,
   "metadata": {},
   "outputs": [
    {
     "data": {
      "text/plain": [
       "array([1., 1., 1., 1., 1., 1., 1., 1., 1.])"
      ]
     },
     "execution_count": 20,
     "metadata": {},
     "output_type": "execute_result"
    }
   ],
   "source": [
    "state"
   ]
  },
  {
   "cell_type": "code",
   "execution_count": 52,
   "metadata": {},
   "outputs": [],
   "source": [
    "x = np.array([1,2])"
   ]
  },
  {
   "cell_type": "code",
   "execution_count": 53,
   "metadata": {},
   "outputs": [
    {
     "data": {
      "text/plain": [
       "array([1.00072041, 1.99994642, 2.99994642, 3.99994642, 5.00009923,\n",
       "       5.99994642, 6.99994642, 7.99994642, 8.99994642])"
      ]
     },
     "execution_count": 53,
     "metadata": {},
     "output_type": "execute_result"
    }
   ],
   "source": [
    "state"
   ]
  },
  {
   "cell_type": "code",
   "execution_count": 140,
   "metadata": {},
   "outputs": [
    {
     "name": "stdout",
     "output_type": "stream",
     "text": [
      "[3 2 2 1]\n"
     ]
    },
    {
     "data": {
      "text/plain": [
       "[3, 2, 3, 1, 0.49742688497945775]"
      ]
     },
     "execution_count": 140,
     "metadata": {},
     "output_type": "execute_result"
    }
   ],
   "source": [
    "makeCall(np.array([3, 2, 2, 1]), state, numcards, calls)"
   ]
  },
  {
   "cell_type": "code",
   "execution_count": 23,
   "metadata": {},
   "outputs": [
    {
     "ename": "IndexError",
     "evalue": "list index out of range",
     "output_type": "error",
     "traceback": [
      "\u001b[1;31m---------------------------------------------------------------------------\u001b[0m",
      "\u001b[1;31mIndexError\u001b[0m                                Traceback (most recent call last)",
      "\u001b[1;32m<ipython-input-23-d7f413bdf76b>\u001b[0m in \u001b[0;36m<module>\u001b[1;34m()\u001b[0m\n\u001b[1;32m----> 1\u001b[1;33m \u001b[0mmakeDecision\u001b[0m\u001b[1;33m(\u001b[0m\u001b[0mnp\u001b[0m\u001b[1;33m.\u001b[0m\u001b[0marray\u001b[0m\u001b[1;33m(\u001b[0m\u001b[1;33m[\u001b[0m\u001b[1;36m3\u001b[0m\u001b[1;33m,\u001b[0m\u001b[1;36m2\u001b[0m\u001b[1;33m,\u001b[0m\u001b[1;36m2\u001b[0m\u001b[1;33m,\u001b[0m\u001b[1;36m1\u001b[0m\u001b[1;33m]\u001b[0m\u001b[1;33m)\u001b[0m\u001b[1;33m,\u001b[0m \u001b[0mstate\u001b[0m\u001b[1;33m,\u001b[0m \u001b[0mnumcards\u001b[0m\u001b[1;33m,\u001b[0m \u001b[0mcalls\u001b[0m\u001b[1;33m)\u001b[0m\u001b[1;33m\u001b[0m\u001b[0m\n\u001b[0m",
      "\u001b[1;32m<ipython-input-18-25a254e7cf26>\u001b[0m in \u001b[0;36mmakeDecision\u001b[1;34m(call, state, numcards, calls)\u001b[0m\n\u001b[0;32m      3\u001b[0m     \u001b[0mallCallProb\u001b[0m \u001b[1;33m=\u001b[0m \u001b[1;33m[\u001b[0m\u001b[0monetype\u001b[0m\u001b[1;33m(\u001b[0m\u001b[0mstate\u001b[0m\u001b[1;33m,\u001b[0m \u001b[0mnumcards\u001b[0m\u001b[1;33m,\u001b[0m \u001b[1;36m1\u001b[0m\u001b[1;33m)\u001b[0m\u001b[1;33m,\u001b[0m \u001b[0monetype\u001b[0m\u001b[1;33m(\u001b[0m\u001b[0mstate\u001b[0m\u001b[1;33m,\u001b[0m \u001b[0mnumcards\u001b[0m\u001b[1;33m,\u001b[0m \u001b[1;36m2\u001b[0m\u001b[1;33m)\u001b[0m\u001b[1;33m,\u001b[0m \u001b[0mtwotype\u001b[0m\u001b[1;33m(\u001b[0m\u001b[0mstate\u001b[0m\u001b[1;33m,\u001b[0m \u001b[0mnumcards\u001b[0m\u001b[1;33m,\u001b[0m \u001b[1;36m2\u001b[0m\u001b[1;33m,\u001b[0m \u001b[1;36m2\u001b[0m\u001b[1;33m)\u001b[0m\u001b[1;33m,\u001b[0m \u001b[0monetype\u001b[0m\u001b[1;33m(\u001b[0m\u001b[0mstate\u001b[0m\u001b[1;33m,\u001b[0m \u001b[0mnumcards\u001b[0m\u001b[1;33m,\u001b[0m \u001b[1;36m3\u001b[0m\u001b[1;33m)\u001b[0m\u001b[1;33m,\u001b[0m \u001b[0mtwotype\u001b[0m\u001b[1;33m(\u001b[0m\u001b[0mstate\u001b[0m\u001b[1;33m,\u001b[0m \u001b[0mnumcards\u001b[0m\u001b[1;33m,\u001b[0m \u001b[1;36m3\u001b[0m\u001b[1;33m,\u001b[0m \u001b[1;36m2\u001b[0m\u001b[1;33m)\u001b[0m\u001b[1;33m,\u001b[0m \u001b[0monetype\u001b[0m\u001b[1;33m(\u001b[0m\u001b[0mstate\u001b[0m\u001b[1;33m,\u001b[0m \u001b[0mnumcards\u001b[0m\u001b[1;33m,\u001b[0m \u001b[1;36m4\u001b[0m\u001b[1;33m)\u001b[0m\u001b[1;33m,\u001b[0m \u001b[0mtwotype\u001b[0m\u001b[1;33m(\u001b[0m\u001b[0mstate\u001b[0m\u001b[1;33m,\u001b[0m \u001b[0mnumcards\u001b[0m\u001b[1;33m,\u001b[0m \u001b[1;36m4\u001b[0m\u001b[1;33m,\u001b[0m \u001b[1;36m3\u001b[0m\u001b[1;33m)\u001b[0m\u001b[1;33m]\u001b[0m\u001b[1;33m\u001b[0m\u001b[0m\n\u001b[0;32m      4\u001b[0m \u001b[1;33m\u001b[0m\u001b[0m\n\u001b[1;32m----> 5\u001b[1;33m     \u001b[0mownCall\u001b[0m \u001b[1;33m=\u001b[0m \u001b[0mmakeCall\u001b[0m\u001b[1;33m(\u001b[0m\u001b[0mcall\u001b[0m\u001b[1;33m,\u001b[0m \u001b[0mstate\u001b[0m\u001b[1;33m,\u001b[0m \u001b[0mnumcards\u001b[0m\u001b[1;33m,\u001b[0m \u001b[0mcalls\u001b[0m\u001b[1;33m)\u001b[0m\u001b[1;33m\u001b[0m\u001b[0m\n\u001b[0m\u001b[0;32m      6\u001b[0m     \u001b[0moppCallProb\u001b[0m \u001b[1;33m=\u001b[0m \u001b[1;36m0\u001b[0m\u001b[1;33m\u001b[0m\u001b[0m\n\u001b[0;32m      7\u001b[0m     \u001b[1;32mif\u001b[0m\u001b[1;33m(\u001b[0m\u001b[0mcall\u001b[0m\u001b[1;33m[\u001b[0m\u001b[1;36m1\u001b[0m\u001b[1;33m]\u001b[0m \u001b[1;33m==\u001b[0m \u001b[1;36m0\u001b[0m\u001b[1;33m)\u001b[0m\u001b[1;33m:\u001b[0m\u001b[1;33m\u001b[0m\u001b[0m\n",
      "\u001b[1;32m<ipython-input-17-dd8090b8fdd0>\u001b[0m in \u001b[0;36mmakeCall\u001b[1;34m(call, state, numcards, calls)\u001b[0m\n\u001b[0;32m     20\u001b[0m \u001b[1;33m\u001b[0m\u001b[0m\n\u001b[0;32m     21\u001b[0m     \u001b[0mcurrLevelProb\u001b[0m \u001b[1;33m=\u001b[0m \u001b[0mallCallProb\u001b[0m\u001b[1;33m[\u001b[0m\u001b[0mind\u001b[0m\u001b[1;33m]\u001b[0m\u001b[1;33m\u001b[0m\u001b[0m\n\u001b[1;32m---> 22\u001b[1;33m     \u001b[1;32mfor\u001b[0m \u001b[0mi\u001b[0m \u001b[1;32min\u001b[0m \u001b[0mrange\u001b[0m\u001b[1;33m(\u001b[0m\u001b[0mcall\u001b[0m\u001b[1;33m[\u001b[0m\u001b[1;36m2\u001b[0m\u001b[1;33m]\u001b[0m\u001b[1;33m,\u001b[0m \u001b[0mcurrLevelProb\u001b[0m\u001b[1;33m.\u001b[0m\u001b[0mshape\u001b[0m\u001b[1;33m[\u001b[0m\u001b[1;36m0\u001b[0m\u001b[1;33m]\u001b[0m\u001b[1;33m)\u001b[0m\u001b[1;33m:\u001b[0m\u001b[1;33m\u001b[0m\u001b[0m\n\u001b[0m\u001b[0;32m     23\u001b[0m         \u001b[1;32mif\u001b[0m \u001b[0mlen\u001b[0m\u001b[1;33m(\u001b[0m\u001b[0mcurrLevelProb\u001b[0m\u001b[1;33m.\u001b[0m\u001b[0mshape\u001b[0m\u001b[1;33m)\u001b[0m \u001b[1;33m>\u001b[0m \u001b[1;36m1\u001b[0m\u001b[1;33m:\u001b[0m\u001b[1;33m\u001b[0m\u001b[0m\n\u001b[0;32m     24\u001b[0m             \u001b[1;32mfor\u001b[0m \u001b[0mj\u001b[0m \u001b[1;32min\u001b[0m \u001b[0mrange\u001b[0m\u001b[1;33m(\u001b[0m\u001b[0mcurrLevelProb\u001b[0m\u001b[1;33m.\u001b[0m\u001b[0mshape\u001b[0m\u001b[1;33m[\u001b[0m\u001b[1;36m1\u001b[0m\u001b[1;33m]\u001b[0m\u001b[1;33m)\u001b[0m\u001b[1;33m:\u001b[0m\u001b[1;33m\u001b[0m\u001b[0m\n",
      "\u001b[1;31mIndexError\u001b[0m: list index out of range"
     ]
    }
   ],
   "source": [
    "makeDecision(np.array([3,2,2,1]), state, numcards, calls)"
   ]
  },
  {
   "cell_type": "code",
   "execution_count": 24,
   "metadata": {},
   "outputs": [
    {
     "ename": "NameError",
     "evalue": "name 'allCallProb' is not defined",
     "output_type": "error",
     "traceback": [
      "\u001b[1;31m---------------------------------------------------------------------------\u001b[0m",
      "\u001b[1;31mNameError\u001b[0m                                 Traceback (most recent call last)",
      "\u001b[1;32m<ipython-input-24-59352761c7ca>\u001b[0m in \u001b[0;36m<module>\u001b[1;34m()\u001b[0m\n\u001b[1;32m----> 1\u001b[1;33m \u001b[0mallCallProb\u001b[0m\u001b[1;33m\u001b[0m\u001b[0m\n\u001b[0m",
      "\u001b[1;31mNameError\u001b[0m: name 'allCallProb' is not defined"
     ]
    }
   ],
   "source": [
    "allCallProb"
   ]
  },
  {
   "cell_type": "code",
   "execution_count": 25,
   "metadata": {},
   "outputs": [
    {
     "ename": "NameError",
     "evalue": "name 'prob' is not defined",
     "output_type": "error",
     "traceback": [
      "\u001b[1;31m---------------------------------------------------------------------------\u001b[0m",
      "\u001b[1;31mNameError\u001b[0m                                 Traceback (most recent call last)",
      "\u001b[1;32m<ipython-input-25-5e8105a6650e>\u001b[0m in \u001b[0;36m<module>\u001b[1;34m()\u001b[0m\n\u001b[1;32m----> 1\u001b[1;33m \u001b[0monetypeprob\u001b[0m\u001b[1;33m(\u001b[0m\u001b[0mprob\u001b[0m\u001b[1;33m,\u001b[0m \u001b[0mnumcards\u001b[0m\u001b[1;33m,\u001b[0m \u001b[1;36m2\u001b[0m\u001b[1;33m)\u001b[0m\u001b[1;33m\u001b[0m\u001b[0m\n\u001b[0m",
      "\u001b[1;31mNameError\u001b[0m: name 'prob' is not defined"
     ]
    }
   ],
   "source": []
  },
  {
   "cell_type": "code",
   "execution_count": 26,
   "metadata": {},
   "outputs": [],
   "source": [
    "prob = oneCardProbabilities(state)"
   ]
  },
  {
   "cell_type": "code",
   "execution_count": 27,
   "metadata": {},
   "outputs": [
    {
     "data": {
      "text/plain": [
       "array([0.0434935 , 0.0652156 , 0.08695452, 0.10869344, 0.13043568,\n",
       "       0.15217128, 0.1739102 , 0.19564912, 0.21738804])"
      ]
     },
     "execution_count": 27,
     "metadata": {},
     "output_type": "execute_result"
    }
   ],
   "source": [
    "prob"
   ]
  },
  {
   "cell_type": "code",
   "execution_count": 11,
   "metadata": {},
   "outputs": [],
   "source": [
    "def runGame():\n",
    "    bluffCalled = 0\n",
    "\n",
    "    numPlayerCards = 4\n",
    "    numCpuCards = 4\n",
    "    deckSize = 13\n",
    "    \n",
    "    deck = [i for i in range(deckSize) for j in range(4)]\n",
    "    random.shuffle(deck)\n",
    "    playerCards=deck[0:4]\n",
    "    cpuCards = deck[4:8]\n",
    "    \n",
    "    \n",
    "    state = np.array([1 for i in range(deckSize)])\n",
    "    ownCards = np.array([0 for i in range(deckSize)])\n",
    "    for i in cpuCards:\n",
    "        ownCards[i] = ownCards[i]+1\n",
    "        \n",
    "    print('These are your cards:', playerCards)\n",
    "    \n",
    "    while not bluffCalled:\n",
    "        \n",
    "        userIn = input('Make your decision:')\n",
    "        if(userIn == \"bluff\"):\n",
    "            bluffCalled = 1\n",
    "            break\n",
    "        else:\n",
    "            call= [int(userIn[0]), int(userIn[2]), int(userIn[4]), int(userIn[6])]\n",
    "            decision = makeDecision(call, state, numPlayerCards, ownCards, callsList)\n",
    "            if not decision:\n",
    "                print(\"Bluff\")\n",
    "                bluffCalled = 1\n",
    "            else:\n",
    "                print(makeCall(call, state, numPlayerCards, ownCards, callsList))\n",
    "            \n",
    "            \n",
    "        \n",
    "            \n",
    "            \n",
    "    \n",
    "    "
   ]
  },
  {
   "cell_type": "code",
   "execution_count": 34,
   "metadata": {},
   "outputs": [
    {
     "data": {
      "text/plain": [
       "array([-4.31194257e-07,  3.35733436e-06,  1.68627027e-06, -4.31194257e-07,\n",
       "       -4.31194257e-07, -4.31194257e-07, -4.31194257e-07, -4.31194257e-07,\n",
       "       -4.31194257e-07])"
      ]
     },
     "execution_count": 34,
     "metadata": {},
     "output_type": "execute_result"
    }
   ],
   "source": [
    "pgrad(state, numcards, 4, 3, 1, 2)"
   ]
  },
  {
   "cell_type": "code",
   "execution_count": 35,
   "metadata": {},
   "outputs": [
    {
     "data": {
      "text/plain": [
       "array([ 3,  9, 27], dtype=int32)"
      ]
     },
     "execution_count": 35,
     "metadata": {},
     "output_type": "execute_result"
    }
   ],
   "source": [
    "3**np.array([1, 2, 3])"
   ]
  },
  {
   "cell_type": "code",
   "execution_count": 72,
   "metadata": {},
   "outputs": [
    {
     "data": {
      "text/plain": [
       "5"
      ]
     },
     "execution_count": 72,
     "metadata": {},
     "output_type": "execute_result"
    }
   ],
   "source": [
    "calls[0].size"
   ]
  },
  {
   "cell_type": "code",
   "execution_count": 92,
   "metadata": {},
   "outputs": [
    {
     "data": {
      "text/plain": [
       "array([[0.04347826, 0.04347826],\n",
       "       [0.04347826, 0.06521739],\n",
       "       [0.04347826, 0.08695652],\n",
       "       [0.04347826, 0.10869565],\n",
       "       [0.04347826, 0.13043478],\n",
       "       [0.04347826, 0.15217391],\n",
       "       [0.04347826, 0.17391304],\n",
       "       [0.04347826, 0.19565217],\n",
       "       [0.04347826, 0.2173913 ],\n",
       "       [0.06521739, 0.04347826],\n",
       "       [0.06521739, 0.06521739],\n",
       "       [0.06521739, 0.08695652],\n",
       "       [0.06521739, 0.10869565],\n",
       "       [0.06521739, 0.13043478],\n",
       "       [0.06521739, 0.15217391],\n",
       "       [0.06521739, 0.17391304],\n",
       "       [0.06521739, 0.19565217],\n",
       "       [0.06521739, 0.2173913 ],\n",
       "       [0.08695652, 0.04347826],\n",
       "       [0.08695652, 0.06521739],\n",
       "       [0.08695652, 0.08695652],\n",
       "       [0.08695652, 0.10869565],\n",
       "       [0.08695652, 0.13043478],\n",
       "       [0.08695652, 0.15217391],\n",
       "       [0.08695652, 0.17391304],\n",
       "       [0.08695652, 0.19565217],\n",
       "       [0.08695652, 0.2173913 ],\n",
       "       [0.10869565, 0.04347826],\n",
       "       [0.10869565, 0.06521739],\n",
       "       [0.10869565, 0.08695652],\n",
       "       [0.10869565, 0.10869565],\n",
       "       [0.10869565, 0.13043478],\n",
       "       [0.10869565, 0.15217391],\n",
       "       [0.10869565, 0.17391304],\n",
       "       [0.10869565, 0.19565217],\n",
       "       [0.10869565, 0.2173913 ],\n",
       "       [0.13043478, 0.04347826],\n",
       "       [0.13043478, 0.06521739],\n",
       "       [0.13043478, 0.08695652],\n",
       "       [0.13043478, 0.10869565],\n",
       "       [0.13043478, 0.13043478],\n",
       "       [0.13043478, 0.15217391],\n",
       "       [0.13043478, 0.17391304],\n",
       "       [0.13043478, 0.19565217],\n",
       "       [0.13043478, 0.2173913 ],\n",
       "       [0.15217391, 0.04347826],\n",
       "       [0.15217391, 0.06521739],\n",
       "       [0.15217391, 0.08695652],\n",
       "       [0.15217391, 0.10869565],\n",
       "       [0.15217391, 0.13043478],\n",
       "       [0.15217391, 0.15217391],\n",
       "       [0.15217391, 0.17391304],\n",
       "       [0.15217391, 0.19565217],\n",
       "       [0.15217391, 0.2173913 ],\n",
       "       [0.17391304, 0.04347826],\n",
       "       [0.17391304, 0.06521739],\n",
       "       [0.17391304, 0.08695652],\n",
       "       [0.17391304, 0.10869565],\n",
       "       [0.17391304, 0.13043478],\n",
       "       [0.17391304, 0.15217391],\n",
       "       [0.17391304, 0.17391304],\n",
       "       [0.17391304, 0.19565217],\n",
       "       [0.17391304, 0.2173913 ],\n",
       "       [0.19565217, 0.04347826],\n",
       "       [0.19565217, 0.06521739],\n",
       "       [0.19565217, 0.08695652],\n",
       "       [0.19565217, 0.10869565],\n",
       "       [0.19565217, 0.13043478],\n",
       "       [0.19565217, 0.15217391],\n",
       "       [0.19565217, 0.17391304],\n",
       "       [0.19565217, 0.19565217],\n",
       "       [0.19565217, 0.2173913 ],\n",
       "       [0.2173913 , 0.04347826],\n",
       "       [0.2173913 , 0.06521739],\n",
       "       [0.2173913 , 0.08695652],\n",
       "       [0.2173913 , 0.10869565],\n",
       "       [0.2173913 , 0.13043478],\n",
       "       [0.2173913 , 0.15217391],\n",
       "       [0.2173913 , 0.17391304],\n",
       "       [0.2173913 , 0.19565217],\n",
       "       [0.2173913 , 0.2173913 ]])"
      ]
     },
     "execution_count": 92,
     "metadata": {},
     "output_type": "execute_result"
    }
   ],
   "source": [
    "prob = oneCardProbabilities(state)\n",
    "np.array(list(map(np.array,itertools.product(prob,prob))))"
   ]
  },
  {
   "cell_type": "code",
   "execution_count": 134,
   "metadata": {},
   "outputs": [
    {
     "data": {
      "text/plain": [
       "array([[7.18950219e-05, 6.23392158e-01, 5.36118909e-01, 4.58983086e-01,\n",
       "        3.91092877e-01, 6.94962101e-04, 8.64181184e-04, 1.04062577e-03,\n",
       "        1.22154318e-03],\n",
       "       [2.30097998e-04, 5.86788684e-01, 5.02862922e-01, 4.28940575e-01,\n",
       "        3.64107782e-01, 2.21449261e-03, 2.75110885e-03, 3.30960438e-03,\n",
       "        3.88111767e-03],\n",
       "       [5.16600830e-04, 5.43934449e-01, 4.64385244e-01, 3.94567414e-01,\n",
       "        3.33559691e-01, 4.94910668e-03, 6.14228819e-03, 7.38169540e-03,\n",
       "        8.64731809e-03],\n",
       "       [9.54491227e-04, 4.97426885e-01, 4.22979340e-01, 3.57881752e-01,\n",
       "        3.01218046e-01, 9.10035627e-03, 1.12826205e-02, 1.35447474e-02,\n",
       "        1.58495559e-02],\n",
       "       [1.55824690e-03, 4.49343559e-01, 3.80466522e-01, 3.20473994e-01,\n",
       "        2.68465816e-01, 1.47820393e-02, 1.83067282e-02, 2.19524066e-02,\n",
       "        2.56580382e-02],\n",
       "       [2.33454339e-03, 4.01314003e-01, 3.38262822e-01, 2.83568945e-01,\n",
       "        2.36357124e-01, 2.20292741e-02, 2.72505932e-02, 3.26385747e-02,\n",
       "        3.81012823e-02],\n",
       "       [3.28304182e-03, 3.54584531e-01, 2.97439165e-01, 2.48081572e-01,\n",
       "        2.05668813e-01, 3.08073284e-02, 3.80628734e-02, 4.55314603e-02,\n",
       "        5.30831273e-02],\n",
       "       [4.39715647e-03, 3.10076477e-01, 2.58775298e-01, 2.14666823e-01,\n",
       "        1.76946370e-01, 4.10202005e-02, 5.06158970e-02, 6.04672218e-02,\n",
       "        7.03992422e-02],\n",
       "       [5.66480231e-03, 2.68438304e-01, 2.22807880e-01, 1.83763918e-01,\n",
       "        1.50544612e-01, 5.25189558e-02, 6.47163355e-02, 7.72032042e-02,\n",
       "        8.97531327e-02]])"
      ]
     },
     "execution_count": 134,
     "metadata": {},
     "output_type": "execute_result"
    }
   ],
   "source": [
    "twotype(state, numcards, 3, 2, ownCards)"
   ]
  },
  {
   "cell_type": "code",
   "execution_count": 118,
   "metadata": {},
   "outputs": [
    {
     "ename": "TypeError",
     "evalue": "'>' not supported between instances of 'int' and 'list'",
     "output_type": "error",
     "traceback": [
      "\u001b[1;31m---------------------------------------------------------------------------\u001b[0m",
      "\u001b[1;31mTypeError\u001b[0m                                 Traceback (most recent call last)",
      "\u001b[1;32m<ipython-input-118-7149c5d76765>\u001b[0m in \u001b[0;36m<module>\u001b[1;34m()\u001b[0m\n\u001b[1;32m----> 1\u001b[1;33m \u001b[0mmax\u001b[0m\u001b[1;33m(\u001b[0m\u001b[1;33m[\u001b[0m\u001b[1;36m1\u001b[0m\u001b[1;33m,\u001b[0m \u001b[1;36m2\u001b[0m\u001b[1;33m,\u001b[0m \u001b[1;33m-\u001b[0m\u001b[1;36m1\u001b[0m\u001b[1;33m]\u001b[0m\u001b[1;33m,\u001b[0m \u001b[1;36m0\u001b[0m\u001b[1;33m)\u001b[0m\u001b[1;33m\u001b[0m\u001b[0m\n\u001b[0m",
      "\u001b[1;31mTypeError\u001b[0m: '>' not supported between instances of 'int' and 'list'"
     ]
    }
   ],
   "source": [
    " max([1, 2, -1], 0)"
   ]
  },
  {
   "cell_type": "code",
   "execution_count": 121,
   "metadata": {},
   "outputs": [
    {
     "data": {
      "text/plain": [
       "0.0"
      ]
     },
     "execution_count": 121,
     "metadata": {},
     "output_type": "execute_result"
    }
   ],
   "source": [
    "comb(3, -1)"
   ]
  },
  {
   "cell_type": "code",
   "execution_count": null,
   "metadata": {},
   "outputs": [],
   "source": []
  },
  {
   "cell_type": "code",
   "execution_count": 46,
   "metadata": {},
   "outputs": [
    {
     "name": "stdout",
     "output_type": "stream",
     "text": [
      "These are your cards: [4, 2, 7, 2]\n",
      "0.46022490628904633\n",
      "[1, 0, 5, -1, 0.9995835068721368]\n",
      "0.10037484381507707\n",
      "Bluff\n"
     ]
    }
   ],
   "source": [
    "runGame()\n"
   ]
  },
  {
   "cell_type": "code",
   "execution_count": null,
   "metadata": {},
   "outputs": [],
   "source": [
    "dk\n"
   ]
  },
  {
   "cell_type": "code",
   "execution_count": 28,
   "metadata": {},
   "outputs": [
    {
     "data": {
      "text/plain": [
       "[array([0.82182144, 0.82182144, 0.82182144, 0.82182144, 0.82182144,\n",
       "        0.82182144, 0.82182144, 0.82182144, 0.82182144]),\n",
       " array([0.48627712, 0.48627712, 0.48627712, 0.48627712, 0.48627712,\n",
       "        0.48627712, 0.48627712, 0.48627712, 0.48627712]),\n",
       " array([[0.2012416, 0.2012416, 0.2012416, 0.2012416, 0.2012416, 0.2012416,\n",
       "         0.2012416, 0.2012416, 0.2012416],\n",
       "        [0.2012416, 0.2012416, 0.2012416, 0.2012416, 0.2012416, 0.2012416,\n",
       "         0.2012416, 0.2012416, 0.2012416],\n",
       "        [0.2012416, 0.2012416, 0.2012416, 0.2012416, 0.2012416, 0.2012416,\n",
       "         0.2012416, 0.2012416, 0.2012416],\n",
       "        [0.2012416, 0.2012416, 0.2012416, 0.2012416, 0.2012416, 0.2012416,\n",
       "         0.2012416, 0.2012416, 0.2012416],\n",
       "        [0.2012416, 0.2012416, 0.2012416, 0.2012416, 0.2012416, 0.2012416,\n",
       "         0.2012416, 0.2012416, 0.2012416],\n",
       "        [0.2012416, 0.2012416, 0.2012416, 0.2012416, 0.2012416, 0.2012416,\n",
       "         0.2012416, 0.2012416, 0.2012416],\n",
       "        [0.2012416, 0.2012416, 0.2012416, 0.2012416, 0.2012416, 0.2012416,\n",
       "         0.2012416, 0.2012416, 0.2012416],\n",
       "        [0.2012416, 0.2012416, 0.2012416, 0.2012416, 0.2012416, 0.2012416,\n",
       "         0.2012416, 0.2012416, 0.2012416],\n",
       "        [0.2012416, 0.2012416, 0.2012416, 0.2012416, 0.2012416, 0.2012416,\n",
       "         0.2012416, 0.2012416, 0.2012416]]),\n",
       " array([0.19267584, 0.19267584, 0.19267584, 0.19267584, 0.19267584,\n",
       "        0.19267584, 0.19267584, 0.19267584, 0.19267584]),\n",
       " array([[0.0657664, 0.0657664, 0.0657664, 0.0657664, 0.0657664, 0.0657664,\n",
       "         0.0657664, 0.0657664, 0.0657664],\n",
       "        [0.0657664, 0.0657664, 0.0657664, 0.0657664, 0.0657664, 0.0657664,\n",
       "         0.0657664, 0.0657664, 0.0657664],\n",
       "        [0.0657664, 0.0657664, 0.0657664, 0.0657664, 0.0657664, 0.0657664,\n",
       "         0.0657664, 0.0657664, 0.0657664],\n",
       "        [0.0657664, 0.0657664, 0.0657664, 0.0657664, 0.0657664, 0.0657664,\n",
       "         0.0657664, 0.0657664, 0.0657664],\n",
       "        [0.0657664, 0.0657664, 0.0657664, 0.0657664, 0.0657664, 0.0657664,\n",
       "         0.0657664, 0.0657664, 0.0657664],\n",
       "        [0.0657664, 0.0657664, 0.0657664, 0.0657664, 0.0657664, 0.0657664,\n",
       "         0.0657664, 0.0657664, 0.0657664],\n",
       "        [0.0657664, 0.0657664, 0.0657664, 0.0657664, 0.0657664, 0.0657664,\n",
       "         0.0657664, 0.0657664, 0.0657664],\n",
       "        [0.0657664, 0.0657664, 0.0657664, 0.0657664, 0.0657664, 0.0657664,\n",
       "         0.0657664, 0.0657664, 0.0657664],\n",
       "        [0.0657664, 0.0657664, 0.0657664, 0.0657664, 0.0657664, 0.0657664,\n",
       "         0.0657664, 0.0657664, 0.0657664]]),\n",
       " array([0.0458752, 0.0458752, 0.0458752, 0.0458752, 0.0458752, 0.0458752,\n",
       "        0.0458752, 0.0458752, 0.0458752]),\n",
       " array([[0.0023296, 0.0023296, 0.0023296, 0.0023296, 0.0023296, 0.0023296,\n",
       "         0.0023296, 0.0023296, 0.0023296],\n",
       "        [0.0023296, 0.0023296, 0.0023296, 0.0023296, 0.0023296, 0.0023296,\n",
       "         0.0023296, 0.0023296, 0.0023296],\n",
       "        [0.0023296, 0.0023296, 0.0023296, 0.0023296, 0.0023296, 0.0023296,\n",
       "         0.0023296, 0.0023296, 0.0023296],\n",
       "        [0.0023296, 0.0023296, 0.0023296, 0.0023296, 0.0023296, 0.0023296,\n",
       "         0.0023296, 0.0023296, 0.0023296],\n",
       "        [0.0023296, 0.0023296, 0.0023296, 0.0023296, 0.0023296, 0.0023296,\n",
       "         0.0023296, 0.0023296, 0.0023296],\n",
       "        [0.0023296, 0.0023296, 0.0023296, 0.0023296, 0.0023296, 0.0023296,\n",
       "         0.0023296, 0.0023296, 0.0023296],\n",
       "        [0.0023296, 0.0023296, 0.0023296, 0.0023296, 0.0023296, 0.0023296,\n",
       "         0.0023296, 0.0023296, 0.0023296],\n",
       "        [0.0023296, 0.0023296, 0.0023296, 0.0023296, 0.0023296, 0.0023296,\n",
       "         0.0023296, 0.0023296, 0.0023296],\n",
       "        [0.0023296, 0.0023296, 0.0023296, 0.0023296, 0.0023296, 0.0023296,\n",
       "         0.0023296, 0.0023296, 0.0023296]])]"
      ]
     },
     "execution_count": 28,
     "metadata": {},
     "output_type": "execute_result"
    }
   ],
   "source": [
    "allCallProb = [onetype(state, numcards, 1, ownCards), onetype(state, numcards, 2, ownCards), twotype(state, numcards, 2, 2, ownCards), onetype(state, numcards, 3, ownCards), twotype(state, numcards, 3, 2, ownCards), onetype(state, numcards, 4, ownCards), twotype(state, numcards, 4, 3, ownCards)]\n",
    "allCallProb"
   ]
  },
  {
   "cell_type": "code",
   "execution_count": 38,
   "metadata": {},
   "outputs": [
    {
     "name": "stdout",
     "output_type": "stream",
     "text": [
      "[[[0.5  0.5 ]\n",
      "  [0.75 0.75]]\n",
      "\n",
      " [[0.5  0.75]\n",
      "  [0.5  0.75]]]\n"
     ]
    },
    {
     "data": {
      "text/plain": [
       "array([[0.        , 0.        ],\n",
       "       [0.20703125, 0.        ]])"
      ]
     },
     "execution_count": 38,
     "metadata": {},
     "output_type": "execute_result"
    }
   ],
   "source": [
    "twotype(np.array([1, 2]), 4, 3, 2, np.array([3, 0]))\n"
   ]
  },
  {
   "cell_type": "code",
   "execution_count": 30,
   "metadata": {},
   "outputs": [
    {
     "data": {
      "text/plain": [
       "array([2, 8])"
      ]
     },
     "execution_count": 30,
     "metadata": {},
     "output_type": "execute_result"
    }
   ],
   "source": [
    "np.array([1, 2])*np.array([2, 4])"
   ]
  },
  {
   "cell_type": "code",
   "execution_count": null,
   "metadata": {},
   "outputs": [],
   "source": []
  }
 ],
 "metadata": {
  "kernelspec": {
   "display_name": "Python 3",
   "language": "python",
   "name": "python3"
  },
  "language_info": {
   "codemirror_mode": {
    "name": "ipython",
    "version": 3
   },
   "file_extension": ".py",
   "mimetype": "text/x-python",
   "name": "python",
   "nbconvert_exporter": "python",
   "pygments_lexer": "ipython3",
   "version": "3.6.3"
  }
 },
 "nbformat": 4,
 "nbformat_minor": 2
}
