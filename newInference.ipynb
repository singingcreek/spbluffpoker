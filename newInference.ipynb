{
 "cells": [
  {
   "cell_type": "code",
   "execution_count": 24,
   "metadata": {},
   "outputs": [
    {
     "name": "stdout",
     "output_type": "stream",
     "text": [
      "GAME START\n",
      "PC: [1, 3, 12, 11]\n",
      "CC: [7, 8, 9, 6]\n",
      "These are your cards: [1, 3, 12, 11]\n",
      "rounds: 1\n",
      "P1: [1, 0, 2, 0]\n",
      "P1: [1, 0, 2, 0]\n",
      "C1: [1, 0, 6, -1]\n",
      "C1: [1, 0, 6, -1]\n",
      "rounds: 2\n",
      "P2: [1, 0, 12, 0]\n",
      "P2: [1, 0, 12, 0]\n",
      "C2: [2, 0, 6, -1]\n",
      "C2: [2, 0, 6, -1]\n",
      "rounds: 3\n",
      "P3: bluff\n",
      "P3: bluff\n",
      "PC: [1, 3, 12, 11]  CC: [7, 8, 9, 6]\n",
      "GAME END\n",
      "\n"
     ]
    }
   ],
   "source": [
    "runGame()"
   ]
  },
  {
   "cell_type": "code",
   "execution_count": 1,
   "metadata": {},
   "outputs": [],
   "source": [
    "import math\n",
    "#import numpy\n",
    "import autograd.numpy as np\n",
    "import random\n",
    "from autograd import elementwise_grad\n",
    "from scipy.special import comb\n",
    "import itertools"
   ]
  },
  {
   "cell_type": "code",
   "execution_count": 2,
   "metadata": {},
   "outputs": [],
   "source": [
    "import logging\n",
    "import sys"
   ]
  },
  {
   "cell_type": "code",
   "execution_count": 1,
   "metadata": {},
   "outputs": [
    {
     "ename": "NameError",
     "evalue": "name 'logging' is not defined",
     "output_type": "error",
     "traceback": [
      "\u001b[1;31m---------------------------------------------------------------------------\u001b[0m",
      "\u001b[1;31mNameError\u001b[0m                                 Traceback (most recent call last)",
      "\u001b[1;32m<ipython-input-1-d56003b92f8a>\u001b[0m in \u001b[0;36m<module>\u001b[1;34m()\u001b[0m\n\u001b[1;32m----> 1\u001b[1;33m \u001b[0mlogger\u001b[0m \u001b[1;33m=\u001b[0m \u001b[0mlogging\u001b[0m\u001b[1;33m.\u001b[0m\u001b[0mgetLogger\u001b[0m\u001b[1;33m(\u001b[0m\u001b[1;33m)\u001b[0m\u001b[1;33m\u001b[0m\u001b[0m\n\u001b[0m\u001b[0;32m      2\u001b[0m \u001b[1;33m\u001b[0m\u001b[0m\n\u001b[0;32m      3\u001b[0m \u001b[0mlogger\u001b[0m\u001b[1;33m.\u001b[0m\u001b[0msetLevel\u001b[0m\u001b[1;33m(\u001b[0m\u001b[0mlogging\u001b[0m\u001b[1;33m.\u001b[0m\u001b[0mINFO\u001b[0m\u001b[1;33m)\u001b[0m\u001b[1;33m\u001b[0m\u001b[0m\n\u001b[0;32m      4\u001b[0m \u001b[0mfileOut\u001b[0m\u001b[1;33m=\u001b[0m \u001b[0mlogging\u001b[0m\u001b[1;33m.\u001b[0m\u001b[0mFileHandler\u001b[0m\u001b[1;33m(\u001b[0m\u001b[1;34m\"test.txt\"\u001b[0m\u001b[1;33m)\u001b[0m\u001b[1;33m\u001b[0m\u001b[0m\n\u001b[0;32m      5\u001b[0m \u001b[0mfileOut\u001b[0m\u001b[1;33m.\u001b[0m\u001b[0msetLevel\u001b[0m\u001b[1;33m(\u001b[0m\u001b[0mlogging\u001b[0m\u001b[1;33m.\u001b[0m\u001b[0mINFO\u001b[0m\u001b[1;33m)\u001b[0m\u001b[1;33m\u001b[0m\u001b[0m\n",
      "\u001b[1;31mNameError\u001b[0m: name 'logging' is not defined"
     ]
    }
   ],
   "source": [
    "logger = logging.getLogger()\n",
    "\n",
    "logger.setLevel(logging.INFO)\n",
    "fileOut= logging.FileHandler(\"test.txt\")\n",
    "fileOut.setLevel(logging.INFO)\n",
    "#debugInfo = logging.StreamHandler(sys.stdout)\n",
    "#debugInfo.setLevel(logging.DEBUG)\n",
    "#logger.addHandler(debugInfo)\n",
    "logger.addHandler(fileOut)\n"
   ]
  },
  {
   "cell_type": "code",
   "execution_count": 25,
   "metadata": {},
   "outputs": [
    {
     "data": {
      "text/plain": [
       "[<StreamHandler stdout (DEBUG)>,\n",
       " <FileHandler d:\\Users\\willi\\Desktop\\spubunut\\test.txt (INFO)>]"
      ]
     },
     "execution_count": 25,
     "metadata": {},
     "output_type": "execute_result"
    }
   ],
   "source": [
    "logger.handlers\n"
   ]
  },
  {
   "cell_type": "code",
   "execution_count": 5,
   "metadata": {},
   "outputs": [],
   "source": [
    "state = np.array([1.0, 1, 1, 1, 1, 1, 1, 1, 1, 1, 1, 1, 1])\n",
    "numcards = 8\n",
    "ownCards = np.array([0.0, 0, 0, 0, 0, 0, 0, 0, 0, 0, 0, 0, 0])\n",
    "factor = 1\n",
    "bluffEpsilon = 0.1  #remember to implement\n",
    "callsList = np.array([[-1, -1, -1, -1, -1],\n",
    "                  [ 0, -1, -1, -1, -1],\n",
    "                  [ 1, -1,  2, -1, -1],\n",
    "                  [ 3, -1,  4, -1, -1],\n",
    "                  [ 5, -1, -1,  6, -1]])\n",
    "\n",
    "def findCall(num):\n",
    "    for i in range(callsList.size):\n",
    "        for j in range(callsList[0].size):\n",
    "            if callsList[i][j] == num:\n",
    "                return [i, j]\n",
    "\n"
   ]
  },
  {
   "cell_type": "code",
   "execution_count": 6,
   "metadata": {},
   "outputs": [],
   "source": [
    "def oneCardProbabilities(state):\n",
    "    \n",
    "    total = np.sum(state)\n",
    "    oneCardProb = (state+1)/max((total+len(state)),1)\n",
    "    return oneCardProb"
   ]
  },
  {
   "cell_type": "code",
   "execution_count": 7,
   "metadata": {},
   "outputs": [],
   "source": [
    "def twotypeCall(state, numcards, countOne, countTwo, ownCards, typeOne, typeTwo):\n",
    "    \"\"\" Output is a number representing probability of individual call\n",
    "    state vector of size 13\n",
    "    numcards, countOne, countTwo, typeOne, typeTwo numbers\n",
    "    ownCards vector of size 13\n",
    "    \n",
    "    Gets specific call probability from general matrix\n",
    "    \"\"\"\n",
    "    return twotype(state, numcards, countOne, countTwo, ownCards)[typeOne][typeTwo]\n",
    "\n",
    "def twotype(state, numcards, countOne, countTwo, ownCards):\n",
    "    \"\"\" Output is a 13x13 matrix \n",
    "    state vector of size 13\n",
    "    numCards, countOne, countTwo numbers\n",
    "    ownCards vector of size 13\n",
    "    \n",
    "    Converts state to 2x13x13 matrix\n",
    "    \"\"\"\n",
    "\n",
    "    prob = oneCardProbabilities(state)\n",
    "    #probPairs = np.array(np.meshgrid(prob,prob)) # so that it has shape (2,13,13)\n",
    "    probPairs = np.transpose(np.reshape(np.array(list(map(np.array,itertools.product(prob,prob)))),(state.size,state.size,2)),(2,0,1))\n",
    "    \n",
    "             #print(probPairs.shape)\n",
    "#     probabilities = np.zeroes([len(state), len(state)])\n",
    "#     for i in range(len(state)):\n",
    "#         for j in range(len(state)):\n",
    "#             twopairprob(probPairs[i, j], numcards)\n",
    "    \n",
    "    \n",
    "    #probPairs[0] rows, probPairs[1] columns\n",
    "    return twotypeprob(probPairs, numcards, countOne, countTwo, ownCards)\n",
    "\n",
    "def twotypeprob(p, numcards, countCardOne, countCardTwo, ownCards):\n",
    "    \"\"\" Output is a 13x13 matrix. \n",
    "    p.shape=2x13x13 >state made into grid representing pairs\n",
    "    numcards, countCardOne, countCardTwo numbers\n",
    "    ownCards vector of size 13\n",
    "    \n",
    "    Returns matrix representing probabilities of calls\n",
    "    \"\"\"\n",
    "    prob = 0\n",
    "    for i in range(countCardOne, 5):\n",
    "        for j in range(countCardTwo, 5): #one of the reshapes is unnecessary\n",
    "            prob += (comb(numcards, i-ownCards).reshape(ownCards.shape[0], 1) * (p[0])**(i-ownCards).reshape(ownCards.shape[0],1)*\\\n",
    "                     comb(numcards-i+ownCards, j-ownCards).reshape(1,ownCards.shape[0]) * (p[1])**(j-ownCards).reshape(1, ownCards.shape[0])*\\\n",
    "                     (1-(p[0]+p[1]))**(numcards-(i+j-ownCards-ownCards.T)))\n",
    "                    #col*(identicalcols**col)\n",
    "                    # row*(identicalrows**row)\n",
    "                    # 13x13 matrix\n",
    "    return prob\n",
    "            \n",
    "\n",
    "def onetypeCall(state, numcards, count, ownCards, cardType):\n",
    "    return onetype(state, numcards, count, ownCards)[cardType]\n",
    "    \n",
    "def onetype(state, numcards, count, ownCards):\n",
    "    prob = oneCardProbabilities(state)\n",
    "    return onetypeprob(prob, numcards, count, ownCards)\n",
    "    \n",
    "def onetypeprob(p, numcards, countCard, ownCards):\n",
    "    prob = 0\n",
    "    for i in range(countCard, 5):\n",
    "        prob = prob + comb(numcards, i-ownCards)* p**(i-ownCards) * (1-p)**(numcards-i+ownCards)\n",
    "    return prob"
   ]
  },
  {
   "cell_type": "code",
   "execution_count": 8,
   "metadata": {},
   "outputs": [],
   "source": [
    "pgrad = elementwise_grad(twotypeCall)\n",
    "pograd = elementwise_grad(onetypeCall)"
   ]
  },
  {
   "cell_type": "code",
   "execution_count": 9,
   "metadata": {},
   "outputs": [],
   "source": [
    "def updateParameters(call, state, numcards, ownCards):\n",
    "    #for i in range(10):\n",
    "    if(call[1] == 0):\n",
    "       grad = pograd(state, numcards, call[0],  ownCards, call[2])\n",
    "    else:\n",
    "       grad= pgrad(state, numcards, call[0], call[1], ownCards, call[2], call[3])\n",
    "        #state = state + grad/grad.max()/10\n",
    "    logger.debug(np.exp(grad))\n",
    "    logger.debug(grad)\n",
    "    \n",
    "    return state*np.exp((grad))"
   ]
  },
  {
   "cell_type": "code",
   "execution_count": 10,
   "metadata": {},
   "outputs": [],
   "source": [
    "def makeCall(call, state, numcards, ownCards, calls):  #not quite\n",
    "    allCallProb = [onetype(state, numcards, 1, ownCards), onetype(state, numcards, 2, ownCards), twotype(state, numcards, 2, 2, ownCards), onetype(state, numcards, 3, ownCards), twotype(state, numcards, 3, 2, ownCards), onetype(state, numcards, 4, ownCards), twotype(state, numcards, 4, 3, ownCards)]    \n",
    "    ind = calls[call[0]][call[1]]\n",
    "    bestCall = [-1, -1, -1, -1, 0]\n",
    "    for i in range(ind+1, len(allCallProb)):  #call strength\n",
    "        for j in range(allCallProb[i].shape[0]):  #level within call\n",
    "            if len(allCallProb[i].shape) > 1:\n",
    "                for k in range(allCallProb[i][j].shape[0]):\n",
    "                    prob = allCallProb[i][j][k]\n",
    "                    if((prob > bestCall[4] or (prob == bestCall[4] and random.random()>0.5)) and k!=j):\n",
    "                        \n",
    "                        newcall = findCall(i)\n",
    "                        bestCall = [newcall[0], newcall[1], j, k, prob]\n",
    "                    \n",
    "            else:\n",
    "                \n",
    "                prob = allCallProb[i][j]\n",
    "                if(prob > bestCall[4] or (prob == bestCall[4] and random.random()>0.5)):\n",
    "                    newcall = findCall(i)\n",
    "                    bestCall = [newcall[0], newcall[1], j, -1, prob]\n",
    "                    \n",
    "    currLevelProb = allCallProb[ind]\n",
    "    \n",
    "    for i in range(call[2], currLevelProb.shape[0]):\n",
    "        if len(currLevelProb.shape) > 1:\n",
    "            for j in range(currLevelProb.shape[1]):\n",
    "                if(i != call[2] or j > call[3]):\n",
    "                    prob = currLevelProb[i][j]\n",
    "                    if((prob > bestCall[4] or (prob == bestCall[4] and random.random()>0.5)) and i != j):\n",
    "                        \n",
    "                        newcall = findCall(ind)\n",
    "                        \n",
    "                        bestCall = [newcall[0], newcall[1], i, j, prob]\n",
    "        else:\n",
    "            if(i != call[2]):\n",
    "                prob = currLevelProb[i]\n",
    "                if(prob > bestCall[4] or (prob == bestCall[4] and random.random()>0.5)):\n",
    "                    newcall = findCall(ind)\n",
    "                    bestCall = [newcall[0], newcall[1], i, -1, prob]\n",
    "    return bestCall\n",
    "    "
   ]
  },
  {
   "cell_type": "code",
   "execution_count": 11,
   "metadata": {},
   "outputs": [],
   "source": [
    "def makeDecision(call, state, numcards, ownCards, calls, numrounds):\n",
    "    #somewhat unnecessary\n",
    "    allCallProb = [onetype(state, numcards, 1, ownCards), onetype(state, numcards, 2, ownCards), twotype(state, numcards, 2, 2, ownCards), onetype(state, numcards, 3, ownCards), twotype(state, numcards, 3, 2, ownCards), onetype(state, numcards, 4, ownCards), twotype(state, numcards, 4, 3, ownCards)]\n",
    "\n",
    "    ownCall = makeCall(call, state, numcards, ownCards, calls)\n",
    "    oppCallProb = 0\n",
    "    if(call[1] == 0):\n",
    "        oppCallProb = allCallProb[calls[call[0]][call[1]]][call[2]]\n",
    "    else:\n",
    "        \n",
    "        oppCallProb = allCallProb[calls[call[0]][call[1]]][call[2]][call[3]]\n",
    "    logger.debug(\"probability: \" + str(oppCallProb))\n",
    "    oppCallProb = (1-oppCallProb)*(1-0.80**(numrounds//2+1))\n",
    "    logger.debug(oppCallProb)\n",
    "    if ownCall[4] >= oppCallProb:\n",
    "        return 1  #call\n",
    "    else:\n",
    "        return 0  #bluff"
   ]
  },
  {
   "cell_type": "code",
   "execution_count": 12,
   "metadata": {},
   "outputs": [],
   "source": [
    "def runGame():\n",
    "    logToFile(\"GAME START\")\n",
    "    bluffCalled = 0\n",
    "\n",
    "    numPlayerCards = 4\n",
    "    numCpuCards = 4\n",
    "    deckSize = 13\n",
    "    factor = 1\n",
    "    \n",
    "    \n",
    "    deck = [i for i in range(deckSize) for j in range(4)]\n",
    "    random.shuffle(deck)\n",
    "    playerCards=deck[0:4]\n",
    "    cpuCards = deck[4:8]\n",
    "    #playerCards = [12, 0, 6, 3]\n",
    "    #cpuCards = [9, 0, 10, 9]\n",
    "    \n",
    "    logToFile(\"AC: \"+str(playerCards))\n",
    "    logToFile(\"BC: \"+str(cpuCards))\n",
    "    aState = np.array([1.0 for i in range(deckSize)])\n",
    "    bState = np.array([1.0 for i in range(deckSize)])\n",
    "    aCards = np.array([0 for i in range(deckSize)])\n",
    "    bCards = np.array([0 for i in range(deckSize)])\n",
    "    \n",
    "    for i in cpuCards:\n",
    "        ownCards[i] = ownCards[i]+1\n",
    "        \n",
    "    print('These are your cards:', playerCards)\n",
    "    #print(cpuCards)\n",
    "    previousProbs = [0]\n",
    "    numrounds= -1\n",
    "    \n",
    "    while not bluffCalled:\n",
    "        numrounds = numrounds+1\n",
    "        \n",
    "        print(\"rounds: \" + str(numrounds+1))\n",
    "        \n",
    "        \n",
    "        \n",
    "        userIn = input('Make your decision:')\n",
    "        \n",
    "        if(userIn == \"bluff\"):\n",
    "            logToFile(\"P\" + str(numrounds+1)+ \": \" + userIn)\n",
    "            print(\"P\" + str(numrounds+1)+ \": \" + userIn)\n",
    "            \n",
    "            bluffCalled = 1\n",
    "            logging.debug(previousProbs)\n",
    "            break\n",
    "        else:\n",
    "            userIn=userIn.split()\n",
    "            call= np.array([int(userIn[0]), int(userIn[1]), int(userIn[2]), int(userIn[3])])\n",
    "            logToFile(\"P\" + str(numrounds+1)+ \": \" + str([int(userIn[0]), int(userIn[1]), int(userIn[2]), int(userIn[3])]))\n",
    "            print(\"P\" + str(numrounds+1)+ \": \" + str([int(userIn[0]), int(userIn[1]), int(userIn[2]), int(userIn[3])]))\n",
    "      \n",
    "            state= updateParameters(call, state, numPlayerCards, ownCards)\n",
    "           \n",
    "            \n",
    "            \n",
    "            logger.debug(state)\n",
    "            decision = makeDecision(call, state, numPlayerCards, ownCards, callsList, numrounds)\n",
    "            if not decision:\n",
    "                \n",
    "                logToFile(\"C\" + str(numrounds+1)+ \": bluff\")\n",
    "                \n",
    "                print(\"Bluff\")\n",
    "                logging.debug(makeCall(call, state, numPlayerCards, ownCards, callsList))\n",
    "                bluffCalled = 1\n",
    "                \n",
    "            else:\n",
    "                k=makeCall(call, state, numPlayerCards, ownCards, callsList)[0:4]\n",
    "                logToFile(\"C\" + str(numrounds+1)+ \": \"+ str(k))\n",
    "\n",
    "                print(\"C\" + str(numrounds+1)+ \": \"+ str(k))\n",
    "                previousProbs.append(makeCall(call, state, numPlayerCards, ownCards, callsList)[4])\n",
    "                \n",
    "            \n",
    "        \n",
    "            \n",
    "            \n",
    "    print(\"PC: \" + str(playerCards)+\"  CC: \"+ str(cpuCards))\n",
    "    logToFile(\"GAME END\")\n",
    "    logToFile(\"\")"
   ]
  },
  {
   "cell_type": "code",
   "execution_count": 14,
   "metadata": {},
   "outputs": [],
   "source": []
  },
  {
   "cell_type": "code",
   "execution_count": 26,
   "metadata": {},
   "outputs": [
    {
     "name": "stdout",
     "output_type": "stream",
     "text": [
      "These are your cards: [6, 12, 0, 1]\n",
      "[11, 7, 4, 7]\n"
     ]
    }
   ],
   "source": [
    "runGameTwo()"
   ]
  },
  {
   "cell_type": "code",
   "execution_count": 63,
   "metadata": {},
   "outputs": [],
   "source": [
    "def func(x):\n",
    "    logger.info(\"etc\")\n",
    "    print(x**2)\n",
    "    "
   ]
  },
  {
   "cell_type": "code",
   "execution_count": 46,
   "metadata": {},
   "outputs": [
    {
     "name": "stdout",
     "output_type": "stream",
     "text": [
      "etc\n",
      "16\n"
     ]
    }
   ],
   "source": [
    "func(4)"
   ]
  },
  {
   "cell_type": "code",
   "execution_count": null,
   "metadata": {},
   "outputs": [],
   "source": [
    "\n"
   ]
  },
  {
   "cell_type": "code",
   "execution_count": 13,
   "metadata": {},
   "outputs": [],
   "source": [
    "def logToFile(x):\n",
    "    logger.info(x)\n",
    "    "
   ]
  },
  {
   "cell_type": "code",
   "execution_count": 59,
   "metadata": {},
   "outputs": [
    {
     "name": "stdout",
     "output_type": "stream",
     "text": [
      "ads\n"
     ]
    }
   ],
   "source": [
    "logToFile(\"ads\")"
   ]
  },
  {
   "cell_type": "code",
   "execution_count": null,
   "metadata": {},
   "outputs": [],
   "source": []
  }
 ],
 "metadata": {
  "kernelspec": {
   "display_name": "Python 3",
   "language": "python",
   "name": "python3"
  },
  "language_info": {
   "codemirror_mode": {
    "name": "ipython",
    "version": 3
   },
   "file_extension": ".py",
   "mimetype": "text/x-python",
   "name": "python",
   "nbconvert_exporter": "python",
   "pygments_lexer": "ipython3",
   "version": "3.6.3"
  }
 },
 "nbformat": 4,
 "nbformat_minor": 2
}
