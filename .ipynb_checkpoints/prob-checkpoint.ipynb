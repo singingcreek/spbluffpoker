{
 "cells": [
  {
   "cell_type": "code",
   "execution_count": 7,
   "metadata": {},
   "outputs": [],
   "source": [
    "import math\n",
    "\n",
    "def choose(n, r, k):\n",
    "    return math.factorial(n)//math.factorial(r)//math.factorial(k)//math.factorial(n-r-k)\n",
    "MAX = 4"
   ]
  },
  {
   "cell_type": "code",
   "execution_count": 8,
   "metadata": {},
   "outputs": [],
   "source": [
    "#alpha = [1, 2, 3, 4, 5, 6, 7, 8, 9, 10, 11, 12, 13]\n",
    "\n",
    "alpha = [3/2, 3/2, 1, 1, 1, 1, 1, 1, 1, 1, 1, 1, 1]"
   ]
  },
  {
   "cell_type": "code",
   "execution_count": 9,
   "metadata": {},
   "outputs": [],
   "source": [
    "def probTwocards(p1, p2, count1, count2, total): #p1: probability of first card, p2: probability of second, count1: number you want of first, count2: number you want of second, total: total num of cards\n",
    "    max = MAX*2\n",
    "    if count1+count2>max or count1+count2>total:\n",
    "        return 0\n",
    "    elif total > max:\n",
    "        return choose(max, count1, count2)* (p1)**count1*(p2)**count2*(1-(p1+p2))**(max-count1-count2)\n",
    "    else:\n",
    "        return choose(total, count1, count2)* (p1)**count1*(p2)**count2*(1-(p1+p2))**(total-count1-count2)"
   ]
  },
  {
   "cell_type": "code",
   "execution_count": 10,
   "metadata": {},
   "outputs": [],
   "source": [
    "def probOnecard(p, count, num):  #p: probability, count: number you want, num: total number of cards\n",
    "    max = MAX\n",
    "    if count>max or count>num:\n",
    "        return 0\n",
    "    elif num > max:\n",
    "        return choose(max, count, 0)* (p)**count*(1-(p))**(max-count)\n",
    "    else:\n",
    "        return choose(total, count, 0)* (p)**count*(1-(p))**(num-count)"
   ]
  },
  {
   "cell_type": "code",
   "execution_count": 11,
   "metadata": {},
   "outputs": [],
   "source": [
    "def twotype(count1, count2, card1, card2, num, alpha): #count: number you want, card: card index, num: number of cards\n",
    "    p1 = (alpha[card1] + 1)/(sum(alpha)+1)\n",
    "    p2 = (alpha[card2] + 1)/(sum(alpha)+1) \n",
    "    prob = 0\n",
    "    for i in range(count1, 5):\n",
    "        for j in range(count2, 5):\n",
    "            prob = prob + probTwocards(p1, p2, i, j, num)\n",
    "    \n",
    "    return prob"
   ]
  },
  {
   "cell_type": "code",
   "execution_count": 12,
   "metadata": {},
   "outputs": [],
   "source": [
    "def onetype(count, card, num, p):\n",
    "    prob=0\n",
    "    for i in range(count, 5):\n",
    "        prob = prob+probOnecard(p, i, num)\n",
    "    return prob"
   ]
  },
  {
   "cell_type": "code",
   "execution_count": 1,
   "metadata": {},
   "outputs": [],
   "source": [
    "def straight(card, num, alpha):\n",
    "    return 0"
   ]
  },
  {
   "cell_type": "code",
   "execution_count": 13,
   "metadata": {},
   "outputs": [
    {
     "data": {
      "text/plain": [
       "0.05230000000000001"
      ]
     },
     "execution_count": 13,
     "metadata": {},
     "output_type": "execute_result"
    }
   ],
   "source": [
    "onetype(2, 1, 10, 0.1)"
   ]
  },
  {
   "cell_type": "code",
   "execution_count": 15,
   "metadata": {},
   "outputs": [
    {
     "data": {
      "text/plain": [
       "0.05230000000000001"
      ]
     },
     "execution_count": 15,
     "metadata": {},
     "output_type": "execute_result"
    }
   ],
   "source": [
    "onetype(2, 1, 8, 0.1)"
   ]
  },
  {
   "cell_type": "code",
   "execution_count": 135,
   "metadata": {},
   "outputs": [
    {
     "data": {
      "text/plain": [
       "0.9375"
      ]
     },
     "execution_count": 135,
     "metadata": {},
     "output_type": "execute_result"
    }
   ],
   "source": [
    "probOnecard(0.5, 1, 10)+probOnecard(0.5, 2, 10)+probOnecard(0.5, 3, 10)+probOnecard(0.5, 4, 10)"
   ]
  },
  {
   "cell_type": "code",
   "execution_count": 141,
   "metadata": {},
   "outputs": [
    {
     "data": {
      "text/plain": [
       "0.03196666783375933"
      ]
     },
     "execution_count": 141,
     "metadata": {},
     "output_type": "execute_result"
    }
   ],
   "source": [
    "onetype(2, 10, 10, 1/13)"
   ]
  },
  {
   "cell_type": "code",
   "execution_count": 142,
   "metadata": {},
   "outputs": [
    {
     "data": {
      "text/plain": [
       "0.6555020442636058"
      ]
     },
     "execution_count": 142,
     "metadata": {},
     "output_type": "execute_result"
    }
   ],
   "source": [
    "(1-0.03196666783375933)**13"
   ]
  },
  {
   "cell_type": "code",
   "execution_count": 112,
   "metadata": {},
   "outputs": [
    {
     "data": {
      "text/plain": [
       "1"
      ]
     },
     "execution_count": 112,
     "metadata": {},
     "output_type": "execute_result"
    }
   ],
   "source": []
  },
  {
   "cell_type": "code",
   "execution_count": null,
   "metadata": {},
   "outputs": [],
   "source": []
  }
 ],
 "metadata": {
  "kernelspec": {
   "display_name": "Python 3",
   "language": "python",
   "name": "python3"
  },
  "language_info": {
   "codemirror_mode": {
    "name": "ipython",
    "version": 3
   },
   "file_extension": ".py",
   "mimetype": "text/x-python",
   "name": "python",
   "nbconvert_exporter": "python",
   "pygments_lexer": "ipython3",
   "version": "3.6.3"
  }
 },
 "nbformat": 4,
 "nbformat_minor": 2
}
